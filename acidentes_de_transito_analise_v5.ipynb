{
  "cells": [
    {
      "cell_type": "markdown",
      "id": "9364abc5",
      "metadata": {
        "id": "9364abc5"
      },
      "source": [
        "# 1. PREPARAÇÃO"
      ]
    },
    {
      "cell_type": "markdown",
      "id": "e615e5ed",
      "metadata": {
        "id": "e615e5ed"
      },
      "source": [
        "## 1.1 Importação de Bibliotecas\n",
        "\n",
        "Importar todas as bibliotecas de análise de dados, visualização, pré-processamento, modelagem, métricas e explicabilidade."
      ]
    },
    {
      "cell_type": "code",
      "execution_count": null,
      "id": "4700ebf4",
      "metadata": {
        "id": "4700ebf4"
      },
      "outputs": [],
      "source": [
        "import pandas as pd\n",
        "import numpy as np\n",
        "import seaborn as sns\n",
        "import matplotlib.pyplot as plt\n",
        "from sklearn.impute import KNNImputer\n",
        "from sklearn.preprocessing import StandardScaler, OneHotEncoder, OrdinalEncoder, MinMaxScaler\n",
        "from sklearn.pipeline import Pipeline\n",
        "from sklearn.compose import ColumnTransformer\n",
        "import json\n",
        "import joblib\n",
        "import sklearn\n",
        "from pathlib import Path\n",
        "from datetime import datetime\n",
        "\n",
        "from sklearn.feature_selection import RFE, SelectFromModel\n",
        "from sklearn.linear_model import LogisticRegression\n",
        "from sklearn.ensemble import RandomForestClassifier\n",
        "from sklearn.decomposition import PCA\n",
        "from sklearn.tree import DecisionTreeClassifier\n",
        "from sklearn.neighbors import KNeighborsClassifier\n",
        "from sklearn.model_selection import train_test_split, cross_val_score, StratifiedKFold\n",
        "from sklearn.model_selection import StratifiedKFold, GridSearchCV, RandomizedSearchCV, train_test_split\n",
        "from sklearn.pipeline import Pipeline\n",
        "from sklearn.metrics import accuracy_score, roc_auc_score\n",
        "from sklearn.model_selection import cross_val_score, StratifiedKFold\n",
        "from sklearn.metrics import classification_report\n",
        "from sklearn.pipeline import Pipeline\n",
        "from sklearn.metrics import roc_auc_score, ConfusionMatrixDisplay\n",
        "from sklearn.metrics import accuracy_score, classification_report\n",
        "\n",
        "from scipy.stats import chi2_contingency\n",
        "from scipy.stats import loguniform, randint\n",
        "\n",
        "\n"
      ]
    },
    {
      "cell_type": "markdown",
      "id": "20a21179",
      "metadata": {
        "id": "20a21179"
      },
      "source": [
        "## 1.2 Carregamento da Base\n",
        "\n",
        "Ler os dados do dataset.\n",
        "\n",
        "Conferir colunas, tipos de variáveis e a coluna alvo (gravidade)."
      ]
    },
    {
      "cell_type": "code",
      "execution_count": null,
      "id": "4a908495",
      "metadata": {
        "colab": {
          "base_uri": "https://localhost:8080/",
          "height": 395
        },
        "id": "4a908495",
        "outputId": "71a64704-f08f-4523-dc37-5464c4fad5a3"
      },
      "outputs": [
        {
          "name": "stdout",
          "output_type": "stream",
          "text": [
            "✅ Dataset carregado: (2009408, 30)\n"
          ]
        },
        {
          "data": {
            "application/vnd.microsoft.datawrangler.viewer.v0+json": {
              "columns": [
                {
                  "name": "index",
                  "rawType": "int64",
                  "type": "integer"
                },
                {
                  "name": "data_hora",
                  "rawType": "datetime64[ns]",
                  "type": "datetime"
                },
                {
                  "name": "ano",
                  "rawType": "Int64",
                  "type": "integer"
                },
                {
                  "name": "hora",
                  "rawType": "int64",
                  "type": "integer"
                },
                {
                  "name": "dia_semana",
                  "rawType": "category",
                  "type": "unknown"
                },
                {
                  "name": "uf",
                  "rawType": "object",
                  "type": "string"
                },
                {
                  "name": "rodovia",
                  "rawType": "Int64",
                  "type": "integer"
                },
                {
                  "name": "km",
                  "rawType": "float64",
                  "type": "float"
                },
                {
                  "name": "municipio",
                  "rawType": "object",
                  "type": "string"
                },
                {
                  "name": "causa_acidente",
                  "rawType": "category",
                  "type": "unknown"
                },
                {
                  "name": "tipo_acidente",
                  "rawType": "category",
                  "type": "unknown"
                },
                {
                  "name": "classificacao_acidente",
                  "rawType": "category",
                  "type": "unknown"
                },
                {
                  "name": "fase_dia",
                  "rawType": "category",
                  "type": "unknown"
                },
                {
                  "name": "sentido_via",
                  "rawType": "category",
                  "type": "unknown"
                },
                {
                  "name": "condicao_metereologica",
                  "rawType": "category",
                  "type": "unknown"
                },
                {
                  "name": "tipo_pista",
                  "rawType": "category",
                  "type": "unknown"
                },
                {
                  "name": "tracado_via",
                  "rawType": "category",
                  "type": "unknown"
                },
                {
                  "name": "uso_solo",
                  "rawType": "category",
                  "type": "unknown"
                },
                {
                  "name": "pessoas",
                  "rawType": "Int64",
                  "type": "integer"
                },
                {
                  "name": "mortos",
                  "rawType": "Int64",
                  "type": "integer"
                },
                {
                  "name": "feridos_leves",
                  "rawType": "Int64",
                  "type": "integer"
                },
                {
                  "name": "feridos_graves",
                  "rawType": "Int64",
                  "type": "integer"
                },
                {
                  "name": "ilesos",
                  "rawType": "Int64",
                  "type": "integer"
                },
                {
                  "name": "ignorados",
                  "rawType": "Int64",
                  "type": "integer"
                },
                {
                  "name": "feridos",
                  "rawType": "Int64",
                  "type": "integer"
                },
                {
                  "name": "veiculos",
                  "rawType": "Int64",
                  "type": "integer"
                },
                {
                  "name": "latitude",
                  "rawType": "float64",
                  "type": "float"
                },
                {
                  "name": "longitude",
                  "rawType": "float64",
                  "type": "float"
                },
                {
                  "name": "ambiguidade_uf",
                  "rawType": "object",
                  "type": "unknown"
                },
                {
                  "name": "nome_feriado",
                  "rawType": "object",
                  "type": "unknown"
                },
                {
                  "name": "eh_feriado",
                  "rawType": "bool",
                  "type": "boolean"
                }
              ],
              "ref": "865aba12-2f8e-4525-8f65-f35cfac1799f",
              "rows": [
                [
                  "0",
                  "2010-10-29 14:20:00",
                  "2010",
                  "14",
                  "Sexta",
                  "RS",
                  "285",
                  "397.3",
                  "Santa Bárbara do Sul",
                  "Condução/manobra inadequada",
                  "Saída de pista",
                  "Sem vítimas",
                  "Pleno dia",
                  "Crescente",
                  "Chuva",
                  "Simples",
                  "Curva",
                  "Rural",
                  "5",
                  "0",
                  "0",
                  "0",
                  "5",
                  "0",
                  "0",
                  "1",
                  "-28.381611028962457",
                  "-53.306780240472705",
                  null,
                  null,
                  "False"
                ],
                [
                  "1",
                  "2010-12-14 22:00:00",
                  "2010",
                  "22",
                  "Terça",
                  "SP",
                  "116",
                  "406.5",
                  "Miracatu",
                  "Outras",
                  "Colisão com objeto",
                  "Sem vítimas",
                  "Plena noite",
                  "Crescente",
                  "Chuva",
                  "Dupla",
                  "Reta",
                  "Rural",
                  "1",
                  "0",
                  "0",
                  "0",
                  "1",
                  "0",
                  "0",
                  "1",
                  "-24.331014448248098",
                  "-47.628864879227216",
                  null,
                  null,
                  "False"
                ],
                [
                  "2",
                  "2010-03-07 16:00:00",
                  "2010",
                  "16",
                  "Domingo",
                  "BA",
                  "407",
                  "220.8",
                  "Capim Grosso",
                  "Condução/manobra inadequada",
                  "Capotamento",
                  "Com vítimas feridas",
                  "Pleno dia",
                  "Decrescente",
                  "Chuva",
                  "Simples",
                  "Reta",
                  "Rural",
                  "3",
                  "0",
                  "0",
                  "2",
                  "1",
                  "0",
                  "2",
                  "1",
                  "-11.276965642233929",
                  "-40.02210323890744",
                  null,
                  null,
                  "False"
                ],
                [
                  "3",
                  "2010-10-26 14:20:00",
                  "2010",
                  "14",
                  "Terça",
                  "BA",
                  "116",
                  "567.0",
                  "Nova Itarana",
                  "Outras",
                  "Colisão com objeto",
                  "Sem vítimas",
                  "Pleno dia",
                  "Crescente",
                  "Céu claro",
                  "Múltipla",
                  "Reta",
                  "Rural",
                  "1",
                  "0",
                  "0",
                  "0",
                  "1",
                  "0",
                  "0",
                  "1",
                  "-12.986252306483223",
                  "-39.944143718269984",
                  null,
                  null,
                  "False"
                ],
                [
                  "4",
                  "2010-09-15 12:30:00",
                  "2010",
                  "12",
                  "Quarta",
                  "SE",
                  "101",
                  "107.0",
                  "São Cristóvão",
                  "Comportamento do condutor",
                  "Colisão com objeto",
                  "Com vítimas feridas",
                  "Pleno dia",
                  "Decrescente",
                  "Céu claro",
                  "Simples",
                  "Reta",
                  "Rural",
                  "2",
                  "0",
                  "2",
                  "0",
                  "0",
                  "0",
                  "2",
                  "1",
                  "-10.96046965238523",
                  "-37.25352159398636",
                  null,
                  null,
                  "False"
                ]
              ],
              "shape": {
                "columns": 30,
                "rows": 5
              }
            },
            "text/html": [
              "<div>\n",
              "<style scoped>\n",
              "    .dataframe tbody tr th:only-of-type {\n",
              "        vertical-align: middle;\n",
              "    }\n",
              "\n",
              "    .dataframe tbody tr th {\n",
              "        vertical-align: top;\n",
              "    }\n",
              "\n",
              "    .dataframe thead th {\n",
              "        text-align: right;\n",
              "    }\n",
              "</style>\n",
              "<table border=\"1\" class=\"dataframe\">\n",
              "  <thead>\n",
              "    <tr style=\"text-align: right;\">\n",
              "      <th></th>\n",
              "      <th>data_hora</th>\n",
              "      <th>ano</th>\n",
              "      <th>hora</th>\n",
              "      <th>dia_semana</th>\n",
              "      <th>uf</th>\n",
              "      <th>rodovia</th>\n",
              "      <th>km</th>\n",
              "      <th>municipio</th>\n",
              "      <th>causa_acidente</th>\n",
              "      <th>tipo_acidente</th>\n",
              "      <th>...</th>\n",
              "      <th>feridos_graves</th>\n",
              "      <th>ilesos</th>\n",
              "      <th>ignorados</th>\n",
              "      <th>feridos</th>\n",
              "      <th>veiculos</th>\n",
              "      <th>latitude</th>\n",
              "      <th>longitude</th>\n",
              "      <th>ambiguidade_uf</th>\n",
              "      <th>nome_feriado</th>\n",
              "      <th>eh_feriado</th>\n",
              "    </tr>\n",
              "  </thead>\n",
              "  <tbody>\n",
              "    <tr>\n",
              "      <th>0</th>\n",
              "      <td>2010-10-29 14:20:00</td>\n",
              "      <td>2010</td>\n",
              "      <td>14</td>\n",
              "      <td>Sexta</td>\n",
              "      <td>RS</td>\n",
              "      <td>285</td>\n",
              "      <td>397.3</td>\n",
              "      <td>Santa Bárbara do Sul</td>\n",
              "      <td>Condução/manobra inadequada</td>\n",
              "      <td>Saída de pista</td>\n",
              "      <td>...</td>\n",
              "      <td>0</td>\n",
              "      <td>5</td>\n",
              "      <td>0</td>\n",
              "      <td>0</td>\n",
              "      <td>1</td>\n",
              "      <td>-28.381611</td>\n",
              "      <td>-53.306780</td>\n",
              "      <td>None</td>\n",
              "      <td>None</td>\n",
              "      <td>False</td>\n",
              "    </tr>\n",
              "    <tr>\n",
              "      <th>1</th>\n",
              "      <td>2010-12-14 22:00:00</td>\n",
              "      <td>2010</td>\n",
              "      <td>22</td>\n",
              "      <td>Terça</td>\n",
              "      <td>SP</td>\n",
              "      <td>116</td>\n",
              "      <td>406.5</td>\n",
              "      <td>Miracatu</td>\n",
              "      <td>Outras</td>\n",
              "      <td>Colisão com objeto</td>\n",
              "      <td>...</td>\n",
              "      <td>0</td>\n",
              "      <td>1</td>\n",
              "      <td>0</td>\n",
              "      <td>0</td>\n",
              "      <td>1</td>\n",
              "      <td>-24.331014</td>\n",
              "      <td>-47.628865</td>\n",
              "      <td>None</td>\n",
              "      <td>None</td>\n",
              "      <td>False</td>\n",
              "    </tr>\n",
              "    <tr>\n",
              "      <th>2</th>\n",
              "      <td>2010-03-07 16:00:00</td>\n",
              "      <td>2010</td>\n",
              "      <td>16</td>\n",
              "      <td>Domingo</td>\n",
              "      <td>BA</td>\n",
              "      <td>407</td>\n",
              "      <td>220.8</td>\n",
              "      <td>Capim Grosso</td>\n",
              "      <td>Condução/manobra inadequada</td>\n",
              "      <td>Capotamento</td>\n",
              "      <td>...</td>\n",
              "      <td>2</td>\n",
              "      <td>1</td>\n",
              "      <td>0</td>\n",
              "      <td>2</td>\n",
              "      <td>1</td>\n",
              "      <td>-11.276966</td>\n",
              "      <td>-40.022103</td>\n",
              "      <td>None</td>\n",
              "      <td>None</td>\n",
              "      <td>False</td>\n",
              "    </tr>\n",
              "    <tr>\n",
              "      <th>3</th>\n",
              "      <td>2010-10-26 14:20:00</td>\n",
              "      <td>2010</td>\n",
              "      <td>14</td>\n",
              "      <td>Terça</td>\n",
              "      <td>BA</td>\n",
              "      <td>116</td>\n",
              "      <td>567.0</td>\n",
              "      <td>Nova Itarana</td>\n",
              "      <td>Outras</td>\n",
              "      <td>Colisão com objeto</td>\n",
              "      <td>...</td>\n",
              "      <td>0</td>\n",
              "      <td>1</td>\n",
              "      <td>0</td>\n",
              "      <td>0</td>\n",
              "      <td>1</td>\n",
              "      <td>-12.986252</td>\n",
              "      <td>-39.944144</td>\n",
              "      <td>None</td>\n",
              "      <td>None</td>\n",
              "      <td>False</td>\n",
              "    </tr>\n",
              "    <tr>\n",
              "      <th>4</th>\n",
              "      <td>2010-09-15 12:30:00</td>\n",
              "      <td>2010</td>\n",
              "      <td>12</td>\n",
              "      <td>Quarta</td>\n",
              "      <td>SE</td>\n",
              "      <td>101</td>\n",
              "      <td>107.0</td>\n",
              "      <td>São Cristóvão</td>\n",
              "      <td>Comportamento do condutor</td>\n",
              "      <td>Colisão com objeto</td>\n",
              "      <td>...</td>\n",
              "      <td>0</td>\n",
              "      <td>0</td>\n",
              "      <td>0</td>\n",
              "      <td>2</td>\n",
              "      <td>1</td>\n",
              "      <td>-10.960470</td>\n",
              "      <td>-37.253522</td>\n",
              "      <td>None</td>\n",
              "      <td>None</td>\n",
              "      <td>False</td>\n",
              "    </tr>\n",
              "  </tbody>\n",
              "</table>\n",
              "<p>5 rows × 30 columns</p>\n",
              "</div>"
            ],
            "text/plain": [
              "            data_hora   ano  hora dia_semana  uf  rodovia     km  \\\n",
              "0 2010-10-29 14:20:00  2010    14      Sexta  RS      285  397.3   \n",
              "1 2010-12-14 22:00:00  2010    22      Terça  SP      116  406.5   \n",
              "2 2010-03-07 16:00:00  2010    16    Domingo  BA      407  220.8   \n",
              "3 2010-10-26 14:20:00  2010    14      Terça  BA      116  567.0   \n",
              "4 2010-09-15 12:30:00  2010    12     Quarta  SE      101  107.0   \n",
              "\n",
              "              municipio               causa_acidente       tipo_acidente  ...  \\\n",
              "0  Santa Bárbara do Sul  Condução/manobra inadequada      Saída de pista  ...   \n",
              "1              Miracatu                       Outras  Colisão com objeto  ...   \n",
              "2          Capim Grosso  Condução/manobra inadequada         Capotamento  ...   \n",
              "3          Nova Itarana                       Outras  Colisão com objeto  ...   \n",
              "4         São Cristóvão    Comportamento do condutor  Colisão com objeto  ...   \n",
              "\n",
              "  feridos_graves ilesos ignorados feridos veiculos   latitude  longitude  \\\n",
              "0              0      5         0       0        1 -28.381611 -53.306780   \n",
              "1              0      1         0       0        1 -24.331014 -47.628865   \n",
              "2              2      1         0       2        1 -11.276966 -40.022103   \n",
              "3              0      1         0       0        1 -12.986252 -39.944144   \n",
              "4              0      0         0       2        1 -10.960470 -37.253522   \n",
              "\n",
              "   ambiguidade_uf  nome_feriado  eh_feriado  \n",
              "0            None          None       False  \n",
              "1            None          None       False  \n",
              "2            None          None       False  \n",
              "3            None          None       False  \n",
              "4            None          None       False  \n",
              "\n",
              "[5 rows x 30 columns]"
            ]
          },
          "metadata": {},
          "output_type": "display_data"
        }
      ],
      "source": [
        "PATH_ARQUIVO_ORIGINAL = \"acidentes_enriquecidos.parquet\"\n",
        "\n",
        "if PATH_ARQUIVO_ORIGINAL.endswith(\".parquet\"):\n",
        "    df = pd.read_parquet(PATH_ARQUIVO_ORIGINAL)\n",
        "elif PATH_ARQUIVO_ORIGINAL.endswith(\".csv\"):\n",
        "    try:\n",
        "        df = pd.read_csv(PATH_ARQUIVO_ORIGINAL, sep=\";\", encoding=\"latin-1\", low_memory=False)\n",
        "    except Exception:\n",
        "        df = pd.read_csv(PATH_ARQUIVO_ORIGINAL, sep=\",\", encoding=\"utf-8\", low_memory=False)\n",
        "else:\n",
        "    raise ValueError(\"Formato de arquivo não suportado. Use .csv ou .parquet\")\n",
        "\n",
        "print(\"Dataset carregado:\", df.shape)\n",
        "display(df.head())"
      ]
    },
    {
      "cell_type": "code",
      "execution_count": null,
      "id": "sbd9WndrJ1Ha",
      "metadata": {
        "id": "sbd9WndrJ1Ha"
      },
      "outputs": [],
      "source": [
        "df_acidentes = df"
      ]
    },
    {
      "cell_type": "markdown",
      "id": "75e473c7",
      "metadata": {
        "id": "75e473c7"
      },
      "source": [
        "## 1.3 Declaração de variáveis e funções\n",
        "\n",
        "Declarar funções que serão utilizadas no decorrer da análise"
      ]
    },
    {
      "cell_type": "code",
      "execution_count": null,
      "id": "009a9615",
      "metadata": {
        "id": "009a9615"
      },
      "outputs": [],
      "source": [
        "TARGET = 'classificacao_acidente'  # Variável alvo\n",
        "PATH_ARQUIVO_ORGINAL = 'datasets/acidentes_enriquecidos.parquet'\n",
        "TESTE_SIZE = 0.2\n",
        "RANDOM_STATE = 42\n"
      ]
    },
    {
      "cell_type": "code",
      "execution_count": null,
      "id": "d4975189",
      "metadata": {
        "id": "d4975189"
      },
      "outputs": [],
      "source": [
        "def obter_nulos(df):\n",
        "    \"\"\"Retorna um DataFrame com a contagem e proporção de valores nulos por coluna.\"\"\"\n",
        "    soma = df.isna().sum().sort_values(ascending=False).head(10)\n",
        "    linhas = len(df)\n",
        "\n",
        "    def decidir_impacto(linha):\n",
        "        \"\"\"Decide a ação a ser tomada de acordo com o impacto.\"\"\"\n",
        "        if linha['proporcao'] > 0.3:\n",
        "            return 'alto'\n",
        "        elif linha['proporcao'] > 0.05:\n",
        "            return 'médio'\n",
        "        elif linha['proporcao'] > 0:\n",
        "            return 'baixo'\n",
        "        else:\n",
        "            return 'nenhum'\n",
        "\n",
        "    df_nulos = pd.DataFrame({'quantidade': soma, 'proporcao': soma/linhas})\n",
        "\n",
        "    df_nulos['impacto'] = df_nulos.apply(decidir_impacto, axis=1)\n",
        "\n",
        "    return df_nulos\n",
        "\n",
        "def remover_nulos(df, df_nulos):\n",
        "    \"\"\"Remove nulos de acordo com o impacto.\"\"\"\n",
        "    df_result = df.copy()\n",
        "\n",
        "    alto_impacto_cols = df_nulos[df_nulos['impacto'] == 'alto'].index\n",
        "    df_result = df_result.drop(columns=alto_impacto_cols, axis=1)\n",
        "\n",
        "    return df_result\n",
        "\n"
      ]
    },
    {
      "cell_type": "code",
      "execution_count": null,
      "id": "6a60b1d7",
      "metadata": {
        "id": "6a60b1d7"
      },
      "outputs": [],
      "source": [
        "def identificar_e_reportar_outliers(df, colunas):\n",
        "    \"\"\"\n",
        "    Identifica e reporta a quantidade total e a proporção de linhas\n",
        "    que contêm outliers em qualquer uma das colunas especificadas.\n",
        "\n",
        "    Args:\n",
        "        df (pd.DataFrame): O DataFrame para análise.\n",
        "        colunas (list): Lista de nomes de colunas numéricas para verificar.\n",
        "\n",
        "    Returns:\n",
        "        list: Uma lista de índices únicos correspondentes às linhas que\n",
        "              contêm pelo menos um outlier.\n",
        "    \"\"\"\n",
        "    print(\"\\n--- Análise de Outliers pelo Método IQR ---\")\n",
        "    # Usar um set para armazenar os índices garante que não haverá duplicatas\n",
        "    outliers_indices = set()\n",
        "\n",
        "    for coluna in colunas:\n",
        "        # Garante que a coluna é numérica antes de calcular\n",
        "        if not pd.api.types.is_numeric_dtype(df[coluna]):\n",
        "            print(f\"Coluna: '{coluna}' | Ignorada (não é numérica).\")\n",
        "            continue\n",
        "\n",
        "        q1 = df[coluna].quantile(0.25)\n",
        "        q3 = df[coluna].quantile(0.75)\n",
        "        iqr = q3 - q1\n",
        "        limite_inferior = q1 - 1.5 * iqr\n",
        "        limite_superior = q3 + 1.5 * iqr\n",
        "\n",
        "        # Identifica os índices dos outliers para a coluna atual\n",
        "        outliers_coluna = df[(df[coluna] < limite_inferior) | (df[coluna] > limite_superior)].index\n",
        "\n",
        "        # Adiciona os índices encontrados ao conjunto geral\n",
        "        outliers_indices.update(outliers_coluna)\n",
        "\n",
        "    # Relatório final após varrer todas as colunas\n",
        "    qtd_outliers = len(outliers_indices)\n",
        "    proporcao = qtd_outliers / len(df) if len(df) > 0 else 0\n",
        "\n",
        "    print(f\"\\nTotal de {qtd_outliers} linhas ({proporcao:.2%}) com pelo menos um outlier detectado.\")\n",
        "    if proporcao > 0.05:\n",
        "        print(\"Atenção: A proporção de outliers é significativa. Melhor não remover.\")\n",
        "\n",
        "    return sorted(list(outliers_indices))"
      ]
    },
    {
      "cell_type": "code",
      "execution_count": null,
      "id": "9179a5dc",
      "metadata": {
        "id": "9179a5dc"
      },
      "outputs": [],
      "source": [
        "def remover_duplicatas(df, subset=None, keep='first'):\n",
        "    \"\"\"Remove linhas duplicadas de um DataFrame.\"\"\"\n",
        "    num_duplicatas = df.duplicated(subset=subset).sum()\n",
        "    if num_duplicatas > 0:\n",
        "        print(f\"Linhas duplicadas: {num_duplicatas}.\")\n",
        "        df_limpo = df.drop_duplicates(subset=subset, keep=keep)\n",
        "        return df_limpo\n",
        "    else:\n",
        "        print(\"Nenhuma duplicata para remover.\")\n",
        "        return df"
      ]
    },
    {
      "cell_type": "code",
      "execution_count": null,
      "id": "b6d06ef2",
      "metadata": {
        "id": "b6d06ef2"
      },
      "outputs": [],
      "source": [
        "def cramers_v(confusion_matrix):\n",
        "    \"\"\"Calcula o V de Cramer a partir de uma tabela de contingência.\"\"\"\n",
        "    chi2 = chi2_contingency(confusion_matrix, correction=False)[0]\n",
        "    n = confusion_matrix.sum().sum()\n",
        "    phi2 = chi2 / n\n",
        "    r, k = confusion_matrix.shape\n",
        "    phi2corr = max(0, phi2 - ((k-1)*(r-1))/(n-1))\n",
        "    rcorr = r - ((r-1)**2)/(n-1)\n",
        "    kcorr = k - ((k-1)**2)/(n-1)\n",
        "    return np.sqrt(phi2corr / min((kcorr-1), (rcorr-1)))\n",
        "\n",
        "def cramers_v_for_all(df, target):\n",
        "    results = {}\n",
        "    cat_cols = df.select_dtypes(include=[\"object\",\"category\"]).columns.drop(target, errors=\"ignore\")\n",
        "\n",
        "    for col in cat_cols:\n",
        "        confusion = pd.crosstab(df[col], df[target])\n",
        "        v = cramers_v(confusion)\n",
        "        results[col] = v\n",
        "\n",
        "    return pd.Series(results).sort_values(ascending=False)"
      ]
    },
    {
      "cell_type": "markdown",
      "id": "af06c824",
      "metadata": {
        "id": "af06c824"
      },
      "source": [
        "# 2 LIMPEZA E PRÉ-PROCESSAMENTO\n",
        "## 2.1 Análise inicial de valores ausentes\n",
        "\n",
        "Calcular total e porcentagem de nulos por variável.\n",
        "\n",
        "Classificar impacto: baixo (<5%), médio (5–30%) e alto (>30%).\n",
        "\n",
        "Decidir: imputar, prever com outro dataset (merge) ou descartar variável.\n",
        "\n",
        "Justificativa: garante rastreabilidade e mostra criticidade dos nulos.\n"
      ]
    },
    {
      "cell_type": "markdown",
      "id": "9a05f187",
      "metadata": {
        "id": "9a05f187"
      },
      "source": [
        "`nome_feriado` e `ambiguidade_uf` podem ser deletadas."
      ]
    },
    {
      "cell_type": "code",
      "execution_count": null,
      "id": "925ed18f",
      "metadata": {
        "id": "925ed18f"
      },
      "outputs": [],
      "source": [
        "df_nulos = obter_nulos(df_acidentes)\n",
        "df_nulos.style.format({'proporcao': '{:.4%}'})\n",
        "df_acidentes_limpo = remover_nulos(df_acidentes, df_nulos)\n"
      ]
    },
    {
      "cell_type": "markdown",
      "id": "3ae5c1c7",
      "metadata": {
        "id": "3ae5c1c7"
      },
      "source": [
        "## 2.2 Tratamento de inconsistências e outliers\n",
        "\n",
        "Detectar outliers estatísticos (IQR, Z-Score).\n",
        "\n",
        "Verificar outliers contextuais (ex: velocidade = 300 km/h, datas no futuro).\n",
        "\n",
        "Criar tabela de padronização para categorias divergentes (“chuvisco” = “chuva leve”).\n",
        "\n",
        "Justificativa: evita que erros de digitação ou dados ilógicos contaminem o modelo.\n"
      ]
    },
    {
      "cell_type": "code",
      "execution_count": null,
      "id": "9d9f48aa",
      "metadata": {
        "colab": {
          "base_uri": "https://localhost:8080/",
          "height": 424
        },
        "id": "9d9f48aa",
        "outputId": "7b8df2cc-d67f-4d7d-92b8-8b6e2b8c3414"
      },
      "outputs": [
        {
          "data": {
            "application/vnd.microsoft.datawrangler.viewer.v0+json": {
              "columns": [
                {
                  "name": "index",
                  "rawType": "object",
                  "type": "string"
                },
                {
                  "name": "data_hora",
                  "rawType": "object",
                  "type": "unknown"
                },
                {
                  "name": "ano",
                  "rawType": "Float64",
                  "type": "float"
                },
                {
                  "name": "hora",
                  "rawType": "float64",
                  "type": "float"
                },
                {
                  "name": "rodovia",
                  "rawType": "Float64",
                  "type": "float"
                },
                {
                  "name": "km",
                  "rawType": "float64",
                  "type": "float"
                },
                {
                  "name": "pessoas",
                  "rawType": "Float64",
                  "type": "float"
                },
                {
                  "name": "mortos",
                  "rawType": "Float64",
                  "type": "float"
                },
                {
                  "name": "feridos_leves",
                  "rawType": "Float64",
                  "type": "float"
                },
                {
                  "name": "feridos_graves",
                  "rawType": "Float64",
                  "type": "float"
                },
                {
                  "name": "ilesos",
                  "rawType": "Float64",
                  "type": "float"
                },
                {
                  "name": "ignorados",
                  "rawType": "Float64",
                  "type": "float"
                },
                {
                  "name": "feridos",
                  "rawType": "Float64",
                  "type": "float"
                },
                {
                  "name": "veiculos",
                  "rawType": "Float64",
                  "type": "float"
                },
                {
                  "name": "latitude",
                  "rawType": "float64",
                  "type": "float"
                },
                {
                  "name": "longitude",
                  "rawType": "float64",
                  "type": "float"
                }
              ],
              "ref": "f2af7156-c0ea-4022-b37b-92e47b32cb12",
              "rows": [
                [
                  "count",
                  "2009408",
                  "2009408.0",
                  "2009408.0",
                  "2009079.0",
                  "2009079.0",
                  "2009408.0",
                  "2009408.0",
                  "2009408.0",
                  "2009408.0",
                  "2009408.0",
                  "2009408.0",
                  "2009408.0",
                  "2009408.0",
                  "2004727.0",
                  "2004727.0"
                ],
                [
                  "mean",
                  "2013-10-18 15:18:43.073245440",
                  "2013.2980823207631",
                  "13.072512401662578",
                  "211.884683977086",
                  "261.9184064778089",
                  "2.202802019301207",
                  "0.0556542026308246",
                  "0.5358130354810969",
                  "0.18627327053540146",
                  "1.3251808492849635",
                  "0.09983338376277988",
                  "0.7220863060164984",
                  "1.7222918391884574",
                  "-556.0015538437973",
                  "-2097.4070872686166"
                ],
                [
                  "min",
                  "2007-01-01 00:00:00",
                  "2007.0",
                  "0.0",
                  "0.0",
                  "-870.3",
                  "1.0",
                  "0.0",
                  "0.0",
                  "0.0",
                  "0.0",
                  "0.0",
                  "0.0",
                  "1.0",
                  "-1033382874.0",
                  "-4016764289.0"
                ],
                [
                  "25%",
                  "2010-06-17 09:26:15",
                  "2010.0",
                  "8.0",
                  "101.0",
                  "78.8",
                  "1.0",
                  "0.0",
                  "0.0",
                  "0.0",
                  "1.0",
                  "0.0",
                  "0.0",
                  "1.0",
                  "-25.173502133166405",
                  "-49.65460632212322"
                ],
                [
                  "50%",
                  "2013-02-25 01:00:00",
                  "2013.0",
                  "14.0",
                  "153.0",
                  "201.0",
                  "2.0",
                  "0.0",
                  "0.0",
                  "0.0",
                  "1.0",
                  "0.0",
                  "0.0",
                  "2.0",
                  "-20.602171017610296",
                  "-46.59066287673794"
                ],
                [
                  "75%",
                  "2016-07-30 18:41:15",
                  "2016.0",
                  "18.0",
                  "324.0",
                  "411.0",
                  "2.0",
                  "0.0",
                  "1.0",
                  "0.0",
                  "2.0",
                  "0.0",
                  "1.0",
                  "2.0",
                  "-13.07036505",
                  "-42.32069395787538"
                ],
                [
                  "max",
                  "2023-06-30 23:30:00",
                  "2023.0",
                  "23.0",
                  "958.0",
                  "9967.1",
                  "103.0",
                  "33.0",
                  "58.0",
                  "46.0",
                  "99.0",
                  "86.0",
                  "66.0",
                  "25.0",
                  "163.0",
                  "717.0"
                ],
                [
                  "std",
                  null,
                  "4.279645678778068",
                  "5.8663919796554955",
                  "129.1916461506531",
                  "229.12704101918672",
                  "1.6329847928408405",
                  "0.2905117518269425",
                  "1.0035895901135594",
                  "0.5500323394868358",
                  "1.3061147093137353",
                  "0.39780158568023427",
                  "1.1859004371836115",
                  "0.7259381631344525",
                  "730170.4219183704",
                  "2837331.885403605"
                ]
              ],
              "shape": {
                "columns": 15,
                "rows": 8
              }
            },
            "text/html": [
              "<div>\n",
              "<style scoped>\n",
              "    .dataframe tbody tr th:only-of-type {\n",
              "        vertical-align: middle;\n",
              "    }\n",
              "\n",
              "    .dataframe tbody tr th {\n",
              "        vertical-align: top;\n",
              "    }\n",
              "\n",
              "    .dataframe thead th {\n",
              "        text-align: right;\n",
              "    }\n",
              "</style>\n",
              "<table border=\"1\" class=\"dataframe\">\n",
              "  <thead>\n",
              "    <tr style=\"text-align: right;\">\n",
              "      <th></th>\n",
              "      <th>data_hora</th>\n",
              "      <th>ano</th>\n",
              "      <th>hora</th>\n",
              "      <th>rodovia</th>\n",
              "      <th>km</th>\n",
              "      <th>pessoas</th>\n",
              "      <th>mortos</th>\n",
              "      <th>feridos_leves</th>\n",
              "      <th>feridos_graves</th>\n",
              "      <th>ilesos</th>\n",
              "      <th>ignorados</th>\n",
              "      <th>feridos</th>\n",
              "      <th>veiculos</th>\n",
              "      <th>latitude</th>\n",
              "      <th>longitude</th>\n",
              "    </tr>\n",
              "  </thead>\n",
              "  <tbody>\n",
              "    <tr>\n",
              "      <th>count</th>\n",
              "      <td>2009408</td>\n",
              "      <td>2009408.00</td>\n",
              "      <td>2009408.00</td>\n",
              "      <td>2009079.00</td>\n",
              "      <td>2009079.00</td>\n",
              "      <td>2009408.00</td>\n",
              "      <td>2009408.00</td>\n",
              "      <td>2009408.00</td>\n",
              "      <td>2009408.00</td>\n",
              "      <td>2009408.00</td>\n",
              "      <td>2009408.00</td>\n",
              "      <td>2009408.00</td>\n",
              "      <td>2009408.00</td>\n",
              "      <td>2004727.00</td>\n",
              "      <td>2004727.00</td>\n",
              "    </tr>\n",
              "    <tr>\n",
              "      <th>mean</th>\n",
              "      <td>2013-10-18 15:18:43.073245440</td>\n",
              "      <td>2013.30</td>\n",
              "      <td>13.07</td>\n",
              "      <td>211.88</td>\n",
              "      <td>261.92</td>\n",
              "      <td>2.20</td>\n",
              "      <td>0.06</td>\n",
              "      <td>0.54</td>\n",
              "      <td>0.19</td>\n",
              "      <td>1.33</td>\n",
              "      <td>0.10</td>\n",
              "      <td>0.72</td>\n",
              "      <td>1.72</td>\n",
              "      <td>-556.00</td>\n",
              "      <td>-2097.41</td>\n",
              "    </tr>\n",
              "    <tr>\n",
              "      <th>min</th>\n",
              "      <td>2007-01-01 00:00:00</td>\n",
              "      <td>2007.00</td>\n",
              "      <td>0.00</td>\n",
              "      <td>0.00</td>\n",
              "      <td>-870.30</td>\n",
              "      <td>1.00</td>\n",
              "      <td>0.00</td>\n",
              "      <td>0.00</td>\n",
              "      <td>0.00</td>\n",
              "      <td>0.00</td>\n",
              "      <td>0.00</td>\n",
              "      <td>0.00</td>\n",
              "      <td>1.00</td>\n",
              "      <td>-1033382874.00</td>\n",
              "      <td>-4016764289.00</td>\n",
              "    </tr>\n",
              "    <tr>\n",
              "      <th>25%</th>\n",
              "      <td>2010-06-17 09:26:15</td>\n",
              "      <td>2010.00</td>\n",
              "      <td>8.00</td>\n",
              "      <td>101.00</td>\n",
              "      <td>78.80</td>\n",
              "      <td>1.00</td>\n",
              "      <td>0.00</td>\n",
              "      <td>0.00</td>\n",
              "      <td>0.00</td>\n",
              "      <td>1.00</td>\n",
              "      <td>0.00</td>\n",
              "      <td>0.00</td>\n",
              "      <td>1.00</td>\n",
              "      <td>-25.17</td>\n",
              "      <td>-49.65</td>\n",
              "    </tr>\n",
              "    <tr>\n",
              "      <th>50%</th>\n",
              "      <td>2013-02-25 01:00:00</td>\n",
              "      <td>2013.00</td>\n",
              "      <td>14.00</td>\n",
              "      <td>153.00</td>\n",
              "      <td>201.00</td>\n",
              "      <td>2.00</td>\n",
              "      <td>0.00</td>\n",
              "      <td>0.00</td>\n",
              "      <td>0.00</td>\n",
              "      <td>1.00</td>\n",
              "      <td>0.00</td>\n",
              "      <td>0.00</td>\n",
              "      <td>2.00</td>\n",
              "      <td>-20.60</td>\n",
              "      <td>-46.59</td>\n",
              "    </tr>\n",
              "    <tr>\n",
              "      <th>75%</th>\n",
              "      <td>2016-07-30 18:41:15</td>\n",
              "      <td>2016.00</td>\n",
              "      <td>18.00</td>\n",
              "      <td>324.00</td>\n",
              "      <td>411.00</td>\n",
              "      <td>2.00</td>\n",
              "      <td>0.00</td>\n",
              "      <td>1.00</td>\n",
              "      <td>0.00</td>\n",
              "      <td>2.00</td>\n",
              "      <td>0.00</td>\n",
              "      <td>1.00</td>\n",
              "      <td>2.00</td>\n",
              "      <td>-13.07</td>\n",
              "      <td>-42.32</td>\n",
              "    </tr>\n",
              "    <tr>\n",
              "      <th>max</th>\n",
              "      <td>2023-06-30 23:30:00</td>\n",
              "      <td>2023.00</td>\n",
              "      <td>23.00</td>\n",
              "      <td>958.00</td>\n",
              "      <td>9967.10</td>\n",
              "      <td>103.00</td>\n",
              "      <td>33.00</td>\n",
              "      <td>58.00</td>\n",
              "      <td>46.00</td>\n",
              "      <td>99.00</td>\n",
              "      <td>86.00</td>\n",
              "      <td>66.00</td>\n",
              "      <td>25.00</td>\n",
              "      <td>163.00</td>\n",
              "      <td>717.00</td>\n",
              "    </tr>\n",
              "    <tr>\n",
              "      <th>std</th>\n",
              "      <td>NaN</td>\n",
              "      <td>4.28</td>\n",
              "      <td>5.87</td>\n",
              "      <td>129.19</td>\n",
              "      <td>229.13</td>\n",
              "      <td>1.63</td>\n",
              "      <td>0.29</td>\n",
              "      <td>1.00</td>\n",
              "      <td>0.55</td>\n",
              "      <td>1.31</td>\n",
              "      <td>0.40</td>\n",
              "      <td>1.19</td>\n",
              "      <td>0.73</td>\n",
              "      <td>730170.42</td>\n",
              "      <td>2837331.89</td>\n",
              "    </tr>\n",
              "  </tbody>\n",
              "</table>\n",
              "</div>"
            ],
            "text/plain": [
              "                           data_hora        ano       hora    rodovia  \\\n",
              "count                        2009408 2009408.00 2009408.00 2009079.00   \n",
              "mean   2013-10-18 15:18:43.073245440    2013.30      13.07     211.88   \n",
              "min              2007-01-01 00:00:00    2007.00       0.00       0.00   \n",
              "25%              2010-06-17 09:26:15    2010.00       8.00     101.00   \n",
              "50%              2013-02-25 01:00:00    2013.00      14.00     153.00   \n",
              "75%              2016-07-30 18:41:15    2016.00      18.00     324.00   \n",
              "max              2023-06-30 23:30:00    2023.00      23.00     958.00   \n",
              "std                              NaN       4.28       5.87     129.19   \n",
              "\n",
              "              km    pessoas     mortos  feridos_leves  feridos_graves  \\\n",
              "count 2009079.00 2009408.00 2009408.00     2009408.00      2009408.00   \n",
              "mean      261.92       2.20       0.06           0.54            0.19   \n",
              "min      -870.30       1.00       0.00           0.00            0.00   \n",
              "25%        78.80       1.00       0.00           0.00            0.00   \n",
              "50%       201.00       2.00       0.00           0.00            0.00   \n",
              "75%       411.00       2.00       0.00           1.00            0.00   \n",
              "max      9967.10     103.00      33.00          58.00           46.00   \n",
              "std       229.13       1.63       0.29           1.00            0.55   \n",
              "\n",
              "          ilesos  ignorados    feridos   veiculos       latitude  \\\n",
              "count 2009408.00 2009408.00 2009408.00 2009408.00     2004727.00   \n",
              "mean        1.33       0.10       0.72       1.72        -556.00   \n",
              "min         0.00       0.00       0.00       1.00 -1033382874.00   \n",
              "25%         1.00       0.00       0.00       1.00         -25.17   \n",
              "50%         1.00       0.00       0.00       2.00         -20.60   \n",
              "75%         2.00       0.00       1.00       2.00         -13.07   \n",
              "max        99.00      86.00      66.00      25.00         163.00   \n",
              "std         1.31       0.40       1.19       0.73      730170.42   \n",
              "\n",
              "           longitude  \n",
              "count     2004727.00  \n",
              "mean        -2097.41  \n",
              "min   -4016764289.00  \n",
              "25%           -49.65  \n",
              "50%           -46.59  \n",
              "75%           -42.32  \n",
              "max           717.00  \n",
              "std       2837331.89  "
            ]
          },
          "execution_count": 11,
          "metadata": {},
          "output_type": "execute_result"
        }
      ],
      "source": [
        "pd.set_option('display.float_format', lambda x: '%.2f' % x)\n",
        "df_acidentes_limpo.describe()"
      ]
    },
    {
      "cell_type": "code",
      "execution_count": null,
      "id": "7ba3810a",
      "metadata": {
        "colab": {
          "base_uri": "https://localhost:8080/",
          "height": 212
        },
        "id": "7ba3810a",
        "outputId": "d052d346-aded-4514-aa60-b81ef612f117"
      },
      "outputs": [
        {
          "data": {
            "application/vnd.microsoft.datawrangler.viewer.v0+json": {
              "columns": [
                {
                  "name": "index",
                  "rawType": "object",
                  "type": "string"
                },
                {
                  "name": "dia_semana",
                  "rawType": "object",
                  "type": "unknown"
                },
                {
                  "name": "uf",
                  "rawType": "object",
                  "type": "unknown"
                },
                {
                  "name": "municipio",
                  "rawType": "object",
                  "type": "unknown"
                },
                {
                  "name": "causa_acidente",
                  "rawType": "object",
                  "type": "unknown"
                },
                {
                  "name": "tipo_acidente",
                  "rawType": "object",
                  "type": "unknown"
                },
                {
                  "name": "classificacao_acidente",
                  "rawType": "object",
                  "type": "unknown"
                },
                {
                  "name": "fase_dia",
                  "rawType": "object",
                  "type": "unknown"
                },
                {
                  "name": "sentido_via",
                  "rawType": "object",
                  "type": "unknown"
                },
                {
                  "name": "condicao_metereologica",
                  "rawType": "object",
                  "type": "unknown"
                },
                {
                  "name": "tipo_pista",
                  "rawType": "object",
                  "type": "unknown"
                },
                {
                  "name": "tracado_via",
                  "rawType": "object",
                  "type": "unknown"
                },
                {
                  "name": "uso_solo",
                  "rawType": "object",
                  "type": "unknown"
                }
              ],
              "ref": "28a91c41-8a08-4e8a-b1e2-76202eeec34f",
              "rows": [
                [
                  "count",
                  "2009408",
                  "2009408",
                  "2009408",
                  "2009408",
                  "2009408",
                  "2009383",
                  "2009408",
                  "2009408",
                  "2009408",
                  "2009408",
                  "2009408",
                  "2009408"
                ],
                [
                  "unique",
                  "7",
                  "27",
                  "2336",
                  "13",
                  "17",
                  "4",
                  "4",
                  "3",
                  "7",
                  "3",
                  "11",
                  "2"
                ],
                [
                  "top",
                  "Sexta",
                  "MG",
                  "Curitiba",
                  "Comportamento do condutor",
                  "Colisão traseira",
                  "Sem vítimas",
                  "Pleno dia",
                  "Crescente",
                  "Céu claro",
                  "Simples",
                  "Reta",
                  "Urbano"
                ],
                [
                  "freq",
                  "326124",
                  "287960",
                  "27069",
                  "794035",
                  "518193",
                  "996841",
                  "1160102",
                  "1037488",
                  "1274375",
                  "1040421",
                  "1395057",
                  "1013697"
                ]
              ],
              "shape": {
                "columns": 12,
                "rows": 4
              }
            },
            "text/html": [
              "<div>\n",
              "<style scoped>\n",
              "    .dataframe tbody tr th:only-of-type {\n",
              "        vertical-align: middle;\n",
              "    }\n",
              "\n",
              "    .dataframe tbody tr th {\n",
              "        vertical-align: top;\n",
              "    }\n",
              "\n",
              "    .dataframe thead th {\n",
              "        text-align: right;\n",
              "    }\n",
              "</style>\n",
              "<table border=\"1\" class=\"dataframe\">\n",
              "  <thead>\n",
              "    <tr style=\"text-align: right;\">\n",
              "      <th></th>\n",
              "      <th>dia_semana</th>\n",
              "      <th>uf</th>\n",
              "      <th>municipio</th>\n",
              "      <th>causa_acidente</th>\n",
              "      <th>tipo_acidente</th>\n",
              "      <th>classificacao_acidente</th>\n",
              "      <th>fase_dia</th>\n",
              "      <th>sentido_via</th>\n",
              "      <th>condicao_metereologica</th>\n",
              "      <th>tipo_pista</th>\n",
              "      <th>tracado_via</th>\n",
              "      <th>uso_solo</th>\n",
              "    </tr>\n",
              "  </thead>\n",
              "  <tbody>\n",
              "    <tr>\n",
              "      <th>count</th>\n",
              "      <td>2009408</td>\n",
              "      <td>2009408</td>\n",
              "      <td>2009408</td>\n",
              "      <td>2009408</td>\n",
              "      <td>2009408</td>\n",
              "      <td>2009383</td>\n",
              "      <td>2009408</td>\n",
              "      <td>2009408</td>\n",
              "      <td>2009408</td>\n",
              "      <td>2009408</td>\n",
              "      <td>2009408</td>\n",
              "      <td>2009408</td>\n",
              "    </tr>\n",
              "    <tr>\n",
              "      <th>unique</th>\n",
              "      <td>7</td>\n",
              "      <td>27</td>\n",
              "      <td>2336</td>\n",
              "      <td>13</td>\n",
              "      <td>17</td>\n",
              "      <td>4</td>\n",
              "      <td>4</td>\n",
              "      <td>3</td>\n",
              "      <td>7</td>\n",
              "      <td>3</td>\n",
              "      <td>11</td>\n",
              "      <td>2</td>\n",
              "    </tr>\n",
              "    <tr>\n",
              "      <th>top</th>\n",
              "      <td>Sexta</td>\n",
              "      <td>MG</td>\n",
              "      <td>Curitiba</td>\n",
              "      <td>Comportamento do condutor</td>\n",
              "      <td>Colisão traseira</td>\n",
              "      <td>Sem vítimas</td>\n",
              "      <td>Pleno dia</td>\n",
              "      <td>Crescente</td>\n",
              "      <td>Céu claro</td>\n",
              "      <td>Simples</td>\n",
              "      <td>Reta</td>\n",
              "      <td>Urbano</td>\n",
              "    </tr>\n",
              "    <tr>\n",
              "      <th>freq</th>\n",
              "      <td>326124</td>\n",
              "      <td>287960</td>\n",
              "      <td>27069</td>\n",
              "      <td>794035</td>\n",
              "      <td>518193</td>\n",
              "      <td>996841</td>\n",
              "      <td>1160102</td>\n",
              "      <td>1037488</td>\n",
              "      <td>1274375</td>\n",
              "      <td>1040421</td>\n",
              "      <td>1395057</td>\n",
              "      <td>1013697</td>\n",
              "    </tr>\n",
              "  </tbody>\n",
              "</table>\n",
              "</div>"
            ],
            "text/plain": [
              "       dia_semana       uf municipio             causa_acidente  \\\n",
              "count     2009408  2009408   2009408                    2009408   \n",
              "unique          7       27      2336                         13   \n",
              "top         Sexta       MG  Curitiba  Comportamento do condutor   \n",
              "freq       326124   287960     27069                     794035   \n",
              "\n",
              "           tipo_acidente classificacao_acidente   fase_dia sentido_via  \\\n",
              "count            2009408                2009383    2009408     2009408   \n",
              "unique                17                      4          4           3   \n",
              "top     Colisão traseira            Sem vítimas  Pleno dia   Crescente   \n",
              "freq              518193                 996841    1160102     1037488   \n",
              "\n",
              "       condicao_metereologica tipo_pista tracado_via uso_solo  \n",
              "count                 2009408    2009408     2009408  2009408  \n",
              "unique                      7          3          11        2  \n",
              "top                 Céu claro    Simples        Reta   Urbano  \n",
              "freq                  1274375    1040421     1395057  1013697  "
            ]
          },
          "execution_count": 12,
          "metadata": {},
          "output_type": "execute_result"
        }
      ],
      "source": [
        "df_acidentes_limpo.describe(include=['object', 'category'])"
      ]
    },
    {
      "cell_type": "code",
      "execution_count": null,
      "id": "4a8c0e62",
      "metadata": {
        "colab": {
          "base_uri": "https://localhost:8080/"
        },
        "id": "4a8c0e62",
        "outputId": "d18043f2-0ff7-44af-89d8-0f7f2c342206"
      },
      "outputs": [
        {
          "name": "stdout",
          "output_type": "stream",
          "text": [
            "\n",
            "--- Análise de Outliers pelo Método IQR ---\n",
            "\n",
            "Total de 513289 linhas (25.54%) com pelo menos um outlier detectado.\n",
            "Atenção: A proporção de outliers é significativa. Melhor não remover.\n"
          ]
        }
      ],
      "source": [
        "features_num = ['pessoas', 'feridos', 'mortos', 'feridos_graves', 'feridos_leves', 'ilesos', 'veiculos', 'km']\n",
        "indices_outliers = identificar_e_reportar_outliers(df_acidentes_limpo, features_num)\n",
        "\n"
      ]
    },
    {
      "cell_type": "markdown",
      "id": "f5795e4a",
      "metadata": {
        "id": "f5795e4a"
      },
      "source": [
        "## 2.3. Identificação de duplicatas\n",
        "\n",
        "Diferenciar duplicatas exatas (remover diretamente) de parciais (corrigir divergências ou consolidar registros).\n",
        "\n",
        "Justificativa: garante consistência sem perder dados úteis.\n"
      ]
    },
    {
      "cell_type": "code",
      "execution_count": null,
      "id": "44d49d68",
      "metadata": {
        "colab": {
          "base_uri": "https://localhost:8080/",
          "height": 488
        },
        "id": "44d49d68",
        "outputId": "1361a420-d2b7-4911-83b1-8d557892b50c"
      },
      "outputs": [
        {
          "data": {
            "application/vnd.microsoft.datawrangler.viewer.v0+json": {
              "columns": [
                {
                  "name": "index",
                  "rawType": "int64",
                  "type": "integer"
                },
                {
                  "name": "data_hora",
                  "rawType": "datetime64[ns]",
                  "type": "datetime"
                },
                {
                  "name": "ano",
                  "rawType": "Int64",
                  "type": "integer"
                },
                {
                  "name": "hora",
                  "rawType": "int64",
                  "type": "integer"
                },
                {
                  "name": "dia_semana",
                  "rawType": "category",
                  "type": "unknown"
                },
                {
                  "name": "uf",
                  "rawType": "object",
                  "type": "string"
                },
                {
                  "name": "rodovia",
                  "rawType": "Int64",
                  "type": "integer"
                },
                {
                  "name": "km",
                  "rawType": "float64",
                  "type": "float"
                },
                {
                  "name": "municipio",
                  "rawType": "object",
                  "type": "string"
                },
                {
                  "name": "causa_acidente",
                  "rawType": "category",
                  "type": "unknown"
                },
                {
                  "name": "tipo_acidente",
                  "rawType": "category",
                  "type": "unknown"
                },
                {
                  "name": "classificacao_acidente",
                  "rawType": "category",
                  "type": "unknown"
                },
                {
                  "name": "fase_dia",
                  "rawType": "category",
                  "type": "unknown"
                },
                {
                  "name": "sentido_via",
                  "rawType": "category",
                  "type": "unknown"
                },
                {
                  "name": "condicao_metereologica",
                  "rawType": "category",
                  "type": "unknown"
                },
                {
                  "name": "tipo_pista",
                  "rawType": "category",
                  "type": "unknown"
                },
                {
                  "name": "tracado_via",
                  "rawType": "category",
                  "type": "unknown"
                },
                {
                  "name": "uso_solo",
                  "rawType": "category",
                  "type": "unknown"
                },
                {
                  "name": "pessoas",
                  "rawType": "Int64",
                  "type": "integer"
                },
                {
                  "name": "mortos",
                  "rawType": "Int64",
                  "type": "integer"
                },
                {
                  "name": "feridos_leves",
                  "rawType": "Int64",
                  "type": "integer"
                },
                {
                  "name": "feridos_graves",
                  "rawType": "Int64",
                  "type": "integer"
                },
                {
                  "name": "ilesos",
                  "rawType": "Int64",
                  "type": "integer"
                },
                {
                  "name": "ignorados",
                  "rawType": "Int64",
                  "type": "integer"
                },
                {
                  "name": "feridos",
                  "rawType": "Int64",
                  "type": "integer"
                },
                {
                  "name": "veiculos",
                  "rawType": "Int64",
                  "type": "integer"
                },
                {
                  "name": "latitude",
                  "rawType": "float64",
                  "type": "float"
                },
                {
                  "name": "longitude",
                  "rawType": "float64",
                  "type": "float"
                },
                {
                  "name": "eh_feriado",
                  "rawType": "bool",
                  "type": "boolean"
                }
              ],
              "ref": "d77cee4e-5074-487c-8ccf-5cfc467c6b25",
              "rows": [
                [
                  "1586927",
                  "2007-01-01 09:50:00",
                  "2007",
                  "9",
                  "Segunda",
                  "MA",
                  "316",
                  "516.1",
                  "Caxias",
                  "Condução/manobra inadequada",
                  "Capotamento",
                  "Sem vítimas",
                  "Pleno dia",
                  "Crescente",
                  "Céu claro",
                  "Simples",
                  "Curva",
                  "Rural",
                  "2",
                  "0",
                  "0",
                  "0",
                  "2",
                  "0",
                  "0",
                  "2",
                  "-4.7674847659276125",
                  "-43.63329427681024",
                  "True"
                ],
                [
                  "1712658",
                  "2007-01-01 09:50:00",
                  "2007",
                  "9",
                  "Segunda",
                  "MA",
                  "316",
                  "516.1",
                  "Caxias",
                  "Condução/manobra inadequada",
                  "Capotamento",
                  "Sem vítimas",
                  "Pleno dia",
                  "Crescente",
                  "Céu claro",
                  "Simples",
                  "Curva",
                  "Rural",
                  "2",
                  "0",
                  "0",
                  "0",
                  "2",
                  "0",
                  "0",
                  "2",
                  "-4.7674847659276125",
                  "-43.63329427681024",
                  "True"
                ],
                [
                  "1588455",
                  "2007-01-03 18:00:00",
                  "2007",
                  "18",
                  "Quarta",
                  "RJ",
                  "116",
                  "190.0",
                  "Queimados",
                  "Outras",
                  "Colisão com objeto",
                  "Sem vítimas",
                  "Anoitecer",
                  "Crescente",
                  "Nublado",
                  "Dupla",
                  "Reta",
                  "Rural",
                  "1",
                  "0",
                  "0",
                  "0",
                  "1",
                  "0",
                  "0",
                  "1",
                  "-22.74123792783688",
                  "-43.50072997058927",
                  "False"
                ],
                [
                  "1588462",
                  "2007-01-03 18:00:00",
                  "2007",
                  "18",
                  "Quarta",
                  "RJ",
                  "116",
                  "190.0",
                  "Queimados",
                  "Outras",
                  "Colisão com objeto",
                  "Sem vítimas",
                  "Anoitecer",
                  "Crescente",
                  "Nublado",
                  "Dupla",
                  "Reta",
                  "Rural",
                  "1",
                  "0",
                  "0",
                  "0",
                  "1",
                  "0",
                  "0",
                  "1",
                  "-22.74123792783688",
                  "-43.50072997058927",
                  "False"
                ],
                [
                  "1589430",
                  "2007-01-05 16:00:00",
                  "2007",
                  "16",
                  "Sexta",
                  "RJ",
                  "101",
                  "209.0",
                  "Casimiro de Abreu",
                  "Outras",
                  "Colisão frontal",
                  "Com vítimas fatais",
                  "Pleno dia",
                  "Crescente",
                  "Nublado",
                  "Simples",
                  "Curva",
                  "Rural",
                  "8",
                  "1",
                  "1",
                  "6",
                  "0",
                  "0",
                  "7",
                  "2",
                  "-22.481336610223416",
                  "-42.22930123684464",
                  "False"
                ],
                [
                  "1712967",
                  "2007-01-05 16:00:00",
                  "2007",
                  "16",
                  "Sexta",
                  "RJ",
                  "101",
                  "209.0",
                  "Casimiro de Abreu",
                  "Outras",
                  "Colisão frontal",
                  "Com vítimas fatais",
                  "Pleno dia",
                  "Crescente",
                  "Nublado",
                  "Simples",
                  "Curva",
                  "Rural",
                  "8",
                  "1",
                  "1",
                  "6",
                  "0",
                  "0",
                  "7",
                  "2",
                  "-22.481336610223416",
                  "-42.22930123684464",
                  "False"
                ],
                [
                  "1588532",
                  "2007-01-06 18:40:00",
                  "2007",
                  "18",
                  "Sábado",
                  "DF",
                  "60",
                  "8.0",
                  "Brasília",
                  "Outras",
                  "Colisão transversal",
                  "Sem vítimas",
                  "Pleno dia",
                  "Decrescente",
                  "Chuva",
                  "Dupla",
                  "Reta",
                  "Urbano",
                  "2",
                  "0",
                  "0",
                  "0",
                  "2",
                  "0",
                  "0",
                  "2",
                  "-15.904181591616455",
                  "-48.132096639376606",
                  "False"
                ],
                [
                  "1712629",
                  "2007-01-06 18:40:00",
                  "2007",
                  "18",
                  "Sábado",
                  "DF",
                  "60",
                  "8.0",
                  "Brasília",
                  "Outras",
                  "Colisão transversal",
                  "Sem vítimas",
                  "Plena noite",
                  "Decrescente",
                  "Chuva",
                  "Dupla",
                  "Reta",
                  "Urbano",
                  "2",
                  "0",
                  "0",
                  "0",
                  "2",
                  "0",
                  "0",
                  "2",
                  "-15.904181591616455",
                  "-48.132096639376606",
                  "False"
                ]
              ],
              "shape": {
                "columns": 28,
                "rows": 8
              }
            },
            "text/html": [
              "<div>\n",
              "<style scoped>\n",
              "    .dataframe tbody tr th:only-of-type {\n",
              "        vertical-align: middle;\n",
              "    }\n",
              "\n",
              "    .dataframe tbody tr th {\n",
              "        vertical-align: top;\n",
              "    }\n",
              "\n",
              "    .dataframe thead th {\n",
              "        text-align: right;\n",
              "    }\n",
              "</style>\n",
              "<table border=\"1\" class=\"dataframe\">\n",
              "  <thead>\n",
              "    <tr style=\"text-align: right;\">\n",
              "      <th></th>\n",
              "      <th>data_hora</th>\n",
              "      <th>ano</th>\n",
              "      <th>hora</th>\n",
              "      <th>dia_semana</th>\n",
              "      <th>uf</th>\n",
              "      <th>rodovia</th>\n",
              "      <th>km</th>\n",
              "      <th>municipio</th>\n",
              "      <th>causa_acidente</th>\n",
              "      <th>tipo_acidente</th>\n",
              "      <th>...</th>\n",
              "      <th>mortos</th>\n",
              "      <th>feridos_leves</th>\n",
              "      <th>feridos_graves</th>\n",
              "      <th>ilesos</th>\n",
              "      <th>ignorados</th>\n",
              "      <th>feridos</th>\n",
              "      <th>veiculos</th>\n",
              "      <th>latitude</th>\n",
              "      <th>longitude</th>\n",
              "      <th>eh_feriado</th>\n",
              "    </tr>\n",
              "  </thead>\n",
              "  <tbody>\n",
              "    <tr>\n",
              "      <th>1586927</th>\n",
              "      <td>2007-01-01 09:50:00</td>\n",
              "      <td>2007</td>\n",
              "      <td>9</td>\n",
              "      <td>Segunda</td>\n",
              "      <td>MA</td>\n",
              "      <td>316</td>\n",
              "      <td>516.10</td>\n",
              "      <td>Caxias</td>\n",
              "      <td>Condução/manobra inadequada</td>\n",
              "      <td>Capotamento</td>\n",
              "      <td>...</td>\n",
              "      <td>0</td>\n",
              "      <td>0</td>\n",
              "      <td>0</td>\n",
              "      <td>2</td>\n",
              "      <td>0</td>\n",
              "      <td>0</td>\n",
              "      <td>2</td>\n",
              "      <td>-4.77</td>\n",
              "      <td>-43.63</td>\n",
              "      <td>True</td>\n",
              "    </tr>\n",
              "    <tr>\n",
              "      <th>1712658</th>\n",
              "      <td>2007-01-01 09:50:00</td>\n",
              "      <td>2007</td>\n",
              "      <td>9</td>\n",
              "      <td>Segunda</td>\n",
              "      <td>MA</td>\n",
              "      <td>316</td>\n",
              "      <td>516.10</td>\n",
              "      <td>Caxias</td>\n",
              "      <td>Condução/manobra inadequada</td>\n",
              "      <td>Capotamento</td>\n",
              "      <td>...</td>\n",
              "      <td>0</td>\n",
              "      <td>0</td>\n",
              "      <td>0</td>\n",
              "      <td>2</td>\n",
              "      <td>0</td>\n",
              "      <td>0</td>\n",
              "      <td>2</td>\n",
              "      <td>-4.77</td>\n",
              "      <td>-43.63</td>\n",
              "      <td>True</td>\n",
              "    </tr>\n",
              "    <tr>\n",
              "      <th>1588455</th>\n",
              "      <td>2007-01-03 18:00:00</td>\n",
              "      <td>2007</td>\n",
              "      <td>18</td>\n",
              "      <td>Quarta</td>\n",
              "      <td>RJ</td>\n",
              "      <td>116</td>\n",
              "      <td>190.00</td>\n",
              "      <td>Queimados</td>\n",
              "      <td>Outras</td>\n",
              "      <td>Colisão com objeto</td>\n",
              "      <td>...</td>\n",
              "      <td>0</td>\n",
              "      <td>0</td>\n",
              "      <td>0</td>\n",
              "      <td>1</td>\n",
              "      <td>0</td>\n",
              "      <td>0</td>\n",
              "      <td>1</td>\n",
              "      <td>-22.74</td>\n",
              "      <td>-43.50</td>\n",
              "      <td>False</td>\n",
              "    </tr>\n",
              "    <tr>\n",
              "      <th>1588462</th>\n",
              "      <td>2007-01-03 18:00:00</td>\n",
              "      <td>2007</td>\n",
              "      <td>18</td>\n",
              "      <td>Quarta</td>\n",
              "      <td>RJ</td>\n",
              "      <td>116</td>\n",
              "      <td>190.00</td>\n",
              "      <td>Queimados</td>\n",
              "      <td>Outras</td>\n",
              "      <td>Colisão com objeto</td>\n",
              "      <td>...</td>\n",
              "      <td>0</td>\n",
              "      <td>0</td>\n",
              "      <td>0</td>\n",
              "      <td>1</td>\n",
              "      <td>0</td>\n",
              "      <td>0</td>\n",
              "      <td>1</td>\n",
              "      <td>-22.74</td>\n",
              "      <td>-43.50</td>\n",
              "      <td>False</td>\n",
              "    </tr>\n",
              "    <tr>\n",
              "      <th>1589430</th>\n",
              "      <td>2007-01-05 16:00:00</td>\n",
              "      <td>2007</td>\n",
              "      <td>16</td>\n",
              "      <td>Sexta</td>\n",
              "      <td>RJ</td>\n",
              "      <td>101</td>\n",
              "      <td>209.00</td>\n",
              "      <td>Casimiro de Abreu</td>\n",
              "      <td>Outras</td>\n",
              "      <td>Colisão frontal</td>\n",
              "      <td>...</td>\n",
              "      <td>1</td>\n",
              "      <td>1</td>\n",
              "      <td>6</td>\n",
              "      <td>0</td>\n",
              "      <td>0</td>\n",
              "      <td>7</td>\n",
              "      <td>2</td>\n",
              "      <td>-22.48</td>\n",
              "      <td>-42.23</td>\n",
              "      <td>False</td>\n",
              "    </tr>\n",
              "    <tr>\n",
              "      <th>1712967</th>\n",
              "      <td>2007-01-05 16:00:00</td>\n",
              "      <td>2007</td>\n",
              "      <td>16</td>\n",
              "      <td>Sexta</td>\n",
              "      <td>RJ</td>\n",
              "      <td>101</td>\n",
              "      <td>209.00</td>\n",
              "      <td>Casimiro de Abreu</td>\n",
              "      <td>Outras</td>\n",
              "      <td>Colisão frontal</td>\n",
              "      <td>...</td>\n",
              "      <td>1</td>\n",
              "      <td>1</td>\n",
              "      <td>6</td>\n",
              "      <td>0</td>\n",
              "      <td>0</td>\n",
              "      <td>7</td>\n",
              "      <td>2</td>\n",
              "      <td>-22.48</td>\n",
              "      <td>-42.23</td>\n",
              "      <td>False</td>\n",
              "    </tr>\n",
              "    <tr>\n",
              "      <th>1588532</th>\n",
              "      <td>2007-01-06 18:40:00</td>\n",
              "      <td>2007</td>\n",
              "      <td>18</td>\n",
              "      <td>Sábado</td>\n",
              "      <td>DF</td>\n",
              "      <td>60</td>\n",
              "      <td>8.00</td>\n",
              "      <td>Brasília</td>\n",
              "      <td>Outras</td>\n",
              "      <td>Colisão transversal</td>\n",
              "      <td>...</td>\n",
              "      <td>0</td>\n",
              "      <td>0</td>\n",
              "      <td>0</td>\n",
              "      <td>2</td>\n",
              "      <td>0</td>\n",
              "      <td>0</td>\n",
              "      <td>2</td>\n",
              "      <td>-15.90</td>\n",
              "      <td>-48.13</td>\n",
              "      <td>False</td>\n",
              "    </tr>\n",
              "    <tr>\n",
              "      <th>1712629</th>\n",
              "      <td>2007-01-06 18:40:00</td>\n",
              "      <td>2007</td>\n",
              "      <td>18</td>\n",
              "      <td>Sábado</td>\n",
              "      <td>DF</td>\n",
              "      <td>60</td>\n",
              "      <td>8.00</td>\n",
              "      <td>Brasília</td>\n",
              "      <td>Outras</td>\n",
              "      <td>Colisão transversal</td>\n",
              "      <td>...</td>\n",
              "      <td>0</td>\n",
              "      <td>0</td>\n",
              "      <td>0</td>\n",
              "      <td>2</td>\n",
              "      <td>0</td>\n",
              "      <td>0</td>\n",
              "      <td>2</td>\n",
              "      <td>-15.90</td>\n",
              "      <td>-48.13</td>\n",
              "      <td>False</td>\n",
              "    </tr>\n",
              "  </tbody>\n",
              "</table>\n",
              "<p>8 rows × 28 columns</p>\n",
              "</div>"
            ],
            "text/plain": [
              "                  data_hora   ano  hora dia_semana  uf  rodovia     km  \\\n",
              "1586927 2007-01-01 09:50:00  2007     9    Segunda  MA      316 516.10   \n",
              "1712658 2007-01-01 09:50:00  2007     9    Segunda  MA      316 516.10   \n",
              "1588455 2007-01-03 18:00:00  2007    18     Quarta  RJ      116 190.00   \n",
              "1588462 2007-01-03 18:00:00  2007    18     Quarta  RJ      116 190.00   \n",
              "1589430 2007-01-05 16:00:00  2007    16      Sexta  RJ      101 209.00   \n",
              "1712967 2007-01-05 16:00:00  2007    16      Sexta  RJ      101 209.00   \n",
              "1588532 2007-01-06 18:40:00  2007    18     Sábado  DF       60   8.00   \n",
              "1712629 2007-01-06 18:40:00  2007    18     Sábado  DF       60   8.00   \n",
              "\n",
              "                 municipio               causa_acidente        tipo_acidente  \\\n",
              "1586927             Caxias  Condução/manobra inadequada          Capotamento   \n",
              "1712658             Caxias  Condução/manobra inadequada          Capotamento   \n",
              "1588455          Queimados                       Outras   Colisão com objeto   \n",
              "1588462          Queimados                       Outras   Colisão com objeto   \n",
              "1589430  Casimiro de Abreu                       Outras      Colisão frontal   \n",
              "1712967  Casimiro de Abreu                       Outras      Colisão frontal   \n",
              "1588532           Brasília                       Outras  Colisão transversal   \n",
              "1712629           Brasília                       Outras  Colisão transversal   \n",
              "\n",
              "         ... mortos feridos_leves feridos_graves ilesos ignorados feridos  \\\n",
              "1586927  ...      0             0              0      2         0       0   \n",
              "1712658  ...      0             0              0      2         0       0   \n",
              "1588455  ...      0             0              0      1         0       0   \n",
              "1588462  ...      0             0              0      1         0       0   \n",
              "1589430  ...      1             1              6      0         0       7   \n",
              "1712967  ...      1             1              6      0         0       7   \n",
              "1588532  ...      0             0              0      2         0       0   \n",
              "1712629  ...      0             0              0      2         0       0   \n",
              "\n",
              "        veiculos  latitude  longitude  eh_feriado  \n",
              "1586927        2     -4.77     -43.63        True  \n",
              "1712658        2     -4.77     -43.63        True  \n",
              "1588455        1    -22.74     -43.50       False  \n",
              "1588462        1    -22.74     -43.50       False  \n",
              "1589430        2    -22.48     -42.23       False  \n",
              "1712967        2    -22.48     -42.23       False  \n",
              "1588532        2    -15.90     -48.13       False  \n",
              "1712629        2    -15.90     -48.13       False  \n",
              "\n",
              "[8 rows x 28 columns]"
            ]
          },
          "execution_count": 14,
          "metadata": {},
          "output_type": "execute_result"
        }
      ],
      "source": [
        "colunas_chave = ['data_hora', 'rodovia', 'km', 'tipo_acidente', 'pessoas']\n",
        "mascara_duplicatas = df_acidentes_limpo.duplicated(subset=colunas_chave, keep=False)\n",
        "\n",
        "df_duplicadas = df_acidentes_limpo[mascara_duplicatas]\n",
        "df_duplicadas.sort_values(by=colunas_chave).head(8)\n"
      ]
    },
    {
      "cell_type": "code",
      "execution_count": null,
      "id": "22645846",
      "metadata": {
        "colab": {
          "base_uri": "https://localhost:8080/"
        },
        "id": "22645846",
        "outputId": "257f7baa-5c92-4876-f0b0-5faf16f22c4d"
      },
      "outputs": [
        {
          "name": "stdout",
          "output_type": "stream",
          "text": [
            "Linhas duplicadas: 33638.\n"
          ]
        },
        {
          "data": {
            "text/plain": [
              "(1975770, 28)"
            ]
          },
          "execution_count": 15,
          "metadata": {},
          "output_type": "execute_result"
        }
      ],
      "source": [
        "\n",
        "df_acidentes_sem_duplicatas = remover_duplicatas(df_acidentes_limpo, subset=colunas_chave, keep='first')\n",
        "df_acidentes_sem_duplicatas.shape"
      ]
    },
    {
      "cell_type": "markdown",
      "id": "b7d46b8d",
      "metadata": {
        "id": "b7d46b8d"
      },
      "source": [
        "## 2.4. Padronização de tipos de dados\n",
        "\n",
        "Converter colunas numéricas (ex: valores, contagens).\n",
        "\n",
        "Converter categóricas para category.\n",
        "\n",
        "Padronizar datas para datetime.\n",
        "\n",
        "Justificativa: previne erros no pipeline e facilita transformações posteriores.\n"
      ]
    },
    {
      "cell_type": "code",
      "execution_count": null,
      "id": "f462c8c8",
      "metadata": {
        "colab": {
          "base_uri": "https://localhost:8080/"
        },
        "id": "f462c8c8",
        "outputId": "41645dc7-d6bd-411c-e149-22182e481544"
      },
      "outputs": [
        {
          "name": "stdout",
          "output_type": "stream",
          "text": [
            "<class 'pandas.core.frame.DataFrame'>\n",
            "Index: 1975770 entries, 0 to 2009407\n",
            "Data columns (total 28 columns):\n",
            " #   Column                  Dtype         \n",
            "---  ------                  -----         \n",
            " 0   data_hora               datetime64[ns]\n",
            " 1   ano                     Int64         \n",
            " 2   hora                    int64         \n",
            " 3   dia_semana              category      \n",
            " 4   uf                      object        \n",
            " 5   rodovia                 Int64         \n",
            " 6   km                      float64       \n",
            " 7   municipio               object        \n",
            " 8   causa_acidente          category      \n",
            " 9   tipo_acidente           category      \n",
            " 10  classificacao_acidente  category      \n",
            " 11  fase_dia                category      \n",
            " 12  sentido_via             category      \n",
            " 13  condicao_metereologica  category      \n",
            " 14  tipo_pista              category      \n",
            " 15  tracado_via             category      \n",
            " 16  uso_solo                category      \n",
            " 17  pessoas                 Int64         \n",
            " 18  mortos                  Int64         \n",
            " 19  feridos_leves           Int64         \n",
            " 20  feridos_graves          Int64         \n",
            " 21  ilesos                  Int64         \n",
            " 22  ignorados               Int64         \n",
            " 23  feridos                 Int64         \n",
            " 24  veiculos                Int64         \n",
            " 25  latitude                float64       \n",
            " 26  longitude               float64       \n",
            " 27  eh_feriado              bool          \n",
            "dtypes: Int64(10), bool(1), category(10), datetime64[ns](1), float64(3), int64(1), object(2)\n",
            "memory usage: 310.9+ MB\n"
          ]
        }
      ],
      "source": [
        "df_acidentes_sem_duplicatas.info()"
      ]
    },
    {
      "cell_type": "code",
      "execution_count": null,
      "id": "7d0b3818",
      "metadata": {
        "colab": {
          "base_uri": "https://localhost:8080/",
          "height": 927
        },
        "id": "7d0b3818",
        "outputId": "05130af5-c553-488a-886e-9ab4257d60f0"
      },
      "outputs": [
        {
          "data": {
            "application/vnd.microsoft.datawrangler.viewer.v0+json": {
              "columns": [
                {
                  "name": "index",
                  "rawType": "object",
                  "type": "string"
                },
                {
                  "name": "valores_unicos",
                  "rawType": "int64",
                  "type": "integer"
                },
                {
                  "name": "tipo_de_dado",
                  "rawType": "object",
                  "type": "unknown"
                }
              ],
              "ref": "d9b60521-8c02-4567-ac80-228edbed0629",
              "rows": [
                [
                  "data_hora",
                  "937867",
                  "datetime64[ns]"
                ],
                [
                  "latitude",
                  "473027",
                  "float64"
                ],
                [
                  "longitude",
                  "473018",
                  "float64"
                ],
                [
                  "km",
                  "11033",
                  "float64"
                ],
                [
                  "municipio",
                  "2336",
                  "object"
                ],
                [
                  "rodovia",
                  "210",
                  "Int64"
                ],
                [
                  "pessoas",
                  "79",
                  "Int64"
                ],
                [
                  "ilesos",
                  "67",
                  "Int64"
                ],
                [
                  "feridos",
                  "59",
                  "Int64"
                ],
                [
                  "feridos_leves",
                  "52",
                  "Int64"
                ],
                [
                  "ignorados",
                  "49",
                  "Int64"
                ],
                [
                  "feridos_graves",
                  "37",
                  "Int64"
                ],
                [
                  "uf",
                  "27",
                  "object"
                ],
                [
                  "hora",
                  "24",
                  "int64"
                ],
                [
                  "veiculos",
                  "22",
                  "Int64"
                ],
                [
                  "mortos",
                  "21",
                  "Int64"
                ],
                [
                  "ano",
                  "17",
                  "Int64"
                ],
                [
                  "tipo_acidente",
                  "17",
                  "category"
                ],
                [
                  "causa_acidente",
                  "13",
                  "category"
                ],
                [
                  "tracado_via",
                  "11",
                  "category"
                ],
                [
                  "condicao_metereologica",
                  "7",
                  "category"
                ],
                [
                  "dia_semana",
                  "7",
                  "category"
                ],
                [
                  "classificacao_acidente",
                  "4",
                  "category"
                ],
                [
                  "fase_dia",
                  "4",
                  "category"
                ],
                [
                  "tipo_pista",
                  "3",
                  "category"
                ],
                [
                  "sentido_via",
                  "3",
                  "category"
                ],
                [
                  "eh_feriado",
                  "2",
                  "bool"
                ],
                [
                  "uso_solo",
                  "2",
                  "category"
                ]
              ],
              "shape": {
                "columns": 2,
                "rows": 28
              }
            },
            "text/html": [
              "<div>\n",
              "<style scoped>\n",
              "    .dataframe tbody tr th:only-of-type {\n",
              "        vertical-align: middle;\n",
              "    }\n",
              "\n",
              "    .dataframe tbody tr th {\n",
              "        vertical-align: top;\n",
              "    }\n",
              "\n",
              "    .dataframe thead th {\n",
              "        text-align: right;\n",
              "    }\n",
              "</style>\n",
              "<table border=\"1\" class=\"dataframe\">\n",
              "  <thead>\n",
              "    <tr style=\"text-align: right;\">\n",
              "      <th></th>\n",
              "      <th>valores_unicos</th>\n",
              "      <th>tipo_de_dado</th>\n",
              "    </tr>\n",
              "  </thead>\n",
              "  <tbody>\n",
              "    <tr>\n",
              "      <th>data_hora</th>\n",
              "      <td>937867</td>\n",
              "      <td>datetime64[ns]</td>\n",
              "    </tr>\n",
              "    <tr>\n",
              "      <th>latitude</th>\n",
              "      <td>473027</td>\n",
              "      <td>float64</td>\n",
              "    </tr>\n",
              "    <tr>\n",
              "      <th>longitude</th>\n",
              "      <td>473018</td>\n",
              "      <td>float64</td>\n",
              "    </tr>\n",
              "    <tr>\n",
              "      <th>km</th>\n",
              "      <td>11033</td>\n",
              "      <td>float64</td>\n",
              "    </tr>\n",
              "    <tr>\n",
              "      <th>municipio</th>\n",
              "      <td>2336</td>\n",
              "      <td>object</td>\n",
              "    </tr>\n",
              "    <tr>\n",
              "      <th>rodovia</th>\n",
              "      <td>210</td>\n",
              "      <td>Int64</td>\n",
              "    </tr>\n",
              "    <tr>\n",
              "      <th>pessoas</th>\n",
              "      <td>79</td>\n",
              "      <td>Int64</td>\n",
              "    </tr>\n",
              "    <tr>\n",
              "      <th>ilesos</th>\n",
              "      <td>67</td>\n",
              "      <td>Int64</td>\n",
              "    </tr>\n",
              "    <tr>\n",
              "      <th>feridos</th>\n",
              "      <td>59</td>\n",
              "      <td>Int64</td>\n",
              "    </tr>\n",
              "    <tr>\n",
              "      <th>feridos_leves</th>\n",
              "      <td>52</td>\n",
              "      <td>Int64</td>\n",
              "    </tr>\n",
              "    <tr>\n",
              "      <th>ignorados</th>\n",
              "      <td>49</td>\n",
              "      <td>Int64</td>\n",
              "    </tr>\n",
              "    <tr>\n",
              "      <th>feridos_graves</th>\n",
              "      <td>37</td>\n",
              "      <td>Int64</td>\n",
              "    </tr>\n",
              "    <tr>\n",
              "      <th>uf</th>\n",
              "      <td>27</td>\n",
              "      <td>object</td>\n",
              "    </tr>\n",
              "    <tr>\n",
              "      <th>hora</th>\n",
              "      <td>24</td>\n",
              "      <td>int64</td>\n",
              "    </tr>\n",
              "    <tr>\n",
              "      <th>veiculos</th>\n",
              "      <td>22</td>\n",
              "      <td>Int64</td>\n",
              "    </tr>\n",
              "    <tr>\n",
              "      <th>mortos</th>\n",
              "      <td>21</td>\n",
              "      <td>Int64</td>\n",
              "    </tr>\n",
              "    <tr>\n",
              "      <th>ano</th>\n",
              "      <td>17</td>\n",
              "      <td>Int64</td>\n",
              "    </tr>\n",
              "    <tr>\n",
              "      <th>tipo_acidente</th>\n",
              "      <td>17</td>\n",
              "      <td>category</td>\n",
              "    </tr>\n",
              "    <tr>\n",
              "      <th>causa_acidente</th>\n",
              "      <td>13</td>\n",
              "      <td>category</td>\n",
              "    </tr>\n",
              "    <tr>\n",
              "      <th>tracado_via</th>\n",
              "      <td>11</td>\n",
              "      <td>category</td>\n",
              "    </tr>\n",
              "    <tr>\n",
              "      <th>condicao_metereologica</th>\n",
              "      <td>7</td>\n",
              "      <td>category</td>\n",
              "    </tr>\n",
              "    <tr>\n",
              "      <th>dia_semana</th>\n",
              "      <td>7</td>\n",
              "      <td>category</td>\n",
              "    </tr>\n",
              "    <tr>\n",
              "      <th>classificacao_acidente</th>\n",
              "      <td>4</td>\n",
              "      <td>category</td>\n",
              "    </tr>\n",
              "    <tr>\n",
              "      <th>fase_dia</th>\n",
              "      <td>4</td>\n",
              "      <td>category</td>\n",
              "    </tr>\n",
              "    <tr>\n",
              "      <th>tipo_pista</th>\n",
              "      <td>3</td>\n",
              "      <td>category</td>\n",
              "    </tr>\n",
              "    <tr>\n",
              "      <th>sentido_via</th>\n",
              "      <td>3</td>\n",
              "      <td>category</td>\n",
              "    </tr>\n",
              "    <tr>\n",
              "      <th>eh_feriado</th>\n",
              "      <td>2</td>\n",
              "      <td>bool</td>\n",
              "    </tr>\n",
              "    <tr>\n",
              "      <th>uso_solo</th>\n",
              "      <td>2</td>\n",
              "      <td>category</td>\n",
              "    </tr>\n",
              "  </tbody>\n",
              "</table>\n",
              "</div>"
            ],
            "text/plain": [
              "                        valores_unicos    tipo_de_dado\n",
              "data_hora                       937867  datetime64[ns]\n",
              "latitude                        473027         float64\n",
              "longitude                       473018         float64\n",
              "km                               11033         float64\n",
              "municipio                         2336          object\n",
              "rodovia                            210           Int64\n",
              "pessoas                             79           Int64\n",
              "ilesos                              67           Int64\n",
              "feridos                             59           Int64\n",
              "feridos_leves                       52           Int64\n",
              "ignorados                           49           Int64\n",
              "feridos_graves                      37           Int64\n",
              "uf                                  27          object\n",
              "hora                                24           int64\n",
              "veiculos                            22           Int64\n",
              "mortos                              21           Int64\n",
              "ano                                 17           Int64\n",
              "tipo_acidente                       17        category\n",
              "causa_acidente                      13        category\n",
              "tracado_via                         11        category\n",
              "condicao_metereologica               7        category\n",
              "dia_semana                           7        category\n",
              "classificacao_acidente               4        category\n",
              "fase_dia                             4        category\n",
              "tipo_pista                           3        category\n",
              "sentido_via                          3        category\n",
              "eh_feriado                           2            bool\n",
              "uso_solo                             2        category"
            ]
          },
          "execution_count": 17,
          "metadata": {},
          "output_type": "execute_result"
        }
      ],
      "source": [
        "pd.DataFrame({'valores_unicos': df_acidentes_sem_duplicatas.nunique().sort_values(ascending=False), 'tipo_de_dado': df_acidentes_sem_duplicatas.dtypes}).sort_values(by='valores_unicos', ascending=False)"
      ]
    },
    {
      "cell_type": "code",
      "execution_count": null,
      "id": "ad0c2e4f",
      "metadata": {
        "id": "ad0c2e4f"
      },
      "outputs": [],
      "source": [
        "df_acidentes_sem_duplicatas.loc[:, 'uf'] = df_acidentes_sem_duplicatas['uf'].astype('category')\n"
      ]
    },
    {
      "cell_type": "markdown",
      "id": "cc2b813d",
      "metadata": {
        "id": "cc2b813d"
      },
      "source": [
        "## 2.5. Imputação de valores ausentes\n",
        "\n",
        "Numéricos: média, mediana ou KNNImputer.\n",
        "\n",
        "Categóricos: moda ou categoria “desconhecido”.\n",
        "\n",
        "Justificativa: mantém consistência sem enviesar muito os dados.\n"
      ]
    },
    {
      "cell_type": "code",
      "execution_count": null,
      "id": "0f9be029",
      "metadata": {
        "colab": {
          "base_uri": "https://localhost:8080/",
          "height": 363
        },
        "id": "0f9be029",
        "outputId": "0983dcd8-2da7-4ad2-dce6-9a6d1f4c852d"
      },
      "outputs": [
        {
          "data": {
            "text/html": [
              "<style type=\"text/css\">\n",
              "</style>\n",
              "<table id=\"T_1718b\">\n",
              "  <thead>\n",
              "    <tr>\n",
              "      <th class=\"blank level0\" >&nbsp;</th>\n",
              "      <th id=\"T_1718b_level0_col0\" class=\"col_heading level0 col0\" >quantidade</th>\n",
              "      <th id=\"T_1718b_level0_col1\" class=\"col_heading level0 col1\" >proporcao</th>\n",
              "      <th id=\"T_1718b_level0_col2\" class=\"col_heading level0 col2\" >impacto</th>\n",
              "    </tr>\n",
              "  </thead>\n",
              "  <tbody>\n",
              "    <tr>\n",
              "      <th id=\"T_1718b_level0_row0\" class=\"row_heading level0 row0\" >longitude</th>\n",
              "      <td id=\"T_1718b_row0_col0\" class=\"data row0 col0\" >4673</td>\n",
              "      <td id=\"T_1718b_row0_col1\" class=\"data row0 col1\" >0.2365%</td>\n",
              "      <td id=\"T_1718b_row0_col2\" class=\"data row0 col2\" >baixo</td>\n",
              "    </tr>\n",
              "    <tr>\n",
              "      <th id=\"T_1718b_level0_row1\" class=\"row_heading level0 row1\" >latitude</th>\n",
              "      <td id=\"T_1718b_row1_col0\" class=\"data row1 col0\" >4673</td>\n",
              "      <td id=\"T_1718b_row1_col1\" class=\"data row1 col1\" >0.2365%</td>\n",
              "      <td id=\"T_1718b_row1_col2\" class=\"data row1 col2\" >baixo</td>\n",
              "    </tr>\n",
              "    <tr>\n",
              "      <th id=\"T_1718b_level0_row2\" class=\"row_heading level0 row2\" >km</th>\n",
              "      <td id=\"T_1718b_row2_col0\" class=\"data row2 col0\" >280</td>\n",
              "      <td id=\"T_1718b_row2_col1\" class=\"data row2 col1\" >0.0142%</td>\n",
              "      <td id=\"T_1718b_row2_col2\" class=\"data row2 col2\" >baixo</td>\n",
              "    </tr>\n",
              "    <tr>\n",
              "      <th id=\"T_1718b_level0_row3\" class=\"row_heading level0 row3\" >rodovia</th>\n",
              "      <td id=\"T_1718b_row3_col0\" class=\"data row3 col0\" >280</td>\n",
              "      <td id=\"T_1718b_row3_col1\" class=\"data row3 col1\" >0.0142%</td>\n",
              "      <td id=\"T_1718b_row3_col2\" class=\"data row3 col2\" >baixo</td>\n",
              "    </tr>\n",
              "    <tr>\n",
              "      <th id=\"T_1718b_level0_row4\" class=\"row_heading level0 row4\" >classificacao_acidente</th>\n",
              "      <td id=\"T_1718b_row4_col0\" class=\"data row4 col0\" >23</td>\n",
              "      <td id=\"T_1718b_row4_col1\" class=\"data row4 col1\" >0.0012%</td>\n",
              "      <td id=\"T_1718b_row4_col2\" class=\"data row4 col2\" >baixo</td>\n",
              "    </tr>\n",
              "    <tr>\n",
              "      <th id=\"T_1718b_level0_row5\" class=\"row_heading level0 row5\" >hora</th>\n",
              "      <td id=\"T_1718b_row5_col0\" class=\"data row5 col0\" >0</td>\n",
              "      <td id=\"T_1718b_row5_col1\" class=\"data row5 col1\" >0.0000%</td>\n",
              "      <td id=\"T_1718b_row5_col2\" class=\"data row5 col2\" >nenhum</td>\n",
              "    </tr>\n",
              "    <tr>\n",
              "      <th id=\"T_1718b_level0_row6\" class=\"row_heading level0 row6\" >dia_semana</th>\n",
              "      <td id=\"T_1718b_row6_col0\" class=\"data row6 col0\" >0</td>\n",
              "      <td id=\"T_1718b_row6_col1\" class=\"data row6 col1\" >0.0000%</td>\n",
              "      <td id=\"T_1718b_row6_col2\" class=\"data row6 col2\" >nenhum</td>\n",
              "    </tr>\n",
              "    <tr>\n",
              "      <th id=\"T_1718b_level0_row7\" class=\"row_heading level0 row7\" >uf</th>\n",
              "      <td id=\"T_1718b_row7_col0\" class=\"data row7 col0\" >0</td>\n",
              "      <td id=\"T_1718b_row7_col1\" class=\"data row7 col1\" >0.0000%</td>\n",
              "      <td id=\"T_1718b_row7_col2\" class=\"data row7 col2\" >nenhum</td>\n",
              "    </tr>\n",
              "    <tr>\n",
              "      <th id=\"T_1718b_level0_row8\" class=\"row_heading level0 row8\" >municipio</th>\n",
              "      <td id=\"T_1718b_row8_col0\" class=\"data row8 col0\" >0</td>\n",
              "      <td id=\"T_1718b_row8_col1\" class=\"data row8 col1\" >0.0000%</td>\n",
              "      <td id=\"T_1718b_row8_col2\" class=\"data row8 col2\" >nenhum</td>\n",
              "    </tr>\n",
              "    <tr>\n",
              "      <th id=\"T_1718b_level0_row9\" class=\"row_heading level0 row9\" >causa_acidente</th>\n",
              "      <td id=\"T_1718b_row9_col0\" class=\"data row9 col0\" >0</td>\n",
              "      <td id=\"T_1718b_row9_col1\" class=\"data row9 col1\" >0.0000%</td>\n",
              "      <td id=\"T_1718b_row9_col2\" class=\"data row9 col2\" >nenhum</td>\n",
              "    </tr>\n",
              "  </tbody>\n",
              "</table>\n"
            ],
            "text/plain": [
              "<pandas.io.formats.style.Styler at 0x22cbfbc7d90>"
            ]
          },
          "execution_count": 19,
          "metadata": {},
          "output_type": "execute_result"
        }
      ],
      "source": [
        "obter_nulos(df_acidentes_sem_duplicatas).style.format({'proporcao': '{:.4%}'})\n"
      ]
    },
    {
      "cell_type": "markdown",
      "id": "bbb407ca",
      "metadata": {
        "id": "bbb407ca"
      },
      "source": [
        "`classificacao_acidente` parece só se baseia nas colunas de `mortos`, `feridos`, `ignorados` então dá para preencher"
      ]
    },
    {
      "cell_type": "code",
      "execution_count": null,
      "id": "b956f547",
      "metadata": {
        "colab": {
          "base_uri": "https://localhost:8080/",
          "height": 241
        },
        "id": "b956f547",
        "outputId": "23a434b9-2861-438c-af60-792508b5e934"
      },
      "outputs": [
        {
          "data": {
            "application/vnd.microsoft.datawrangler.viewer.v0+json": {
              "columns": [
                {
                  "name": "classificacao_acidente",
                  "rawType": "category",
                  "type": "unknown"
                },
                {
                  "name": "count",
                  "rawType": "int64",
                  "type": "integer"
                }
              ],
              "ref": "533a6fd0-6ba3-40f1-bc00-80aae63ee58d",
              "rows": [
                [
                  "Sem vítimas",
                  "989060"
                ],
                [
                  "Com vítimas feridas",
                  "884237"
                ],
                [
                  "Com vítimas fatais",
                  "90970"
                ],
                [
                  "Ignorado",
                  "11480"
                ]
              ],
              "shape": {
                "columns": 1,
                "rows": 4
              }
            },
            "text/plain": [
              "classificacao_acidente\n",
              "Sem vítimas            989060\n",
              "Com vítimas feridas    884237\n",
              "Com vítimas fatais      90970\n",
              "Ignorado                11480\n",
              "Name: count, dtype: int64"
            ]
          },
          "execution_count": 20,
          "metadata": {},
          "output_type": "execute_result"
        }
      ],
      "source": [
        "df_acidentes_sem_duplicatas['classificacao_acidente'].value_counts()"
      ]
    },
    {
      "cell_type": "code",
      "execution_count": null,
      "id": "a70abecf",
      "metadata": {
        "colab": {
          "base_uri": "https://localhost:8080/",
          "height": 363
        },
        "id": "a70abecf",
        "outputId": "4b517045-5861-4f5b-bab6-6d0fe1c93cce"
      },
      "outputs": [
        {
          "data": {
            "text/html": [
              "<style type=\"text/css\">\n",
              "</style>\n",
              "<table id=\"T_a49e3\">\n",
              "  <thead>\n",
              "    <tr>\n",
              "      <th class=\"blank level0\" >&nbsp;</th>\n",
              "      <th id=\"T_a49e3_level0_col0\" class=\"col_heading level0 col0\" >quantidade</th>\n",
              "      <th id=\"T_a49e3_level0_col1\" class=\"col_heading level0 col1\" >proporcao</th>\n",
              "      <th id=\"T_a49e3_level0_col2\" class=\"col_heading level0 col2\" >impacto</th>\n",
              "    </tr>\n",
              "  </thead>\n",
              "  <tbody>\n",
              "    <tr>\n",
              "      <th id=\"T_a49e3_level0_row0\" class=\"row_heading level0 row0\" >longitude</th>\n",
              "      <td id=\"T_a49e3_row0_col0\" class=\"data row0 col0\" >4673</td>\n",
              "      <td id=\"T_a49e3_row0_col1\" class=\"data row0 col1\" >0.2365%</td>\n",
              "      <td id=\"T_a49e3_row0_col2\" class=\"data row0 col2\" >baixo</td>\n",
              "    </tr>\n",
              "    <tr>\n",
              "      <th id=\"T_a49e3_level0_row1\" class=\"row_heading level0 row1\" >latitude</th>\n",
              "      <td id=\"T_a49e3_row1_col0\" class=\"data row1 col0\" >4673</td>\n",
              "      <td id=\"T_a49e3_row1_col1\" class=\"data row1 col1\" >0.2365%</td>\n",
              "      <td id=\"T_a49e3_row1_col2\" class=\"data row1 col2\" >baixo</td>\n",
              "    </tr>\n",
              "    <tr>\n",
              "      <th id=\"T_a49e3_level0_row2\" class=\"row_heading level0 row2\" >km</th>\n",
              "      <td id=\"T_a49e3_row2_col0\" class=\"data row2 col0\" >280</td>\n",
              "      <td id=\"T_a49e3_row2_col1\" class=\"data row2 col1\" >0.0142%</td>\n",
              "      <td id=\"T_a49e3_row2_col2\" class=\"data row2 col2\" >baixo</td>\n",
              "    </tr>\n",
              "    <tr>\n",
              "      <th id=\"T_a49e3_level0_row3\" class=\"row_heading level0 row3\" >rodovia</th>\n",
              "      <td id=\"T_a49e3_row3_col0\" class=\"data row3 col0\" >280</td>\n",
              "      <td id=\"T_a49e3_row3_col1\" class=\"data row3 col1\" >0.0142%</td>\n",
              "      <td id=\"T_a49e3_row3_col2\" class=\"data row3 col2\" >baixo</td>\n",
              "    </tr>\n",
              "    <tr>\n",
              "      <th id=\"T_a49e3_level0_row4\" class=\"row_heading level0 row4\" >dia_semana</th>\n",
              "      <td id=\"T_a49e3_row4_col0\" class=\"data row4 col0\" >0</td>\n",
              "      <td id=\"T_a49e3_row4_col1\" class=\"data row4 col1\" >0.0000%</td>\n",
              "      <td id=\"T_a49e3_row4_col2\" class=\"data row4 col2\" >nenhum</td>\n",
              "    </tr>\n",
              "    <tr>\n",
              "      <th id=\"T_a49e3_level0_row5\" class=\"row_heading level0 row5\" >hora</th>\n",
              "      <td id=\"T_a49e3_row5_col0\" class=\"data row5 col0\" >0</td>\n",
              "      <td id=\"T_a49e3_row5_col1\" class=\"data row5 col1\" >0.0000%</td>\n",
              "      <td id=\"T_a49e3_row5_col2\" class=\"data row5 col2\" >nenhum</td>\n",
              "    </tr>\n",
              "    <tr>\n",
              "      <th id=\"T_a49e3_level0_row6\" class=\"row_heading level0 row6\" >uf</th>\n",
              "      <td id=\"T_a49e3_row6_col0\" class=\"data row6 col0\" >0</td>\n",
              "      <td id=\"T_a49e3_row6_col1\" class=\"data row6 col1\" >0.0000%</td>\n",
              "      <td id=\"T_a49e3_row6_col2\" class=\"data row6 col2\" >nenhum</td>\n",
              "    </tr>\n",
              "    <tr>\n",
              "      <th id=\"T_a49e3_level0_row7\" class=\"row_heading level0 row7\" >municipio</th>\n",
              "      <td id=\"T_a49e3_row7_col0\" class=\"data row7 col0\" >0</td>\n",
              "      <td id=\"T_a49e3_row7_col1\" class=\"data row7 col1\" >0.0000%</td>\n",
              "      <td id=\"T_a49e3_row7_col2\" class=\"data row7 col2\" >nenhum</td>\n",
              "    </tr>\n",
              "    <tr>\n",
              "      <th id=\"T_a49e3_level0_row8\" class=\"row_heading level0 row8\" >causa_acidente</th>\n",
              "      <td id=\"T_a49e3_row8_col0\" class=\"data row8 col0\" >0</td>\n",
              "      <td id=\"T_a49e3_row8_col1\" class=\"data row8 col1\" >0.0000%</td>\n",
              "      <td id=\"T_a49e3_row8_col2\" class=\"data row8 col2\" >nenhum</td>\n",
              "    </tr>\n",
              "    <tr>\n",
              "      <th id=\"T_a49e3_level0_row9\" class=\"row_heading level0 row9\" >tipo_acidente</th>\n",
              "      <td id=\"T_a49e3_row9_col0\" class=\"data row9 col0\" >0</td>\n",
              "      <td id=\"T_a49e3_row9_col1\" class=\"data row9 col1\" >0.0000%</td>\n",
              "      <td id=\"T_a49e3_row9_col2\" class=\"data row9 col2\" >nenhum</td>\n",
              "    </tr>\n",
              "  </tbody>\n",
              "</table>\n"
            ],
            "text/plain": [
              "<pandas.io.formats.style.Styler at 0x22cb465d810>"
            ]
          },
          "execution_count": 21,
          "metadata": {},
          "output_type": "execute_result"
        }
      ],
      "source": [
        "df_acidentes_limpo = df_acidentes_sem_duplicatas.copy()\n",
        "\n",
        "conditions = [\n",
        "    df_acidentes_limpo['mortos'] > 0,\n",
        "    df_acidentes_limpo['feridos'] > 0\n",
        "]\n",
        "\n",
        "choices = [\n",
        "    'Com vítimas fatais',\n",
        "    'Com vítimas feridas'\n",
        "]\n",
        "\n",
        "df_acidentes_limpo['classificacao_acidente'] = np.select(conditions, choices, default='Sem vítimas')\n",
        "\n",
        "obter_nulos(df_acidentes_limpo).style.format({'proporcao': '{:.4%}'})\n"
      ]
    },
    {
      "cell_type": "markdown",
      "id": "ead4da67",
      "metadata": {
        "id": "ead4da67"
      },
      "source": [
        "Neste caso, vamos apenas deletar os valores ausentes, já que a média não faz sentido para as colunas que têm valores ausentes e o KNNImputer demanda muito poder computacional."
      ]
    },
    {
      "cell_type": "code",
      "execution_count": null,
      "id": "f58ab163",
      "metadata": {
        "id": "f58ab163"
      },
      "outputs": [],
      "source": [
        "df_acidentes_limpo = df_acidentes_limpo.dropna()"
      ]
    },
    {
      "cell_type": "markdown",
      "id": "f6c77229",
      "metadata": {
        "id": "f6c77229"
      },
      "source": [
        "## 2.6. Codificação de variáveis categóricas\n",
        "\n",
        "Ordinais (ex: “leve < grave < fatal”): OrdinalEncoder.\n",
        "\n",
        "Nominais: OneHotEncoder (com cuidado para alta cardinalidade).\n",
        "\n",
        "Justificativa: permite ao modelo interpretar corretamente variáveis não numéricas.\n"
      ]
    },
    {
      "cell_type": "code",
      "execution_count": null,
      "id": "f8455247",
      "metadata": {
        "id": "f8455247"
      },
      "outputs": [],
      "source": [
        "colunas_ordinais = ['dia_semana', 'fase_dia', 'condicao_metereologica']\n",
        "ordem_dia_semana = ['Domingo', 'Segunda-feira', 'Terça-feira', 'Quarta-feira', 'Quinta-feira', 'Sexta-feira', 'Sábado']\n",
        "ordem_fase_dia = ['Amanhecer', 'Pleno dia', 'Anoitecer', 'Plena noite']\n",
        "ordem_condicao_metereologica = ['Céu claro', 'Nublado', 'Vento', 'Chuva',\n",
        "                                'Nevoeiro/Neblina', 'Granizo', 'Neve', 'Ignorada']\n",
        "\n",
        "categorias_ordinais = [ordem_dia_semana, ordem_fase_dia, ordem_condicao_metereologica]\n",
        "\n",
        "pipeline_cat_ordinal = Pipeline(\n",
        "    steps=[\n",
        "        ('ordinal', OrdinalEncoder(categories=categorias_ordinais, handle_unknown='use_encoded_value', unknown_value=-1)),\n",
        "    ]\n",
        ")\n",
        "\n",
        "pipeline_cat_nominal = Pipeline(\n",
        "    steps=[\n",
        "        ('onehot', OneHotEncoder(handle_unknown='ignore', sparse_output=True))\n",
        "    ]\n",
        ")\n",
        "\n"
      ]
    },
    {
      "cell_type": "markdown",
      "id": "0644f838",
      "metadata": {
        "id": "0644f838"
      },
      "source": [
        "## 2.7. Normalização e padronização\n",
        "\n",
        "StandardScaler ou MinMaxScaler, dependendo do modelo:\n",
        "\n",
        "SVM e Regressão Logística → sensíveis a escala.\n",
        "\n",
        "Árvores de decisão / Random Forest → menos sensíveis.\n",
        "\n",
        "Justificativa: garante comparabilidade entre variáveis numéricas.\n"
      ]
    },
    {
      "cell_type": "code",
      "execution_count": null,
      "id": "25a22c3b",
      "metadata": {
        "id": "25a22c3b"
      },
      "outputs": [],
      "source": [
        "pipeline_standard_scaler = Pipeline(\n",
        "    steps=[\n",
        "        ('standard_scaler', StandardScaler())\n",
        "    ]\n",
        ")\n"
      ]
    },
    {
      "cell_type": "code",
      "execution_count": null,
      "id": "dce2f741",
      "metadata": {
        "id": "dce2f741"
      },
      "outputs": [],
      "source": [
        "pipeline_min_max_scaler = Pipeline(\n",
        "    steps=[\n",
        "        ('min_max_scaler', MinMaxScaler())\n",
        "    ]\n",
        ")\n"
      ]
    },
    {
      "cell_type": "markdown",
      "id": "6e2eaa71",
      "metadata": {
        "id": "6e2eaa71"
      },
      "source": [
        "## 2.8. Gerando novas features\n",
        "\n",
        "Gerando features para reduzir algumas possibilidades de dados.\n",
        "Aqui removemos também features que são apenas visíveis apos o acidente e como queremos saber se teve ou não vitimas, o ideal é termos as informações pré acidente apenas\n"
      ]
    },
    {
      "cell_type": "code",
      "execution_count": null,
      "id": "792ed1d6",
      "metadata": {
        "id": "792ed1d6"
      },
      "outputs": [],
      "source": [
        "# --- 1) Engenharia de Features ---\n",
        "df_engineered = df_acidentes_sem_duplicatas.dropna().copy()\n",
        "\n",
        "# data_hora -> componentes\n",
        "df_engineered['data_hora'] = pd.to_datetime(df_engineered['data_hora'], errors='coerce')\n",
        "df_engineered['dia_semana'] = df_engineered['data_hora'].dt.day_name()\n",
        "df_engineered['mes'] = df_engineered['data_hora'].dt.month\n",
        "df_engineered['hora'] = df_engineered['data_hora'].dt.hour\n",
        "\n",
        "# turno do dia\n",
        "def turno(h):\n",
        "    if 5 <= h < 8: return \"Amanhecer\"\n",
        "    elif 8 <= h < 18: return \"Pleno dia\"\n",
        "    elif 18 <= h < 21: return \"Anoitecer\"\n",
        "    else: return \"Plena noite\"\n",
        "df_engineered['turno_dia'] = df_engineered['hora'].apply(turno)\n",
        "\n",
        "# condição climática simplificada\n",
        "def simplifica_clima(x):\n",
        "    if not isinstance(x, str): return \"Ignorado\"\n",
        "    x = x.lower()\n",
        "    if \"chuva\" in x: return \"Chuva\"\n",
        "    if \"neblin\" in x: return \"Neblina\"\n",
        "    if \"nublado\" in x: return \"Nublado\"\n",
        "    if \"vento\" in x: return \"Vento\"\n",
        "    if \"granizo\" in x: return \"Granizo\"\n",
        "    if \"neve\" in x: return \"Neve\"\n",
        "    if \"claro\" in x: return \"Céu claro\"\n",
        "    return \"Ignorado\"\n",
        "df_engineered['clima_simplificado'] = df_engineered['condicao_metereologica'].apply(simplifica_clima)\n",
        "\n",
        "post_accidente_cols = [\n",
        "    \"mortos\",\n",
        "    \"feridos_leves\",\n",
        "    \"feridos_graves\",\n",
        "    \"ilesos\",\n",
        "    \"ignorados\",\n",
        "    \"feridos\",\n",
        "    \"pessoas\",\n",
        "    \"veiculos\"\n",
        "]\n",
        "\n",
        "# cria uma cópia sem essas colunas\n",
        "df_engineered = df_engineered.drop(columns=post_accidente_cols, errors=\"ignore\")\n",
        "\n"
      ]
    },
    {
      "cell_type": "code",
      "execution_count": null,
      "id": "C6gbEQKcOpJ2",
      "metadata": {
        "colab": {
          "base_uri": "https://localhost:8080/"
        },
        "id": "C6gbEQKcOpJ2",
        "outputId": "32bcbd41-d660-47b5-cd61-61daad0853ac"
      },
      "outputs": [
        {
          "name": "stdout",
          "output_type": "stream",
          "text": [
            "<class 'pandas.core.frame.DataFrame'>\n",
            "Index: 1970794 entries, 0 to 2009407\n",
            "Data columns (total 23 columns):\n",
            " #   Column                  Dtype         \n",
            "---  ------                  -----         \n",
            " 0   data_hora               datetime64[ns]\n",
            " 1   ano                     Int64         \n",
            " 2   hora                    int32         \n",
            " 3   dia_semana              object        \n",
            " 4   uf                      object        \n",
            " 5   rodovia                 Int64         \n",
            " 6   km                      float64       \n",
            " 7   municipio               object        \n",
            " 8   causa_acidente          category      \n",
            " 9   tipo_acidente           category      \n",
            " 10  classificacao_acidente  category      \n",
            " 11  fase_dia                category      \n",
            " 12  sentido_via             category      \n",
            " 13  condicao_metereologica  category      \n",
            " 14  tipo_pista              category      \n",
            " 15  tracado_via             category      \n",
            " 16  uso_solo                category      \n",
            " 17  latitude                float64       \n",
            " 18  longitude               float64       \n",
            " 19  eh_feriado              bool          \n",
            " 20  mes                     int32         \n",
            " 21  turno_dia               object        \n",
            " 22  clima_simplificado      object        \n",
            "dtypes: Int64(2), bool(1), category(9), datetime64[ns](1), float64(3), int32(2), object(5)\n",
            "memory usage: 218.0+ MB\n"
          ]
        }
      ],
      "source": [
        "#Podemos observar as novas features agora!\n",
        "df_engineered.info()"
      ]
    },
    {
      "cell_type": "markdown",
      "id": "fR3iMocEf_oV",
      "metadata": {
        "id": "fR3iMocEf_oV"
      },
      "source": [
        "## 2.9. Verificação de correção para encontrar as melhores opcoes\n",
        "\n",
        "Aqui usamos a verificação de Cramers e análise de correlaçao para vermos quais variaveis estão relacionadas com a variavel alvo.\n",
        "Cramers para categoricas e analise padrão para as númericas"
      ]
    },
    {
      "cell_type": "code",
      "execution_count": null,
      "id": "yAKABX5JJLbB",
      "metadata": {
        "colab": {
          "base_uri": "https://localhost:8080/"
        },
        "id": "yAKABX5JJLbB",
        "outputId": "fd6224f8-d8ca-4aff-83c6-6b37b8475793"
      },
      "outputs": [
        {
          "name": "stdout",
          "output_type": "stream",
          "text": [
            "tipo_acidente            0.26\n",
            "municipio                0.15\n",
            "causa_acidente           0.10\n",
            "tracado_via              0.09\n",
            "uso_solo                 0.08\n",
            "uf                       0.08\n",
            "tipo_pista               0.07\n",
            "fase_dia                 0.07\n",
            "turno_dia                0.06\n",
            "clima_simplificado       0.05\n",
            "condicao_metereologica   0.05\n",
            "dia_semana               0.05\n",
            "sentido_via              0.01\n",
            "dtype: float64\n"
          ]
        }
      ],
      "source": [
        "cv_results = cramers_v_for_all(df_engineered, TARGET)\n",
        "print(cv_results)"
      ]
    },
    {
      "cell_type": "code",
      "execution_count": null,
      "id": "vjGG6qe-NX_M",
      "metadata": {
        "colab": {
          "base_uri": "https://localhost:8080/"
        },
        "id": "vjGG6qe-NX_M",
        "outputId": "4540748d-7fcc-49e0-eac5-ea8579bfb45f"
      },
      "outputs": [
        {
          "name": "stdout",
          "output_type": "stream",
          "text": [
            "ano         -0.29\n",
            "rodovia     -0.03\n",
            "hora        -0.02\n",
            "mes         -0.01\n",
            "km          -0.00\n",
            "latitude    -0.00\n",
            "longitude   -0.00\n",
            "dtype: float64\n"
          ]
        }
      ],
      "source": [
        "# copia para não sujar o original\n",
        "df_corr = df_engineered.copy()\n",
        "\n",
        "# converte alvo categórico em numérico\n",
        "df_corr[TARGET + \"_num\"] = df_corr[TARGET].astype(\"category\").cat.codes\n",
        "\n",
        "# seleciona apenas numéricas\n",
        "num_cols = df_corr.select_dtypes(include=[np.number]).columns.drop(TARGET + \"_num\", errors=\"ignore\")\n",
        "\n",
        "# correlação simples (Pearson)\n",
        "corrs = df_corr[num_cols].corrwith(df_corr[TARGET + \"_num\"]).sort_values(key=abs, ascending=False)\n",
        "\n",
        "print(corrs)\n"
      ]
    },
    {
      "cell_type": "markdown",
      "id": "sBc8vGq9g1kp",
      "metadata": {
        "id": "sBc8vGq9g1kp"
      },
      "source": [
        "As correlações não sao boas, principalmente as númericas, então vamos remove-las.\n",
        "Um ponto de atenção é o ano, que pode indicar que com o passar dos anos, o número de acidentes foi diminuindo"
      ]
    },
    {
      "cell_type": "code",
      "execution_count": null,
      "id": "NxxJkTdZTkz6",
      "metadata": {
        "colab": {
          "base_uri": "https://localhost:8080/"
        },
        "id": "NxxJkTdZTkz6",
        "outputId": "e64eb916-3ade-49ed-e4ba-c54414daf571"
      },
      "outputs": [
        {
          "name": "stdout",
          "output_type": "stream",
          "text": [
            "Colunas removidas por baixa correlação: ['rodovia', 'hora', 'mes', 'km', 'latitude', 'longitude', 'sentido_via']\n"
          ]
        }
      ],
      "source": [
        "low_corr_cols = [\n",
        "    \"rodovia\",\n",
        "    \"hora\",\n",
        "    \"mes\",\n",
        "    \"km\",\n",
        "    \"latitude\",\n",
        "    \"longitude\",\n",
        "    \"sentido_via\"\n",
        "]\n",
        "\n",
        "# cria cópia sem essas colunas\n",
        "df_engineered = df_engineered.drop(columns=low_corr_cols, errors=\"ignore\")\n",
        "print(\"Colunas removidas por baixa correlação:\", low_corr_cols)\n"
      ]
    },
    {
      "cell_type": "markdown",
      "id": "YbwY_slNhMp2",
      "metadata": {
        "id": "YbwY_slNhMp2"
      },
      "source": [
        "## 2.10. Integração em pipeline\n",
        "\n",
        "Transformaremos a classificaçao acidente em binária. Ou tem vítima, ou não. Também vamos começar a montar a pipeline, fazendo o onehot encoding nos categoricos e scalando os númericos"
      ]
    },
    {
      "cell_type": "code",
      "execution_count": null,
      "id": "T15BNflGVWk7",
      "metadata": {
        "colab": {
          "base_uri": "https://localhost:8080/"
        },
        "id": "T15BNflGVWk7",
        "outputId": "6001da71-a2f3-400d-ffe1-ea3a192b1378"
      },
      "outputs": [
        {
          "name": "stderr",
          "output_type": "stream",
          "text": [
            "C:\\Users\\matheus\\AppData\\Local\\Temp\\ipykernel_17800\\2389757356.py:1: FutureWarning: The behavior of Series.replace (and DataFrame.replace) with CategoricalDtype is deprecated. In a future version, replace will only be used for cases that preserve the categories. To change the categories, use ser.cat.rename_categories instead.\n",
            "  df_engineered[\"classificacao_binaria\"] = df_engineered[\"classificacao_acidente\"].replace({\n"
          ]
        }
      ],
      "source": [
        "df_engineered[\"classificacao_binaria\"] = df_engineered[\"classificacao_acidente\"].replace({\n",
        "    \"Sem vítimas\": \"Sem vítimas\",\n",
        "    \"Com vítimas feridas\": \"Com vítimas\",\n",
        "    \"Com vítimas fatais\": \"Com vítimas\",\n",
        "    \"Ignorado\": \"Ignorado\"   # opcional: pode tratar como NaN\n",
        "})\n",
        "\n",
        "# se quiser forçar só 2 classes (descartar Ignorado):\n",
        "df_engineered = df_engineered[df_engineered[\"classificacao_binaria\"] != \"Ignorado\"].copy()\n",
        "\n",
        "# ou, se preferir, já transforma em 0/1\n",
        "df_engineered[\"vitimas\"] = df_engineered[\"classificacao_binaria\"].map({\n",
        "    \"Sem vítimas\": 0,\n",
        "    \"Com vítimas\": 1\n",
        "})\n",
        "\n",
        "df_engineered.drop(columns=[\"classificacao_acidente\", \"classificacao_binaria\"], errors=\"ignore\", inplace=True)"
      ]
    },
    {
      "cell_type": "code",
      "execution_count": null,
      "id": "pbsjjYr-h9Ls",
      "metadata": {
        "colab": {
          "base_uri": "https://localhost:8080/"
        },
        "id": "pbsjjYr-h9Ls",
        "outputId": "405e7b76-f092-46dd-9d11-ed716a735af7"
      },
      "outputs": [
        {
          "name": "stdout",
          "output_type": "stream",
          "text": [
            "<class 'pandas.core.frame.DataFrame'>\n",
            "Index: 1959338 entries, 0 to 2009407\n",
            "Data columns (total 16 columns):\n",
            " #   Column                  Dtype         \n",
            "---  ------                  -----         \n",
            " 0   data_hora               datetime64[ns]\n",
            " 1   ano                     Int64         \n",
            " 2   dia_semana              object        \n",
            " 3   uf                      object        \n",
            " 4   municipio               object        \n",
            " 5   causa_acidente          category      \n",
            " 6   tipo_acidente           category      \n",
            " 7   fase_dia                category      \n",
            " 8   condicao_metereologica  category      \n",
            " 9   tipo_pista              category      \n",
            " 10  tracado_via             category      \n",
            " 11  uso_solo                category      \n",
            " 12  eh_feriado              bool          \n",
            " 13  turno_dia               object        \n",
            " 14  clima_simplificado      object        \n",
            " 15  vitimas                 float64       \n",
            "dtypes: Int64(1), bool(1), category(7), datetime64[ns](1), float64(1), object(5)\n",
            "memory usage: 151.4+ MB\n"
          ]
        }
      ],
      "source": [
        "df_engineered.info()"
      ]
    },
    {
      "cell_type": "code",
      "execution_count": null,
      "id": "ZsoRGn0gW_OI",
      "metadata": {
        "id": "ZsoRGn0gW_OI"
      },
      "outputs": [],
      "source": [
        "# númericas\n",
        "num_proc = Pipeline(steps=[\n",
        "    (\"scaler\", StandardScaler())\n",
        "])\n",
        "\n",
        "# categóricas\n",
        "cat_proc = Pipeline(steps=[\n",
        "    (\"oh\", OneHotEncoder(handle_unknown=\"ignore\", sparse_output=True))\n",
        "])\n",
        "\n",
        "\n",
        "X = df_engineered.drop(columns=[\"vitimas\"])\n",
        "y = df_engineered[\"vitimas\"]\n",
        "\n",
        "\n",
        "\n",
        "preprocessor = ColumnTransformer(\n",
        "    transformers=[\n",
        "        (\"num\", num_proc, X.select_dtypes(include=np.number).columns),\n",
        "        (\"cat\", cat_proc, X.select_dtypes(include=[\"object\",\"category\",\"bool\"]).columns)\n",
        "    ]\n",
        ")\n",
        "\n",
        "\n",
        "X_small = X.sample(100000, random_state=42)\n",
        "y_small = y.loc[X_small.index]\n",
        "\n"
      ]
    },
    {
      "cell_type": "code",
      "execution_count": null,
      "id": "fc0fc4a6",
      "metadata": {
        "id": "fc0fc4a6",
        "outputId": "6fa53339-7273-4fba-801b-e3a056c6b3f5"
      },
      "outputs": [
        {
          "data": {
            "text/plain": [
              "((100000, 15), (100000,))"
            ]
          },
          "execution_count": 36,
          "metadata": {},
          "output_type": "execute_result"
        }
      ],
      "source": [
        "# Criação de X e y reduzidos para testes preliminares\n",
        "X_small.shape, y_small.shape"
      ]
    },
    {
      "cell_type": "markdown",
      "id": "70bef733",
      "metadata": {
        "id": "70bef733"
      },
      "source": [
        "# 3 Análise Exploratória e Estatística (EDA)"
      ]
    },
    {
      "cell_type": "markdown",
      "id": "6c692d8d",
      "metadata": {
        "id": "6c692d8d"
      },
      "source": [
        "## 3.1 Estrutura do dataset"
      ]
    },
    {
      "cell_type": "code",
      "execution_count": null,
      "id": "2d9f07b9",
      "metadata": {
        "colab": {
          "base_uri": "https://localhost:8080/",
          "height": 1000
        },
        "id": "2d9f07b9",
        "outputId": "f1528d61-6fde-4a15-d06d-c6958abdfd82"
      },
      "outputs": [
        {
          "name": "stdout",
          "output_type": "stream",
          "text": [
            "Formato (linhas, colunas): (2009408, 30)\n"
          ]
        },
        {
          "data": {
            "application/vnd.microsoft.datawrangler.viewer.v0+json": {
              "columns": [
                {
                  "name": "index",
                  "rawType": "int64",
                  "type": "integer"
                },
                {
                  "name": "data_hora",
                  "rawType": "datetime64[ns]",
                  "type": "datetime"
                },
                {
                  "name": "ano",
                  "rawType": "Int64",
                  "type": "integer"
                },
                {
                  "name": "hora",
                  "rawType": "int64",
                  "type": "integer"
                },
                {
                  "name": "dia_semana",
                  "rawType": "category",
                  "type": "unknown"
                },
                {
                  "name": "uf",
                  "rawType": "object",
                  "type": "string"
                },
                {
                  "name": "rodovia",
                  "rawType": "Int64",
                  "type": "integer"
                },
                {
                  "name": "km",
                  "rawType": "float64",
                  "type": "float"
                },
                {
                  "name": "municipio",
                  "rawType": "object",
                  "type": "string"
                },
                {
                  "name": "causa_acidente",
                  "rawType": "category",
                  "type": "unknown"
                },
                {
                  "name": "tipo_acidente",
                  "rawType": "category",
                  "type": "unknown"
                },
                {
                  "name": "classificacao_acidente",
                  "rawType": "category",
                  "type": "unknown"
                },
                {
                  "name": "fase_dia",
                  "rawType": "category",
                  "type": "unknown"
                },
                {
                  "name": "sentido_via",
                  "rawType": "category",
                  "type": "unknown"
                },
                {
                  "name": "condicao_metereologica",
                  "rawType": "category",
                  "type": "unknown"
                },
                {
                  "name": "tipo_pista",
                  "rawType": "category",
                  "type": "unknown"
                },
                {
                  "name": "tracado_via",
                  "rawType": "category",
                  "type": "unknown"
                },
                {
                  "name": "uso_solo",
                  "rawType": "category",
                  "type": "unknown"
                },
                {
                  "name": "pessoas",
                  "rawType": "Int64",
                  "type": "integer"
                },
                {
                  "name": "mortos",
                  "rawType": "Int64",
                  "type": "integer"
                },
                {
                  "name": "feridos_leves",
                  "rawType": "Int64",
                  "type": "integer"
                },
                {
                  "name": "feridos_graves",
                  "rawType": "Int64",
                  "type": "integer"
                },
                {
                  "name": "ilesos",
                  "rawType": "Int64",
                  "type": "integer"
                },
                {
                  "name": "ignorados",
                  "rawType": "Int64",
                  "type": "integer"
                },
                {
                  "name": "feridos",
                  "rawType": "Int64",
                  "type": "integer"
                },
                {
                  "name": "veiculos",
                  "rawType": "Int64",
                  "type": "integer"
                },
                {
                  "name": "latitude",
                  "rawType": "float64",
                  "type": "float"
                },
                {
                  "name": "longitude",
                  "rawType": "float64",
                  "type": "float"
                },
                {
                  "name": "ambiguidade_uf",
                  "rawType": "object",
                  "type": "unknown"
                },
                {
                  "name": "nome_feriado",
                  "rawType": "object",
                  "type": "unknown"
                },
                {
                  "name": "eh_feriado",
                  "rawType": "bool",
                  "type": "boolean"
                }
              ],
              "ref": "a3e6f959-e403-4248-9233-eb35addfab8b",
              "rows": [
                [
                  "0",
                  "2010-10-29 14:20:00",
                  "2010",
                  "14",
                  "Sexta",
                  "RS",
                  "285",
                  "397.3",
                  "Santa Bárbara do Sul",
                  "Condução/manobra inadequada",
                  "Saída de pista",
                  "Sem vítimas",
                  "Pleno dia",
                  "Crescente",
                  "Chuva",
                  "Simples",
                  "Curva",
                  "Rural",
                  "5",
                  "0",
                  "0",
                  "0",
                  "5",
                  "0",
                  "0",
                  "1",
                  "-28.381611028962457",
                  "-53.306780240472705",
                  null,
                  null,
                  "False"
                ],
                [
                  "1",
                  "2010-12-14 22:00:00",
                  "2010",
                  "22",
                  "Terça",
                  "SP",
                  "116",
                  "406.5",
                  "Miracatu",
                  "Outras",
                  "Colisão com objeto",
                  "Sem vítimas",
                  "Plena noite",
                  "Crescente",
                  "Chuva",
                  "Dupla",
                  "Reta",
                  "Rural",
                  "1",
                  "0",
                  "0",
                  "0",
                  "1",
                  "0",
                  "0",
                  "1",
                  "-24.331014448248098",
                  "-47.628864879227216",
                  null,
                  null,
                  "False"
                ],
                [
                  "2",
                  "2010-03-07 16:00:00",
                  "2010",
                  "16",
                  "Domingo",
                  "BA",
                  "407",
                  "220.8",
                  "Capim Grosso",
                  "Condução/manobra inadequada",
                  "Capotamento",
                  "Com vítimas feridas",
                  "Pleno dia",
                  "Decrescente",
                  "Chuva",
                  "Simples",
                  "Reta",
                  "Rural",
                  "3",
                  "0",
                  "0",
                  "2",
                  "1",
                  "0",
                  "2",
                  "1",
                  "-11.276965642233929",
                  "-40.02210323890744",
                  null,
                  null,
                  "False"
                ],
                [
                  "3",
                  "2010-10-26 14:20:00",
                  "2010",
                  "14",
                  "Terça",
                  "BA",
                  "116",
                  "567.0",
                  "Nova Itarana",
                  "Outras",
                  "Colisão com objeto",
                  "Sem vítimas",
                  "Pleno dia",
                  "Crescente",
                  "Céu claro",
                  "Múltipla",
                  "Reta",
                  "Rural",
                  "1",
                  "0",
                  "0",
                  "0",
                  "1",
                  "0",
                  "0",
                  "1",
                  "-12.986252306483223",
                  "-39.944143718269984",
                  null,
                  null,
                  "False"
                ],
                [
                  "4",
                  "2010-09-15 12:30:00",
                  "2010",
                  "12",
                  "Quarta",
                  "SE",
                  "101",
                  "107.0",
                  "São Cristóvão",
                  "Comportamento do condutor",
                  "Colisão com objeto",
                  "Com vítimas feridas",
                  "Pleno dia",
                  "Decrescente",
                  "Céu claro",
                  "Simples",
                  "Reta",
                  "Rural",
                  "2",
                  "0",
                  "2",
                  "0",
                  "0",
                  "0",
                  "2",
                  "1",
                  "-10.96046965238523",
                  "-37.25352159398636",
                  null,
                  null,
                  "False"
                ]
              ],
              "shape": {
                "columns": 30,
                "rows": 5
              }
            },
            "text/html": [
              "<div>\n",
              "<style scoped>\n",
              "    .dataframe tbody tr th:only-of-type {\n",
              "        vertical-align: middle;\n",
              "    }\n",
              "\n",
              "    .dataframe tbody tr th {\n",
              "        vertical-align: top;\n",
              "    }\n",
              "\n",
              "    .dataframe thead th {\n",
              "        text-align: right;\n",
              "    }\n",
              "</style>\n",
              "<table border=\"1\" class=\"dataframe\">\n",
              "  <thead>\n",
              "    <tr style=\"text-align: right;\">\n",
              "      <th></th>\n",
              "      <th>data_hora</th>\n",
              "      <th>ano</th>\n",
              "      <th>hora</th>\n",
              "      <th>dia_semana</th>\n",
              "      <th>uf</th>\n",
              "      <th>rodovia</th>\n",
              "      <th>km</th>\n",
              "      <th>municipio</th>\n",
              "      <th>causa_acidente</th>\n",
              "      <th>tipo_acidente</th>\n",
              "      <th>...</th>\n",
              "      <th>feridos_graves</th>\n",
              "      <th>ilesos</th>\n",
              "      <th>ignorados</th>\n",
              "      <th>feridos</th>\n",
              "      <th>veiculos</th>\n",
              "      <th>latitude</th>\n",
              "      <th>longitude</th>\n",
              "      <th>ambiguidade_uf</th>\n",
              "      <th>nome_feriado</th>\n",
              "      <th>eh_feriado</th>\n",
              "    </tr>\n",
              "  </thead>\n",
              "  <tbody>\n",
              "    <tr>\n",
              "      <th>0</th>\n",
              "      <td>2010-10-29 14:20:00</td>\n",
              "      <td>2010</td>\n",
              "      <td>14</td>\n",
              "      <td>Sexta</td>\n",
              "      <td>RS</td>\n",
              "      <td>285</td>\n",
              "      <td>397.30</td>\n",
              "      <td>Santa Bárbara do Sul</td>\n",
              "      <td>Condução/manobra inadequada</td>\n",
              "      <td>Saída de pista</td>\n",
              "      <td>...</td>\n",
              "      <td>0</td>\n",
              "      <td>5</td>\n",
              "      <td>0</td>\n",
              "      <td>0</td>\n",
              "      <td>1</td>\n",
              "      <td>-28.38</td>\n",
              "      <td>-53.31</td>\n",
              "      <td>None</td>\n",
              "      <td>None</td>\n",
              "      <td>False</td>\n",
              "    </tr>\n",
              "    <tr>\n",
              "      <th>1</th>\n",
              "      <td>2010-12-14 22:00:00</td>\n",
              "      <td>2010</td>\n",
              "      <td>22</td>\n",
              "      <td>Terça</td>\n",
              "      <td>SP</td>\n",
              "      <td>116</td>\n",
              "      <td>406.50</td>\n",
              "      <td>Miracatu</td>\n",
              "      <td>Outras</td>\n",
              "      <td>Colisão com objeto</td>\n",
              "      <td>...</td>\n",
              "      <td>0</td>\n",
              "      <td>1</td>\n",
              "      <td>0</td>\n",
              "      <td>0</td>\n",
              "      <td>1</td>\n",
              "      <td>-24.33</td>\n",
              "      <td>-47.63</td>\n",
              "      <td>None</td>\n",
              "      <td>None</td>\n",
              "      <td>False</td>\n",
              "    </tr>\n",
              "    <tr>\n",
              "      <th>2</th>\n",
              "      <td>2010-03-07 16:00:00</td>\n",
              "      <td>2010</td>\n",
              "      <td>16</td>\n",
              "      <td>Domingo</td>\n",
              "      <td>BA</td>\n",
              "      <td>407</td>\n",
              "      <td>220.80</td>\n",
              "      <td>Capim Grosso</td>\n",
              "      <td>Condução/manobra inadequada</td>\n",
              "      <td>Capotamento</td>\n",
              "      <td>...</td>\n",
              "      <td>2</td>\n",
              "      <td>1</td>\n",
              "      <td>0</td>\n",
              "      <td>2</td>\n",
              "      <td>1</td>\n",
              "      <td>-11.28</td>\n",
              "      <td>-40.02</td>\n",
              "      <td>None</td>\n",
              "      <td>None</td>\n",
              "      <td>False</td>\n",
              "    </tr>\n",
              "    <tr>\n",
              "      <th>3</th>\n",
              "      <td>2010-10-26 14:20:00</td>\n",
              "      <td>2010</td>\n",
              "      <td>14</td>\n",
              "      <td>Terça</td>\n",
              "      <td>BA</td>\n",
              "      <td>116</td>\n",
              "      <td>567.00</td>\n",
              "      <td>Nova Itarana</td>\n",
              "      <td>Outras</td>\n",
              "      <td>Colisão com objeto</td>\n",
              "      <td>...</td>\n",
              "      <td>0</td>\n",
              "      <td>1</td>\n",
              "      <td>0</td>\n",
              "      <td>0</td>\n",
              "      <td>1</td>\n",
              "      <td>-12.99</td>\n",
              "      <td>-39.94</td>\n",
              "      <td>None</td>\n",
              "      <td>None</td>\n",
              "      <td>False</td>\n",
              "    </tr>\n",
              "    <tr>\n",
              "      <th>4</th>\n",
              "      <td>2010-09-15 12:30:00</td>\n",
              "      <td>2010</td>\n",
              "      <td>12</td>\n",
              "      <td>Quarta</td>\n",
              "      <td>SE</td>\n",
              "      <td>101</td>\n",
              "      <td>107.00</td>\n",
              "      <td>São Cristóvão</td>\n",
              "      <td>Comportamento do condutor</td>\n",
              "      <td>Colisão com objeto</td>\n",
              "      <td>...</td>\n",
              "      <td>0</td>\n",
              "      <td>0</td>\n",
              "      <td>0</td>\n",
              "      <td>2</td>\n",
              "      <td>1</td>\n",
              "      <td>-10.96</td>\n",
              "      <td>-37.25</td>\n",
              "      <td>None</td>\n",
              "      <td>None</td>\n",
              "      <td>False</td>\n",
              "    </tr>\n",
              "  </tbody>\n",
              "</table>\n",
              "<p>5 rows × 30 columns</p>\n",
              "</div>"
            ],
            "text/plain": [
              "            data_hora   ano  hora dia_semana  uf  rodovia     km  \\\n",
              "0 2010-10-29 14:20:00  2010    14      Sexta  RS      285 397.30   \n",
              "1 2010-12-14 22:00:00  2010    22      Terça  SP      116 406.50   \n",
              "2 2010-03-07 16:00:00  2010    16    Domingo  BA      407 220.80   \n",
              "3 2010-10-26 14:20:00  2010    14      Terça  BA      116 567.00   \n",
              "4 2010-09-15 12:30:00  2010    12     Quarta  SE      101 107.00   \n",
              "\n",
              "              municipio               causa_acidente       tipo_acidente  ...  \\\n",
              "0  Santa Bárbara do Sul  Condução/manobra inadequada      Saída de pista  ...   \n",
              "1              Miracatu                       Outras  Colisão com objeto  ...   \n",
              "2          Capim Grosso  Condução/manobra inadequada         Capotamento  ...   \n",
              "3          Nova Itarana                       Outras  Colisão com objeto  ...   \n",
              "4         São Cristóvão    Comportamento do condutor  Colisão com objeto  ...   \n",
              "\n",
              "  feridos_graves ilesos ignorados feridos veiculos latitude longitude  \\\n",
              "0              0      5         0       0        1   -28.38    -53.31   \n",
              "1              0      1         0       0        1   -24.33    -47.63   \n",
              "2              2      1         0       2        1   -11.28    -40.02   \n",
              "3              0      1         0       0        1   -12.99    -39.94   \n",
              "4              0      0         0       2        1   -10.96    -37.25   \n",
              "\n",
              "   ambiguidade_uf  nome_feriado  eh_feriado  \n",
              "0            None          None       False  \n",
              "1            None          None       False  \n",
              "2            None          None       False  \n",
              "3            None          None       False  \n",
              "4            None          None       False  \n",
              "\n",
              "[5 rows x 30 columns]"
            ]
          },
          "metadata": {},
          "output_type": "display_data"
        },
        {
          "name": "stdout",
          "output_type": "stream",
          "text": [
            "<class 'pandas.core.frame.DataFrame'>\n",
            "RangeIndex: 2009408 entries, 0 to 2009407\n",
            "Data columns (total 30 columns):\n",
            " #   Column                  Dtype         \n",
            "---  ------                  -----         \n",
            " 0   data_hora               datetime64[ns]\n",
            " 1   ano                     Int64         \n",
            " 2   hora                    int64         \n",
            " 3   dia_semana              category      \n",
            " 4   uf                      object        \n",
            " 5   rodovia                 Int64         \n",
            " 6   km                      float64       \n",
            " 7   municipio               object        \n",
            " 8   causa_acidente          category      \n",
            " 9   tipo_acidente           category      \n",
            " 10  classificacao_acidente  category      \n",
            " 11  fase_dia                category      \n",
            " 12  sentido_via             category      \n",
            " 13  condicao_metereologica  category      \n",
            " 14  tipo_pista              category      \n",
            " 15  tracado_via             category      \n",
            " 16  uso_solo                category      \n",
            " 17  pessoas                 Int64         \n",
            " 18  mortos                  Int64         \n",
            " 19  feridos_leves           Int64         \n",
            " 20  feridos_graves          Int64         \n",
            " 21  ilesos                  Int64         \n",
            " 22  ignorados               Int64         \n",
            " 23  feridos                 Int64         \n",
            " 24  veiculos                Int64         \n",
            " 25  latitude                float64       \n",
            " 26  longitude               float64       \n",
            " 27  ambiguidade_uf          object        \n",
            " 28  nome_feriado            object        \n",
            " 29  eh_feriado              bool          \n",
            "dtypes: Int64(10), bool(1), category(10), datetime64[ns](1), float64(3), int64(1), object(4)\n",
            "memory usage: 331.5+ MB\n"
          ]
        },
        {
          "data": {
            "text/plain": [
              "None"
            ]
          },
          "metadata": {},
          "output_type": "display_data"
        },
        {
          "data": {
            "application/vnd.microsoft.datawrangler.viewer.v0+json": {
              "columns": [
                {
                  "name": "index",
                  "rawType": "object",
                  "type": "string"
                },
                {
                  "name": "0",
                  "rawType": "int64",
                  "type": "integer"
                }
              ],
              "ref": "26798643-966e-470c-ab3d-e239f5add60a",
              "rows": [
                [
                  "ambiguidade_uf",
                  "2007397"
                ],
                [
                  "nome_feriado",
                  "1935752"
                ],
                [
                  "latitude",
                  "4681"
                ],
                [
                  "longitude",
                  "4681"
                ],
                [
                  "rodovia",
                  "329"
                ],
                [
                  "km",
                  "329"
                ],
                [
                  "classificacao_acidente",
                  "25"
                ],
                [
                  "dia_semana",
                  "0"
                ],
                [
                  "causa_acidente",
                  "0"
                ],
                [
                  "municipio",
                  "0"
                ],
                [
                  "uf",
                  "0"
                ],
                [
                  "hora",
                  "0"
                ],
                [
                  "ano",
                  "0"
                ],
                [
                  "data_hora",
                  "0"
                ],
                [
                  "condicao_metereologica",
                  "0"
                ]
              ],
              "shape": {
                "columns": 1,
                "rows": 15
              }
            },
            "text/plain": [
              "ambiguidade_uf            2007397\n",
              "nome_feriado              1935752\n",
              "latitude                     4681\n",
              "longitude                    4681\n",
              "rodovia                       329\n",
              "km                            329\n",
              "classificacao_acidente         25\n",
              "dia_semana                      0\n",
              "causa_acidente                  0\n",
              "municipio                       0\n",
              "uf                              0\n",
              "hora                            0\n",
              "ano                             0\n",
              "data_hora                       0\n",
              "condicao_metereologica          0\n",
              "dtype: int64"
            ]
          },
          "metadata": {},
          "output_type": "display_data"
        },
        {
          "name": "stdout",
          "output_type": "stream",
          "text": [
            "\n",
            "### Resumo — Estrutura e qualidade dos dados\n",
            "- O dataset possui **2,009,408** linhas e **30** colunas.\n",
            "- Período coberto: **2007–2023**.\n",
            "- Variáveis com mais ausências:\n",
            "  • ambiguidade_uf: 2,007,397 nulos\n",
            "  • nome_feriado: 1,935,752 nulos\n",
            "  • latitude: 4,681 nulos\n",
            "  • longitude: 4,681 nulos\n",
            "  • rodovia: 329 nulos\n",
            "  • km: 329 nulos\n",
            "  • classificacao_acidente: 25 nulos\n",
            "- Datas convertidas em **ano/mês** (quando disponíveis) e colunas numéricas coerçadas.\n"
          ]
        }
      ],
      "source": [
        "print(\"Formato (linhas, colunas):\", df.shape)\n",
        "display(df.head(5))\n",
        "display(df.info())\n",
        "nulos_top = df.isna().sum().sort_values(ascending=False).head(15)\n",
        "display(nulos_top)\n",
        "\n",
        "# Frases-resumo\n",
        "lin, col = df.shape\n",
        "anos = (int(df[\"ano\"].min()), int(df[\"ano\"].max())) if \"ano\" in df.columns and df[\"ano\"].notna().any() else (None, None)\n",
        "\n",
        "print(\"\\n### Resumo — Estrutura e qualidade dos dados\")\n",
        "print(f\"- O dataset possui **{lin:,}** linhas e **{col}** colunas.\")\n",
        "if all(anos):\n",
        "    print(f\"- Período coberto: **{anos[0]}–{anos[1]}**.\")\n",
        "if nulos_top.iloc[0] > 0:\n",
        "    print(\"- Variáveis com mais ausências:\")\n",
        "    for idx, val in nulos_top.items():\n",
        "        if val > 0:\n",
        "            print(f\"  • {idx}: {val:,} nulos\")\n",
        "print(\"- Datas convertidas em **ano/mês** (quando disponíveis) e colunas numéricas coerçadas.\")"
      ]
    },
    {
      "cell_type": "markdown",
      "id": "b71d96d7",
      "metadata": {
        "id": "b71d96d7"
      },
      "source": [
        "## 3.2 Estatísticas descritivas"
      ]
    },
    {
      "cell_type": "code",
      "execution_count": null,
      "id": "59f0cb02",
      "metadata": {
        "colab": {
          "base_uri": "https://localhost:8080/",
          "height": 376
        },
        "id": "59f0cb02",
        "outputId": "a0f03630-376d-434d-ece3-e874155b7f0b"
      },
      "outputs": [
        {
          "data": {
            "application/vnd.microsoft.datawrangler.viewer.v0+json": {
              "columns": [
                {
                  "name": "index",
                  "rawType": "object",
                  "type": "string"
                },
                {
                  "name": "count",
                  "rawType": "Float64",
                  "type": "float"
                },
                {
                  "name": "mean",
                  "rawType": "Float64",
                  "type": "float"
                },
                {
                  "name": "std",
                  "rawType": "Float64",
                  "type": "float"
                },
                {
                  "name": "min",
                  "rawType": "Float64",
                  "type": "float"
                },
                {
                  "name": "25%",
                  "rawType": "Float64",
                  "type": "float"
                },
                {
                  "name": "50%",
                  "rawType": "Float64",
                  "type": "float"
                },
                {
                  "name": "75%",
                  "rawType": "Float64",
                  "type": "float"
                },
                {
                  "name": "max",
                  "rawType": "Float64",
                  "type": "float"
                }
              ],
              "ref": "57cab893-97dc-4e6a-aea5-cdfef8c2f448",
              "rows": [
                [
                  "pessoas",
                  "2009408.0",
                  "2.202802019301207",
                  "1.6329847928408405",
                  "1.0",
                  "1.0",
                  "2.0",
                  "2.0",
                  "103.0"
                ],
                [
                  "mortos",
                  "2009408.0",
                  "0.0556542026308246",
                  "0.2905117518269425",
                  "0.0",
                  "0.0",
                  "0.0",
                  "0.0",
                  "33.0"
                ],
                [
                  "feridos",
                  "2009408.0",
                  "0.7220863060164984",
                  "1.1859004371836115",
                  "0.0",
                  "0.0",
                  "0.0",
                  "1.0",
                  "66.0"
                ],
                [
                  "feridos_leves",
                  "2009408.0",
                  "0.5358130354810969",
                  "1.0035895901135594",
                  "0.0",
                  "0.0",
                  "0.0",
                  "1.0",
                  "58.0"
                ],
                [
                  "feridos_graves",
                  "2009408.0",
                  "0.18627327053540146",
                  "0.5500323394868358",
                  "0.0",
                  "0.0",
                  "0.0",
                  "0.0",
                  "46.0"
                ],
                [
                  "ilesos",
                  "2009408.0",
                  "1.3251808492849635",
                  "1.3061147093137353",
                  "0.0",
                  "1.0",
                  "1.0",
                  "2.0",
                  "99.0"
                ],
                [
                  "veiculos",
                  "2009408.0",
                  "1.7222918391884574",
                  "0.7259381631344525",
                  "1.0",
                  "1.0",
                  "2.0",
                  "2.0",
                  "25.0"
                ]
              ],
              "shape": {
                "columns": 8,
                "rows": 7
              }
            },
            "text/html": [
              "<div>\n",
              "<style scoped>\n",
              "    .dataframe tbody tr th:only-of-type {\n",
              "        vertical-align: middle;\n",
              "    }\n",
              "\n",
              "    .dataframe tbody tr th {\n",
              "        vertical-align: top;\n",
              "    }\n",
              "\n",
              "    .dataframe thead th {\n",
              "        text-align: right;\n",
              "    }\n",
              "</style>\n",
              "<table border=\"1\" class=\"dataframe\">\n",
              "  <thead>\n",
              "    <tr style=\"text-align: right;\">\n",
              "      <th></th>\n",
              "      <th>count</th>\n",
              "      <th>mean</th>\n",
              "      <th>std</th>\n",
              "      <th>min</th>\n",
              "      <th>25%</th>\n",
              "      <th>50%</th>\n",
              "      <th>75%</th>\n",
              "      <th>max</th>\n",
              "    </tr>\n",
              "  </thead>\n",
              "  <tbody>\n",
              "    <tr>\n",
              "      <th>pessoas</th>\n",
              "      <td>2009408.00</td>\n",
              "      <td>2.20</td>\n",
              "      <td>1.63</td>\n",
              "      <td>1.00</td>\n",
              "      <td>1.00</td>\n",
              "      <td>2.00</td>\n",
              "      <td>2.00</td>\n",
              "      <td>103.00</td>\n",
              "    </tr>\n",
              "    <tr>\n",
              "      <th>mortos</th>\n",
              "      <td>2009408.00</td>\n",
              "      <td>0.06</td>\n",
              "      <td>0.29</td>\n",
              "      <td>0.00</td>\n",
              "      <td>0.00</td>\n",
              "      <td>0.00</td>\n",
              "      <td>0.00</td>\n",
              "      <td>33.00</td>\n",
              "    </tr>\n",
              "    <tr>\n",
              "      <th>feridos</th>\n",
              "      <td>2009408.00</td>\n",
              "      <td>0.72</td>\n",
              "      <td>1.19</td>\n",
              "      <td>0.00</td>\n",
              "      <td>0.00</td>\n",
              "      <td>0.00</td>\n",
              "      <td>1.00</td>\n",
              "      <td>66.00</td>\n",
              "    </tr>\n",
              "    <tr>\n",
              "      <th>feridos_leves</th>\n",
              "      <td>2009408.00</td>\n",
              "      <td>0.54</td>\n",
              "      <td>1.00</td>\n",
              "      <td>0.00</td>\n",
              "      <td>0.00</td>\n",
              "      <td>0.00</td>\n",
              "      <td>1.00</td>\n",
              "      <td>58.00</td>\n",
              "    </tr>\n",
              "    <tr>\n",
              "      <th>feridos_graves</th>\n",
              "      <td>2009408.00</td>\n",
              "      <td>0.19</td>\n",
              "      <td>0.55</td>\n",
              "      <td>0.00</td>\n",
              "      <td>0.00</td>\n",
              "      <td>0.00</td>\n",
              "      <td>0.00</td>\n",
              "      <td>46.00</td>\n",
              "    </tr>\n",
              "    <tr>\n",
              "      <th>ilesos</th>\n",
              "      <td>2009408.00</td>\n",
              "      <td>1.33</td>\n",
              "      <td>1.31</td>\n",
              "      <td>0.00</td>\n",
              "      <td>1.00</td>\n",
              "      <td>1.00</td>\n",
              "      <td>2.00</td>\n",
              "      <td>99.00</td>\n",
              "    </tr>\n",
              "    <tr>\n",
              "      <th>veiculos</th>\n",
              "      <td>2009408.00</td>\n",
              "      <td>1.72</td>\n",
              "      <td>0.73</td>\n",
              "      <td>1.00</td>\n",
              "      <td>1.00</td>\n",
              "      <td>2.00</td>\n",
              "      <td>2.00</td>\n",
              "      <td>25.00</td>\n",
              "    </tr>\n",
              "  </tbody>\n",
              "</table>\n",
              "</div>"
            ],
            "text/plain": [
              "                    count  mean  std  min  25%  50%  75%    max\n",
              "pessoas        2009408.00  2.20 1.63 1.00 1.00 2.00 2.00 103.00\n",
              "mortos         2009408.00  0.06 0.29 0.00 0.00 0.00 0.00  33.00\n",
              "feridos        2009408.00  0.72 1.19 0.00 0.00 0.00 1.00  66.00\n",
              "feridos_leves  2009408.00  0.54 1.00 0.00 0.00 0.00 1.00  58.00\n",
              "feridos_graves 2009408.00  0.19 0.55 0.00 0.00 0.00 0.00  46.00\n",
              "ilesos         2009408.00  1.33 1.31 0.00 1.00 1.00 2.00  99.00\n",
              "veiculos       2009408.00  1.72 0.73 1.00 1.00 2.00 2.00  25.00"
            ]
          },
          "metadata": {},
          "output_type": "display_data"
        },
        {
          "name": "stdout",
          "output_type": "stream",
          "text": [
            "\n",
            "### Destaques — Tendência central e dispersão\n",
            "- Em média, cada ocorrência envolve **2.20** pessoas e **1.72** veículos.\n",
            "- **Feridos por ocorrência** (média): **0.72**.\n",
            "- **Mortos por ocorrência** (média): **0.056** (baixa frequência, porém alta gravidade).\n",
            "- Há casos com muitos envolvidos (dispersão alta), sugerindo **outliers**.\n"
          ]
        }
      ],
      "source": [
        "num_cols = [c for c in [\"pessoas\",\"mortos\",\"feridos\",\"feridos_leves\",\"feridos_graves\",\"ilesos\",\"veiculos\"] if c in df.columns]\n",
        "if num_cols:\n",
        "    display(df[num_cols].describe().T)\n",
        "\n",
        "def smean(c): return df[c].mean() if c in df.columns else np.nan\n",
        "\n",
        "print(\"\\n### Destaques — Tendência central e dispersão\")\n",
        "if \"pessoas\" in df.columns and \"veiculos\" in df.columns:\n",
        "    print(f\"- Em média, cada ocorrência envolve **{smean('pessoas'):.2f}** pessoas e **{smean('veiculos'):.2f}** veículos.\")\n",
        "if \"feridos\" in df.columns:\n",
        "    print(f\"- **Feridos por ocorrência** (média): **{smean('feridos'):.2f}**.\")\n",
        "if \"mortos\" in df.columns:\n",
        "    print(f\"- **Mortos por ocorrência** (média): **{smean('mortos'):.3f}** (baixa frequência, porém alta gravidade).\")\n",
        "print(\"- Há casos com muitos envolvidos (dispersão alta), sugerindo **outliers**.\")"
      ]
    },
    {
      "cell_type": "markdown",
      "id": "0b4496cb",
      "metadata": {
        "id": "0b4496cb"
      },
      "source": [
        "## 3.3 Padrões temporais e regionais"
      ]
    },
    {
      "cell_type": "code",
      "execution_count": null,
      "id": "ee5bc47f",
      "metadata": {
        "colab": {
          "base_uri": "https://localhost:8080/",
          "height": 1000
        },
        "id": "ee5bc47f",
        "outputId": "3dccb9b2-17c4-4ad4-9737-f263fee0db63"
      },
      "outputs": [
        {
          "data": {
            "image/png": "[encoded data removed]",
            "text/plain": [
              "<Figure size 1000x400 with 1 Axes>"
            ]
          },
          "metadata": {},
          "output_type": "display_data"
        },
        {
          "data": {
            "image/png": "[encoded data removed]",
            "text/plain": [
              "<Figure size 900x400 with 1 Axes>"
            ]
          },
          "metadata": {},
          "output_type": "display_data"
        },
        {
          "data": {
            "image/png": "[encoded data removed]",
            "text/plain": [
              "<Figure size 800x400 with 1 Axes>"
            ]
          },
          "metadata": {},
          "output_type": "display_data"
        },
        {
          "data": {
            "image/png": "[encoded data removed]",
            "text/plain": [
              "<Figure size 700x400 with 1 Axes>"
            ]
          },
          "metadata": {},
          "output_type": "display_data"
        },
        {
          "name": "stdout",
          "output_type": "stream",
          "text": [
            "\n",
            "### Resumo — Padrões\n",
            "- Ano com maior volume: **2011**.\n",
            "- Dia com mais ocorrências: **Sexta**.\n",
            "- UF com mais registros: **MG**.\n",
            "- Distribuição de gravidade (aprox.): Sem vítimas: 49.6%; Com vítimas feridas: 45.2%; Com vítimas fatais: 4.6%; Ignorado: 0.6%\n"
          ]
        }
      ],
      "source": [
        "\n",
        "# Ano\n",
        "if \"ano\" in df.columns:\n",
        "    cont_ano = df[\"ano\"].value_counts().sort_index()\n",
        "    plt.figure(figsize=(10,4))\n",
        "    cont_ano.plot(kind=\"bar\")\n",
        "    plt.title(\"Ocorrências por ano\"); plt.xlabel(\"Ano\"); plt.ylabel(\"Quantidade\")\n",
        "    plt.tight_layout(); plt.show()\n",
        "\n",
        "# Dia da semana (normaliza rótulos)\n",
        "serie_dia = None\n",
        "if \"dia_semana\" in df.columns:\n",
        "    serie_dia = df[\"dia_semana\"].astype(str).replace({\n",
        "        \"segunda-feira\":\"Segunda\",\"terça-feira\":\"Terça\",\"quarta-feira\":\"Quarta\",\n",
        "        \"quinta-feira\":\"Quinta\",\"sexta-feira\":\"Sexta\",\"sábado\":\"Sábado\",\"domingo\":\"Domingo\",\n",
        "        \"Segunda-feira\":\"Segunda\",\"Terça-feira\":\"Terça\",\"Quarta-feira\":\"Quarta\",\n",
        "        \"Quinta-feira\":\"Quinta\",\"Sexta-feira\":\"Sexta\",\"Sábado\":\"Sábado\",\"Domingo\":\"Domingo\"\n",
        "    })\n",
        "    ordem = [\"Segunda\",\"Terça\",\"Quarta\",\"Quinta\",\"Sexta\",\"Sábado\",\"Domingo\"]\n",
        "    cont = serie_dia.value_counts().reindex(ordem)\n",
        "    if cont.notna().any():\n",
        "        cont = cont.dropna()\n",
        "        plt.figure(figsize=(9,4))\n",
        "        cont.plot(kind=\"bar\")\n",
        "        plt.title(\"Ocorrências por dia da semana\"); plt.xlabel(\"Dia\"); plt.ylabel(\"Quantidade\")\n",
        "        plt.tight_layout(); plt.show()\n",
        "\n",
        "# UF\n",
        "if \"uf\" in df.columns:\n",
        "    top_uf = df[\"uf\"].value_counts().head(10)\n",
        "    plt.figure(figsize=(8,4))\n",
        "    top_uf.plot(kind=\"bar\")\n",
        "    plt.title(\"Top 10 UFs por número de ocorrências\"); plt.xlabel(\"UF\"); plt.ylabel(\"Quantidade\")\n",
        "    plt.tight_layout(); plt.show()\n",
        "\n",
        "# Classificação (gravidade)\n",
        "col_class = None\n",
        "for cand in [\"classificacao_acidente\",\"classificação_acidente\"]:\n",
        "    if cand in df.columns:\n",
        "        col_class = cand\n",
        "        break\n",
        "\n",
        "if col_class:\n",
        "    cont_class = df[col_class].value_counts()\n",
        "    plt.figure(figsize=(7,4))\n",
        "    cont_class.plot(kind=\"bar\")\n",
        "    plt.title(\"Classificação das ocorrências\"); plt.xlabel(\"Classificação\"); plt.ylabel(\"Quantidade\")\n",
        "    plt.tight_layout(); plt.show()\n",
        "\n",
        "# Resumo textual\n",
        "print(\"\\n### Resumo — Padrões\")\n",
        "if \"ano\" in df.columns and df[\"ano\"].notna().any():\n",
        "    print(f\"- Ano com maior volume: **{df['ano'].value_counts().idxmax()}**.\")\n",
        "if serie_dia is not None and not serie_dia.empty:\n",
        "    print(f\"- Dia com mais ocorrências: **{serie_dia.value_counts().idxmax()}**.\")\n",
        "if \"uf\" in df.columns and not df[\"uf\"].dropna().empty:\n",
        "    print(f\"- UF com mais registros: **{df['uf'].value_counts().idxmax()}**.\")\n",
        "if col_class:\n",
        "    dist = df[col_class].value_counts(normalize=True)*100\n",
        "    txt = \"; \".join([f\"{k}: {v:.1f}%\" for k,v in dist.items()])\n",
        "    print(f\"- Distribuição de gravidade (aprox.): {txt}\")"
      ]
    },
    {
      "cell_type": "markdown",
      "id": "f9f8822a",
      "metadata": {
        "id": "f9f8822a"
      },
      "source": [
        "## 3.4 Fatores de gravidade"
      ]
    },
    {
      "cell_type": "code",
      "execution_count": null,
      "id": "44d7eb54",
      "metadata": {
        "colab": {
          "base_uri": "https://localhost:8080/",
          "height": 509
        },
        "id": "44d7eb54",
        "outputId": "15f5b74c-9371-43ff-f1ce-ee5191196270"
      },
      "outputs": [
        {
          "name": "stdout",
          "output_type": "stream",
          "text": [
            "Taxa de fatalidade por **tipo de pista** (%):\n"
          ]
        },
        {
          "name": "stderr",
          "output_type": "stream",
          "text": [
            "C:\\Users\\matheus\\AppData\\Local\\Temp\\ipykernel_17800\\3004181007.py:23: FutureWarning: The default of observed=False is deprecated and will be changed to True in a future version of pandas. Pass observed=False to retain current behavior or observed=True to adopt the future default and silence this warning.\n",
            "  tab = (tmp.groupby(categ_col)[\"_fatal\"]\n"
          ]
        },
        {
          "data": {
            "application/vnd.microsoft.datawrangler.viewer.v0+json": {
              "columns": [
                {
                  "name": "tipo_pista",
                  "rawType": "category",
                  "type": "unknown"
                },
                {
                  "name": "Taxa de fatalidade (%)",
                  "rawType": "float64",
                  "type": "float"
                }
              ],
              "ref": "8a9e849c-9367-4655-b777-b9541ea75868",
              "rows": [
                [
                  "Simples",
                  "6.25"
                ],
                [
                  "Dupla",
                  "2.98"
                ],
                [
                  "Múltipla",
                  "2.34"
                ]
              ],
              "shape": {
                "columns": 1,
                "rows": 3
              }
            },
            "text/html": [
              "<div>\n",
              "<style scoped>\n",
              "    .dataframe tbody tr th:only-of-type {\n",
              "        vertical-align: middle;\n",
              "    }\n",
              "\n",
              "    .dataframe tbody tr th {\n",
              "        vertical-align: top;\n",
              "    }\n",
              "\n",
              "    .dataframe thead th {\n",
              "        text-align: right;\n",
              "    }\n",
              "</style>\n",
              "<table border=\"1\" class=\"dataframe\">\n",
              "  <thead>\n",
              "    <tr style=\"text-align: right;\">\n",
              "      <th></th>\n",
              "      <th>Taxa de fatalidade (%)</th>\n",
              "    </tr>\n",
              "    <tr>\n",
              "      <th>tipo_pista</th>\n",
              "      <th></th>\n",
              "    </tr>\n",
              "  </thead>\n",
              "  <tbody>\n",
              "    <tr>\n",
              "      <th>Simples</th>\n",
              "      <td>6.25</td>\n",
              "    </tr>\n",
              "    <tr>\n",
              "      <th>Dupla</th>\n",
              "      <td>2.98</td>\n",
              "    </tr>\n",
              "    <tr>\n",
              "      <th>Múltipla</th>\n",
              "      <td>2.34</td>\n",
              "    </tr>\n",
              "  </tbody>\n",
              "</table>\n",
              "</div>"
            ],
            "text/plain": [
              "            Taxa de fatalidade (%)\n",
              "tipo_pista                        \n",
              "Simples                       6.25\n",
              "Dupla                         2.98\n",
              "Múltipla                      2.34"
            ]
          },
          "metadata": {},
          "output_type": "display_data"
        },
        {
          "name": "stdout",
          "output_type": "stream",
          "text": [
            "\n",
            "Taxa de fatalidade por **fase do dia** (%):\n"
          ]
        },
        {
          "name": "stderr",
          "output_type": "stream",
          "text": [
            "C:\\Users\\matheus\\AppData\\Local\\Temp\\ipykernel_17800\\3004181007.py:23: FutureWarning: The default of observed=False is deprecated and will be changed to True in a future version of pandas. Pass observed=False to retain current behavior or observed=True to adopt the future default and silence this warning.\n",
            "  tab = (tmp.groupby(categ_col)[\"_fatal\"]\n"
          ]
        },
        {
          "data": {
            "application/vnd.microsoft.datawrangler.viewer.v0+json": {
              "columns": [
                {
                  "name": "fase_dia",
                  "rawType": "category",
                  "type": "unknown"
                },
                {
                  "name": "Taxa de fatalidade (%)",
                  "rawType": "float64",
                  "type": "float"
                }
              ],
              "ref": "100dd321-2fdf-4e82-9d5c-668c4f67ef85",
              "rows": [
                [
                  "Plena noite",
                  "7.1"
                ],
                [
                  "Amanhecer",
                  "6.63"
                ],
                [
                  "Anoitecer",
                  "4.56"
                ],
                [
                  "Pleno dia",
                  "3.11"
                ]
              ],
              "shape": {
                "columns": 1,
                "rows": 4
              }
            },
            "text/html": [
              "<div>\n",
              "<style scoped>\n",
              "    .dataframe tbody tr th:only-of-type {\n",
              "        vertical-align: middle;\n",
              "    }\n",
              "\n",
              "    .dataframe tbody tr th {\n",
              "        vertical-align: top;\n",
              "    }\n",
              "\n",
              "    .dataframe thead th {\n",
              "        text-align: right;\n",
              "    }\n",
              "</style>\n",
              "<table border=\"1\" class=\"dataframe\">\n",
              "  <thead>\n",
              "    <tr style=\"text-align: right;\">\n",
              "      <th></th>\n",
              "      <th>Taxa de fatalidade (%)</th>\n",
              "    </tr>\n",
              "    <tr>\n",
              "      <th>fase_dia</th>\n",
              "      <th></th>\n",
              "    </tr>\n",
              "  </thead>\n",
              "  <tbody>\n",
              "    <tr>\n",
              "      <th>Plena noite</th>\n",
              "      <td>7.10</td>\n",
              "    </tr>\n",
              "    <tr>\n",
              "      <th>Amanhecer</th>\n",
              "      <td>6.63</td>\n",
              "    </tr>\n",
              "    <tr>\n",
              "      <th>Anoitecer</th>\n",
              "      <td>4.56</td>\n",
              "    </tr>\n",
              "    <tr>\n",
              "      <th>Pleno dia</th>\n",
              "      <td>3.11</td>\n",
              "    </tr>\n",
              "  </tbody>\n",
              "</table>\n",
              "</div>"
            ],
            "text/plain": [
              "             Taxa de fatalidade (%)\n",
              "fase_dia                           \n",
              "Plena noite                    7.10\n",
              "Amanhecer                      6.63\n",
              "Anoitecer                      4.56\n",
              "Pleno dia                      3.11"
            ]
          },
          "metadata": {},
          "output_type": "display_data"
        }
      ],
      "source": [
        "# Descobrir nomes corretos (com/sem acento)\n",
        "col_class = None\n",
        "for cand in [\"classificacao_acidente\", \"classificação_acidente\"]:\n",
        "    if cand in df.columns:\n",
        "        col_class = cand\n",
        "        break\n",
        "\n",
        "col_meteo = \"condicao_meteorologica\" if \"condicao_meteorologica\" in df.columns else (\"condição_meteorologica\" if \"condição_meteorologica\" in df.columns else None)\n",
        "col_pista = \"tipo_pista\" if \"tipo_pista\" in df.columns else None\n",
        "col_fase  = \"fase_dia\" if \"fase_dia\" in df.columns else None\n",
        "\n",
        "if not col_class:\n",
        "    raise ValueError(\"Não encontrei a coluna de classificação do acidente.\")\n",
        "\n",
        "# Cria coluna binária de fatalidade\n",
        "df = df.copy()\n",
        "df[\"_fatal\"] = df[col_class].astype(str).str.contains(\"fata\", case=False, na=False).astype(int)\n",
        "\n",
        "def taxa_fatalidade(categ_col):\n",
        "    tmp = df[[categ_col, \"_fatal\"]].dropna()\n",
        "    if tmp.empty:\n",
        "        return None\n",
        "    tab = (tmp.groupby(categ_col)[\"_fatal\"]\n",
        "             .mean()\n",
        "             .sort_values(ascending=False)\n",
        "             .mul(100)\n",
        "             .round(2)\n",
        "             .to_frame(\"Taxa de fatalidade (%)\"))\n",
        "    return tab\n",
        "\n",
        "# Mostrar tabelas\n",
        "if col_pista:\n",
        "    print(\"Taxa de fatalidade por **tipo de pista** (%):\")\n",
        "    display(taxa_fatalidade(col_pista))\n",
        "\n",
        "if col_meteo:\n",
        "    print(\"\\nTaxa de fatalidade por **condição meteorológica** (%):\")\n",
        "    display(taxa_fatalidade(col_meteo))\n",
        "\n",
        "if col_fase:\n",
        "    print(\"\\nTaxa de fatalidade por **fase do dia** (%):\")\n",
        "    display(taxa_fatalidade(col_fase))"
      ]
    },
    {
      "cell_type": "code",
      "execution_count": null,
      "id": "75e65886",
      "metadata": {
        "colab": {
          "base_uri": "https://localhost:8080/"
        },
        "id": "75e65886",
        "outputId": "962a80df-f678-4ea1-b28a-92d6e8346a30"
      },
      "outputs": [
        {
          "name": "stdout",
          "output_type": "stream",
          "text": [
            "### Conclusão — Fatores de Gravidade\n",
            "\n",
            "- No fator **tipo de pista**, a maior taxa de fatalidade ocorre em **Simples** (**6.2%**).\n",
            "- Na **fase do dia**, o maior percentual de óbitos está em **Plena noite** (**7.1%**).\n"
          ]
        },
        {
          "name": "stderr",
          "output_type": "stream",
          "text": [
            "C:\\Users\\matheus\\AppData\\Local\\Temp\\ipykernel_17800\\3004181007.py:23: FutureWarning: The default of observed=False is deprecated and will be changed to True in a future version of pandas. Pass observed=False to retain current behavior or observed=True to adopt the future default and silence this warning.\n",
            "  tab = (tmp.groupby(categ_col)[\"_fatal\"]\n",
            "C:\\Users\\matheus\\AppData\\Local\\Temp\\ipykernel_17800\\3004181007.py:23: FutureWarning: The default of observed=False is deprecated and will be changed to True in a future version of pandas. Pass observed=False to retain current behavior or observed=True to adopt the future default and silence this warning.\n",
            "  tab = (tmp.groupby(categ_col)[\"_fatal\"]\n"
          ]
        }
      ],
      "source": [
        "# Frases prontas para conclusão — Fatores de gravidade\n",
        "conclusoes_fatores = []\n",
        "\n",
        "def pick_top(col):\n",
        "    tab = taxa_fatalidade(col)\n",
        "    if tab is not None and not tab.empty:\n",
        "        return tab.index[0], float(tab.iloc[0,0])\n",
        "    return None, None\n",
        "\n",
        "if col_pista:\n",
        "    top_cat, top_val = pick_top(col_pista)\n",
        "    if top_cat is not None:\n",
        "        conclusoes_fatores.append(f\"No fator **tipo de pista**, a maior taxa de fatalidade ocorre em **{top_cat}** (**{top_val:.1f}%**).\")\n",
        "\n",
        "if col_meteo:\n",
        "    top_cat, top_val = pick_top(col_meteo)\n",
        "    if top_cat is not None:\n",
        "        conclusoes_fatores.append(f\"Quanto à **condição meteorológica**, o destaque negativo é **{top_cat}**, com **{top_val:.1f}%** de fatalidade.\")\n",
        "\n",
        "if col_fase:\n",
        "    top_cat, top_val = pick_top(col_fase)\n",
        "    if top_cat is not None:\n",
        "        conclusoes_fatores.append(f\"Na **fase do dia**, o maior percentual de óbitos está em **{top_cat}** (**{top_val:.1f}%**).\")\n",
        "\n",
        "print(\"### Conclusão — Fatores de Gravidade\\n\")\n",
        "if conclusoes_fatores:\n",
        "    for frase in conclusoes_fatores:\n",
        "        print(\"-\", frase)\n",
        "else:\n",
        "    print(\"- Não foi possível gerar frases.\")"
      ]
    },
    {
      "cell_type": "markdown",
      "id": "bbba1d1a",
      "metadata": {
        "id": "bbba1d1a"
      },
      "source": [
        "## 3.5 Frases prontas — Padrões temporais e regionais"
      ]
    },
    {
      "cell_type": "code",
      "execution_count": null,
      "id": "2561cdaf",
      "metadata": {
        "colab": {
          "base_uri": "https://localhost:8080/"
        },
        "id": "2561cdaf",
        "outputId": "5b6d97b2-ba06-4ff2-e2e0-9a98bc1067fb"
      },
      "outputs": [
        {
          "name": "stdout",
          "output_type": "stream",
          "text": [
            "### Conclusão — Padrões\n",
            "\n",
            "- O **ano de pico** em registros é **2011**.\n",
            "- O **dia da semana** com mais ocorrências é **Sexta**.\n",
            "- A **UF com mais registros** é **MG**.\n"
          ]
        }
      ],
      "source": [
        "conclusoes_padroes = []\n",
        "\n",
        "if \"ano\" in df.columns and df[\"ano\"].notna().any():\n",
        "    ano_pico = int(df[\"ano\"].value_counts().idxmax())\n",
        "    conclusoes_padroes.append(f\"O **ano de pico** em registros é **{ano_pico}**.\")\n",
        "\n",
        "if \"dia_semana\" in df.columns:\n",
        "    serie_dia = df[\"dia_semana\"].astype(str).replace({\n",
        "        \"segunda-feira\":\"Segunda\",\"terça-feira\":\"Terça\",\"quarta-feira\":\"Quarta\",\n",
        "        \"quinta-feira\":\"Quinta\",\"sexta-feira\":\"Sexta\",\"sábado\":\"Sábado\",\"domingo\":\"Domingo\",\n",
        "        \"Segunda-feira\":\"Segunda\",\"Terça-feira\":\"Terça\",\"Quarta-feira\":\"Quarta\",\n",
        "        \"Quinta-feira\":\"Quinta\",\"Sexta-feira\":\"Sexta\",\"Sábado\":\"Sábado\",\"Domingo\":\"Domingo\"\n",
        "    })\n",
        "    if not serie_dia.dropna().empty:\n",
        "        dia_top = serie_dia.value_counts().idxmax()\n",
        "        conclusoes_padroes.append(f\"O **dia da semana** com mais ocorrências é **{dia_top}**.\")\n",
        "\n",
        "if \"uf\" in df.columns and not df[\"uf\"].dropna().empty:\n",
        "    uf_top = df[\"uf\"].value_counts().idxmax()\n",
        "    conclusoes_padroes.append(f\"A **UF com mais registros** é **{uf_top}**.\")\n",
        "\n",
        "print(\"### Conclusão — Padrões\\n\")\n",
        "if conclusoes_padroes:\n",
        "    for frase in conclusoes_padroes:\n",
        "        print(\"-\", frase)\n",
        "else:\n",
        "    print(\"- Não foi possível gerar frases.\")"
      ]
    },
    {
      "cell_type": "markdown",
      "id": "b585836a",
      "metadata": {
        "id": "b585836a"
      },
      "source": [
        "## 3.6 Correlação e outliers"
      ]
    },
    {
      "cell_type": "code",
      "execution_count": null,
      "id": "2fd9a886",
      "metadata": {
        "colab": {
          "base_uri": "https://localhost:8080/",
          "height": 830
        },
        "id": "2fd9a886",
        "outputId": "3f162143-14d8-409d-eccf-d33d27b65b45"
      },
      "outputs": [
        {
          "data": {
            "image/png": "[encoded data removed]",
            "text/plain": [
              "<Figure size 600x500 with 2 Axes>"
            ]
          },
          "metadata": {},
          "output_type": "display_data"
        },
        {
          "data": {
            "application/vnd.microsoft.datawrangler.viewer.v0+json": {
              "columns": [
                {
                  "name": "index",
                  "rawType": "object",
                  "type": "string"
                },
                {
                  "name": "pessoas",
                  "rawType": "float64",
                  "type": "float"
                },
                {
                  "name": "mortos",
                  "rawType": "float64",
                  "type": "float"
                },
                {
                  "name": "feridos",
                  "rawType": "float64",
                  "type": "float"
                },
                {
                  "name": "feridos_leves",
                  "rawType": "float64",
                  "type": "float"
                },
                {
                  "name": "feridos_graves",
                  "rawType": "float64",
                  "type": "float"
                },
                {
                  "name": "ilesos",
                  "rawType": "float64",
                  "type": "float"
                },
                {
                  "name": "veiculos",
                  "rawType": "float64",
                  "type": "float"
                }
              ],
              "ref": "18458d77-111d-4fec-b4f0-4ea65328dcef",
              "rows": [
                [
                  "pessoas",
                  "1.0",
                  "0.21071390884718058",
                  "0.5840147259816559",
                  "0.5188532755360379",
                  "0.3124681230550457",
                  "0.6163995329909365",
                  "0.4522379333685823"
                ],
                [
                  "mortos",
                  "0.21071390884718058",
                  "1.0",
                  "0.10245270846254174",
                  "0.03448817061369618",
                  "0.1579666076134282",
                  "-0.0694752882341238",
                  "0.01892451072882174"
                ],
                [
                  "feridos",
                  "0.5840147259816559",
                  "0.10245270846254174",
                  "1.0",
                  "0.8868643993933681",
                  "0.5378821150518576",
                  "-0.20389646415545096",
                  "0.002517574259468739"
                ],
                [
                  "feridos_leves",
                  "0.5188532755360379",
                  "0.03448817061369618",
                  "0.8868643993933681",
                  "1.0",
                  "0.08752810588289671",
                  "-0.1634551218551857",
                  "-0.004406452136505187"
                ],
                [
                  "feridos_graves",
                  "0.3124681230550457",
                  "0.1579666076134282",
                  "0.5378821150518576",
                  "0.08752810588289671",
                  "1.0",
                  "-0.14137177335803983",
                  "0.013468047924944061"
                ],
                [
                  "ilesos",
                  "0.6163995329909365",
                  "-0.0694752882341238",
                  "-0.20389646415545096",
                  "-0.1634551218551857",
                  "-0.14137177335803983",
                  "1.0",
                  "0.5224902110392469"
                ],
                [
                  "veiculos",
                  "0.4522379333685823",
                  "0.01892451072882174",
                  "0.002517574259468739",
                  "-0.004406452136505187",
                  "0.013468047924944061",
                  "0.5224902110392469",
                  "1.0"
                ]
              ],
              "shape": {
                "columns": 7,
                "rows": 7
              }
            },
            "text/html": [
              "<div>\n",
              "<style scoped>\n",
              "    .dataframe tbody tr th:only-of-type {\n",
              "        vertical-align: middle;\n",
              "    }\n",
              "\n",
              "    .dataframe tbody tr th {\n",
              "        vertical-align: top;\n",
              "    }\n",
              "\n",
              "    .dataframe thead th {\n",
              "        text-align: right;\n",
              "    }\n",
              "</style>\n",
              "<table border=\"1\" class=\"dataframe\">\n",
              "  <thead>\n",
              "    <tr style=\"text-align: right;\">\n",
              "      <th></th>\n",
              "      <th>pessoas</th>\n",
              "      <th>mortos</th>\n",
              "      <th>feridos</th>\n",
              "      <th>feridos_leves</th>\n",
              "      <th>feridos_graves</th>\n",
              "      <th>ilesos</th>\n",
              "      <th>veiculos</th>\n",
              "    </tr>\n",
              "  </thead>\n",
              "  <tbody>\n",
              "    <tr>\n",
              "      <th>pessoas</th>\n",
              "      <td>1.00</td>\n",
              "      <td>0.21</td>\n",
              "      <td>0.58</td>\n",
              "      <td>0.52</td>\n",
              "      <td>0.31</td>\n",
              "      <td>0.62</td>\n",
              "      <td>0.45</td>\n",
              "    </tr>\n",
              "    <tr>\n",
              "      <th>mortos</th>\n",
              "      <td>0.21</td>\n",
              "      <td>1.00</td>\n",
              "      <td>0.10</td>\n",
              "      <td>0.03</td>\n",
              "      <td>0.16</td>\n",
              "      <td>-0.07</td>\n",
              "      <td>0.02</td>\n",
              "    </tr>\n",
              "    <tr>\n",
              "      <th>feridos</th>\n",
              "      <td>0.58</td>\n",
              "      <td>0.10</td>\n",
              "      <td>1.00</td>\n",
              "      <td>0.89</td>\n",
              "      <td>0.54</td>\n",
              "      <td>-0.20</td>\n",
              "      <td>0.00</td>\n",
              "    </tr>\n",
              "    <tr>\n",
              "      <th>feridos_leves</th>\n",
              "      <td>0.52</td>\n",
              "      <td>0.03</td>\n",
              "      <td>0.89</td>\n",
              "      <td>1.00</td>\n",
              "      <td>0.09</td>\n",
              "      <td>-0.16</td>\n",
              "      <td>-0.00</td>\n",
              "    </tr>\n",
              "    <tr>\n",
              "      <th>feridos_graves</th>\n",
              "      <td>0.31</td>\n",
              "      <td>0.16</td>\n",
              "      <td>0.54</td>\n",
              "      <td>0.09</td>\n",
              "      <td>1.00</td>\n",
              "      <td>-0.14</td>\n",
              "      <td>0.01</td>\n",
              "    </tr>\n",
              "    <tr>\n",
              "      <th>ilesos</th>\n",
              "      <td>0.62</td>\n",
              "      <td>-0.07</td>\n",
              "      <td>-0.20</td>\n",
              "      <td>-0.16</td>\n",
              "      <td>-0.14</td>\n",
              "      <td>1.00</td>\n",
              "      <td>0.52</td>\n",
              "    </tr>\n",
              "    <tr>\n",
              "      <th>veiculos</th>\n",
              "      <td>0.45</td>\n",
              "      <td>0.02</td>\n",
              "      <td>0.00</td>\n",
              "      <td>-0.00</td>\n",
              "      <td>0.01</td>\n",
              "      <td>0.52</td>\n",
              "      <td>1.00</td>\n",
              "    </tr>\n",
              "  </tbody>\n",
              "</table>\n",
              "</div>"
            ],
            "text/plain": [
              "                pessoas  mortos  feridos  feridos_leves  feridos_graves  \\\n",
              "pessoas            1.00    0.21     0.58           0.52            0.31   \n",
              "mortos             0.21    1.00     0.10           0.03            0.16   \n",
              "feridos            0.58    0.10     1.00           0.89            0.54   \n",
              "feridos_leves      0.52    0.03     0.89           1.00            0.09   \n",
              "feridos_graves     0.31    0.16     0.54           0.09            1.00   \n",
              "ilesos             0.62   -0.07    -0.20          -0.16           -0.14   \n",
              "veiculos           0.45    0.02     0.00          -0.00            0.01   \n",
              "\n",
              "                ilesos  veiculos  \n",
              "pessoas           0.62      0.45  \n",
              "mortos           -0.07      0.02  \n",
              "feridos          -0.20      0.00  \n",
              "feridos_leves    -0.16     -0.00  \n",
              "feridos_graves   -0.14      0.01  \n",
              "ilesos            1.00      0.52  \n",
              "veiculos          0.52      1.00  "
            ]
          },
          "metadata": {},
          "output_type": "display_data"
        },
        {
          "name": "stdout",
          "output_type": "stream",
          "text": [
            "- Limite superior IQR para **mortos** ≈ 0.00; registros acima: 92,965.\n",
            "- Limite superior IQR para **feridos** ≈ 2.50; registros acima: 97,025.\n",
            "- Limite superior IQR para **feridos_graves** ≈ 0.00; registros acima: 291,195.\n",
            "- Limite superior IQR para **feridos_leves** ≈ 2.50; registros acima: 61,974.\n"
          ]
        }
      ],
      "source": [
        "# Correlação entre variáveis numéricas\n",
        "corr_cols = [c for c in [\"pessoas\",\"mortos\",\"feridos\",\"feridos_leves\",\"feridos_graves\",\"ilesos\",\"veiculos\"] if c in df.columns]\n",
        "if len(corr_cols) >= 2:\n",
        "    corr = df[corr_cols].corr()\n",
        "    plt.figure(figsize=(6,5))\n",
        "    im = plt.imshow(corr, interpolation=\"nearest\")\n",
        "    plt.colorbar(im, fraction=0.046, pad=0.04)\n",
        "    plt.xticks(range(len(corr_cols)), corr_cols, rotation=45, ha=\"right\")\n",
        "    plt.yticks(range(len(corr_cols)), corr_cols)\n",
        "    plt.title(\"Correlação entre variáveis numéricas\")\n",
        "    plt.tight_layout(); plt.show()\n",
        "    display(corr)\n",
        "\n",
        "def outlier_iqr(serie):\n",
        "    q1, q3 = serie.quantile([0.25, 0.75])\n",
        "    iqr = q3 - q1\n",
        "    return q3 + 1.5*iqr\n",
        "\n",
        "for alvo in [\"mortos\",\"feridos\",\"feridos_graves\",\"feridos_leves\"]:\n",
        "    if alvo in df.columns:\n",
        "        lim = outlier_iqr(df[alvo].dropna())\n",
        "        qtd = int((df[alvo] > lim).sum())\n",
        "        print(f\"- Limite superior IQR para **{alvo}** ≈ {lim:.2f}; registros acima: {qtd:,}.\")"
      ]
    },
    {
      "cell_type": "markdown",
      "id": "2c363a7f",
      "metadata": {
        "id": "2c363a7f"
      },
      "source": [
        "## 3.7 Conclusão geral — prontos para o relatório"
      ]
    },
    {
      "cell_type": "code",
      "execution_count": null,
      "id": "9af2c85e",
      "metadata": {
        "colab": {
          "base_uri": "https://localhost:8080/"
        },
        "id": "9af2c85e",
        "outputId": "618029ab-398f-4765-9030-4f99b3088534"
      },
      "outputs": [
        {
          "name": "stdout",
          "output_type": "stream",
          "text": [
            "- Registros: **2,009,408**, colunas: **31**.\n",
            "- Ano de pico: **2011**.\n",
            "- UF com mais ocorrências: **MG**.\n",
            "- O **ano de pico** em registros é **2011**.\n",
            "- O **dia da semana** com mais ocorrências é **Sexta**.\n",
            "- A **UF com mais registros** é **MG**.\n",
            "- No fator **tipo de pista**, a maior taxa de fatalidade ocorre em **Simples** (**6.2%**).\n",
            "- Na **fase do dia**, o maior percentual de óbitos está em **Plena noite** (**7.1%**).\n",
            "- **Mortos por ocorrência (média)**: **0.056**.\n",
            "- **Feridos por ocorrência (média)**: **0.72**.\n",
            "- **Veículos por ocorrência (média)**: **1.72**.\n"
          ]
        }
      ],
      "source": [
        "bullets = []\n",
        "\n",
        "lin, col = df.shape\n",
        "bullets.append(f\"- Registros: **{lin:,}**, colunas: **{col}**.\")\n",
        "\n",
        "if \"ano\" in df.columns and df[\"ano\"].notna().any():\n",
        "    bullets.append(f\"- Ano de pico: **{int(df['ano'].value_counts().idxmax())}**.\")\n",
        "\n",
        "if \"uf\" in df.columns and not df[\"uf\"].dropna().empty:\n",
        "    bullets.append(f\"- UF com mais ocorrências: **{df['uf'].value_counts().idxmax()}**.\")\n",
        "\n",
        "try:\n",
        "    for frase in conclusoes_padroes:\n",
        "        bullets.append(f\"- {frase}\")\n",
        "except Exception:\n",
        "    pass\n",
        "\n",
        "try:\n",
        "    for frase in conclusoes_fatores:\n",
        "        bullets.append(f\"- {frase}\")\n",
        "except Exception:\n",
        "    pass\n",
        "\n",
        "if \"mortos\" in df.columns:\n",
        "    bullets.append(f\"- **Mortos por ocorrência (média)**: **{df['mortos'].mean():.3f}**.\")\n",
        "if \"feridos\" in df.columns:\n",
        "    bullets.append(f\"- **Feridos por ocorrência (média)**: **{df['feridos'].mean():.2f}**.\")\n",
        "if \"veiculos\" in df.columns:\n",
        "    bullets.append(f\"- **Veículos por ocorrência (média)**: **{df['veiculos'].mean():.2f}**.\")\n",
        "\n",
        "print(\"\\n\".join(bullets))"
      ]
    },
    {
      "cell_type": "markdown",
      "id": "ca596fb8",
      "metadata": {
        "id": "ca596fb8"
      },
      "source": [
        "# 4 MODELAGEM DE ALGORITMOS DE TREINAMENTO"
      ]
    },
    {
      "cell_type": "markdown",
      "id": "25f452cd",
      "metadata": {
        "id": "25f452cd"
      },
      "source": [
        "## 4.1 Dicionário de modelos"
      ]
    },
    {
      "cell_type": "code",
      "execution_count": null,
      "id": "2dd1e346",
      "metadata": {
        "id": "2dd1e346"
      },
      "outputs": [],
      "source": [
        "# Dicionário contendo os modelos a serem treinados\n",
        "models = {\n",
        "    \"Regressão Logística\": LogisticRegression(random_state=42, max_iter=1000),\n",
        "    \"Árvore de Decisão\": DecisionTreeClassifier(random_state=42),\n",
        "    \"KNN (K-Nearest Neighbors)\": KNeighborsClassifier(n_neighbors=5)\n",
        "}"
      ]
    },
    {
      "cell_type": "markdown",
      "id": "823ee5e1",
      "metadata": {
        "id": "823ee5e1"
      },
      "source": [
        "## 4.2 Divisão treino e teste das bases 'small'"
      ]
    },
    {
      "cell_type": "code",
      "execution_count": null,
      "id": "39a7566e",
      "metadata": {
        "id": "39a7566e"
      },
      "outputs": [],
      "source": [
        "#Dividindo os dados em treino e teste\n",
        "X_train_small, X_test_small, y_train_small, y_test_small = train_test_split(X_small, y_small, test_size=0.2, random_state=42, stratify=y_small)"
      ]
    },
    {
      "cell_type": "markdown",
      "id": "b8a24c34",
      "metadata": {
        "id": "b8a24c34"
      },
      "source": [
        "## 4.3 Cross-Validation"
      ]
    },
    {
      "cell_type": "code",
      "execution_count": null,
      "id": "a3573e74",
      "metadata": {
        "id": "a3573e74",
        "outputId": "53e9bb7d-2fa7-465e-c299-669fc4ea81f5"
      },
      "outputs": [
        {
          "name": "stdout",
          "output_type": "stream",
          "text": [
            "Modelo: Regressão Logística\n",
            "Acurácia Média (CV): 0.7187 (+/- 0.0026)\n",
            "Modelo: Árvore de Decisão\n",
            "Acurácia Média (CV): 0.6696 (+/- 0.0029)\n",
            "Modelo: KNN (K-Nearest Neighbors)\n",
            "Acurácia Média (CV): 0.6640 (+/- 0.0011)\n",
            "\n",
            "--- Resultados Consolidados da Validação Cruzada ---\n",
            "                           mean_accuracy  std_accuracy\n",
            "Regressão Logística                 0.72          0.00\n",
            "Árvore de Decisão                   0.67          0.00\n",
            "KNN (K-Nearest Neighbors)           0.66          0.00\n"
          ]
        }
      ],
      "source": [
        "\n",
        "# Dicionário para armazenar os resultados da validação cruzada\n",
        "resultados = {}\n",
        "\n",
        "# Criar validação cruzada com 5 folds\n",
        "cv_strategy = StratifiedKFold(n_splits=5, shuffle=True, random_state=42)\n",
        "\n",
        "# Loop para treinar e avaliar cada modelo no dicionário\n",
        "for model_name, model in models.items():\n",
        "    pipeline = Pipeline(steps=[\n",
        "        ('preprocessor', preprocessor),\n",
        "        ('classifier', model)\n",
        "    ])\n",
        "\n",
        "    # Executar a validação cruzada no conjunto de treino\n",
        "    scores = cross_val_score(pipeline, X_train_small, y_train_small, cv=cv_strategy, scoring='accuracy')\n",
        "\n",
        "    # Armazenando os resultados\n",
        "    resultados[model_name] = {\n",
        "        'mean_accuracy': scores.mean(),\n",
        "        'std_accuracy': scores.std()\n",
        "    }\n",
        "\n",
        "    print(f\"Modelo: {model_name}\")\n",
        "    print(f\"Acurácia Média (CV): {scores.mean():.4f} (+/- {scores.std():.4f})\")\n",
        "\n",
        "# Df dos resultados\n",
        "resultados_df = pd.DataFrame(resultados).T.sort_values(by='mean_accuracy', ascending=False)\n",
        "\n",
        "print(\"\\n--- Resultados Consolidados da Validação Cruzada ---\")\n",
        "print(resultados_df)"
      ]
    },
    {
      "cell_type": "markdown",
      "id": "f91c63fe",
      "metadata": {
        "id": "f91c63fe"
      },
      "source": [
        "Algoritmo com melhor resultado: Regressão Logística"
      ]
    },
    {
      "cell_type": "markdown",
      "id": "78227b3a",
      "metadata": {
        "id": "78227b3a"
      },
      "source": [
        "## 4.4 Dividindo treino e teste da base total"
      ]
    },
    {
      "cell_type": "code",
      "execution_count": null,
      "id": "2dfa2b02",
      "metadata": {
        "id": "2dfa2b02"
      },
      "outputs": [],
      "source": [
        "X_train, X_test, y_train, y_test = train_test_split(X, y, test_size=0.2, random_state=42, stratify=y)"
      ]
    },
    {
      "cell_type": "markdown",
      "id": "9cb7db25",
      "metadata": {
        "id": "9cb7db25"
      },
      "source": [
        "## 4.5 Treino e teste do modelo escolhido"
      ]
    },
    {
      "cell_type": "code",
      "execution_count": null,
      "id": "6429d230",
      "metadata": {
        "id": "6429d230",
        "outputId": "03f8222c-aabe-4f0a-ef05-546fcbb67603"
      },
      "outputs": [
        {
          "name": "stdout",
          "output_type": "stream",
          "text": [
            "--- Treinamento final do melhor modelo: LogisticRegression(max_iter=1000, random_state=42) ---\n",
            "\n",
            "Acurácia no conjunto de teste: 0.7239\n",
            "\n",
            "Relatório de Classificação Detalhado:\n",
            "              precision    recall  f1-score   support\n",
            "\n",
            "         0.0       0.70      0.78      0.74    197167\n",
            "         1.0       0.75      0.67      0.71    194701\n",
            "\n",
            "    accuracy                           0.72    391868\n",
            "   macro avg       0.73      0.72      0.72    391868\n",
            "weighted avg       0.73      0.72      0.72    391868\n",
            "\n"
          ]
        }
      ],
      "source": [
        "\n",
        "\n",
        "# Selecionando o melhor modelo com base nos resultados da validação cruzada\n",
        "melhor_modelo = resultados_df.index[0]\n",
        "nome_melhor_modelo = models[melhor_modelo]\n",
        "\n",
        "print(f\"--- Treinamento final do melhor modelo: {nome_melhor_modelo} ---\")\n",
        "\n",
        "# Criando o pipeline final para o melhor modelo\n",
        "final_pipeline = Pipeline(steps=[\n",
        "    ('preprocessor', preprocessor),\n",
        "    ('classifier', nome_melhor_modelo)\n",
        "])\n",
        "\n",
        "# Treinando o pipeline com os dados de treino\n",
        "final_pipeline.fit(X_train, y_train)\n",
        "\n",
        "# Fazendo previsões no conjunto de teste\n",
        "y_pred = final_pipeline.predict(X_test)\n",
        "\n",
        "# Avaliando o desempenho final\n",
        "accuracy_final = accuracy_score(y_test, y_pred)\n",
        "report = classification_report(y_test, y_pred)\n",
        "\n",
        "print(f\"\\nAcurácia no conjunto de teste: {accuracy_final:.4f}\\n\")\n",
        "print(\"Relatório de Classificação Detalhado:\")\n",
        "print(report)"
      ]
    },
    {
      "cell_type": "markdown",
      "id": "f1307226",
      "metadata": {
        "id": "f1307226"
      },
      "source": [
        "# 5 AVALIAÇÃO E OTIMIZAÇÃO DO MODELO\n",
        "## 5.1. ROC-AUC e RMSE"
      ]
    },
    {
      "cell_type": "code",
      "execution_count": null,
      "id": "0a9c639f",
      "metadata": {
        "id": "0a9c639f",
        "outputId": "e8557659-d270-4db2-b9b8-76221f636a63"
      },
      "outputs": [
        {
          "name": "stdout",
          "output_type": "stream",
          "text": [
            "ROC-AUC: 0.7916\n",
            "RMSE (probabilidades): 0.4303\n"
          ]
        },
        {
          "data": {
            "image/png": "[encoded data removed]",
            "text/plain": [
              "<Figure size 600x500 with 2 Axes>"
            ]
          },
          "metadata": {},
          "output_type": "display_data"
        }
      ],
      "source": [
        "# Item 1 — Avaliação essencial: ROC-AUC, RMSE de probabilidade e Matriz de Confusão\n",
        "\n",
        "\n",
        "# Usar o pipeline final já treinado\n",
        "pipeline_to_eval = final_pipeline\n",
        "X_eval, y_eval = X_test, y_test\n",
        "\n",
        "# Probabilidades e predições\n",
        "y_proba = pipeline_to_eval.predict_proba(X_eval)\n",
        "y_pred_eval = pipeline_to_eval.predict(X_eval)\n",
        "\n",
        "# Classes e cardinalidade\n",
        "classes = pipeline_to_eval.named_steps['classifier'].classes_\n",
        "n_classes = len(classes)\n",
        "\n",
        "# ROC-AUC (binário: único valor; multiclasse: macro)\n",
        "if n_classes == 2:\n",
        "    roc_auc_val = float(roc_auc_score(y_eval, y_proba[:, 1]))\n",
        "    print(f\"ROC-AUC: {roc_auc_val:.4f}\")\n",
        "else:\n",
        "    roc_auc_val = float(roc_auc_score(y_eval, y_proba, multi_class='ovr', average='macro'))\n",
        "    print(f\"ROC-AUC (macro): {roc_auc_val:.4f}\")\n",
        "\n",
        "# RMSE das probabilidades (funciona para binário e multiclasse)\n",
        "idx_map = {c: i for i, c in enumerate(classes)}\n",
        "Y_onehot = np.zeros_like(y_proba)\n",
        "for i, y_true in enumerate(y_eval):\n",
        "    Y_onehot[i, idx_map[y_true]] = 1\n",
        "rmse_prob = float(np.sqrt(((Y_onehot - y_proba) ** 2).mean()))\n",
        "print(f\"RMSE (probabilidades): {rmse_prob:.4f}\")\n",
        "\n",
        "# Matriz de confusão (normalizada) — eixos com o nome real da label\n",
        "fig, ax = plt.subplots(figsize=(6, 5))\n",
        "ConfusionMatrixDisplay.from_predictions(\n",
        "    y_eval,\n",
        "    y_pred_eval,\n",
        "    normalize='true',\n",
        "    cmap='Blues',\n",
        "    ax=ax\n",
        ")\n",
        "ax.set_title(\"Matriz de Confusão (Normalizada)\")\n",
        "# Usa TARGET quando disponível; caso contrário, mantém rótulos padrões\n",
        "try:\n",
        "    target_name = TARGET\n",
        "except NameError:\n",
        "    target_name = 'target'\n",
        "ax.set_xlabel(f\"Previsto ({target_name})\")\n",
        "ax.set_ylabel(f\"Verdadeiro ({target_name})\")\n",
        "plt.tight_layout()\n",
        "plt.show()\n",
        "\n",
        "# Variáveis auxiliares\n",
        "roc_auc_info = {'roc_auc': roc_auc_val}\n",
        "rmse_prob_final = rmse_prob\n",
        "y_pred_item1 = y_pred_eval"
      ]
    },
    {
      "cell_type": "markdown",
      "id": "832d4052",
      "metadata": {
        "id": "832d4052"
      },
      "source": [
        "## 5.2. Ajuste de Hiperparâmetros"
      ]
    },
    {
      "cell_type": "code",
      "execution_count": null,
      "id": "cf665e1b",
      "metadata": {
        "id": "cf665e1b",
        "outputId": "75dc9719-8bc1-427f-a8f1-6d2c6a66e67e"
      },
      "outputs": [
        {
          "name": "stdout",
          "output_type": "stream",
          "text": [
            "Modelo base: Regressão Logística\n",
            "Tamanho para tuning: (470241, 15) | CV folds: 3\n",
            "Baseline -> Acc teste: 0.7239 | ROC-AUC: 0.7916\n"
          ]
        }
      ],
      "source": [
        "# Item 2 — Ajuste de Hiperparâmetros (leve, dividido em etapas)\n",
        "\n",
        "\n",
        "# 2.1 — Setup leve de CV e amostragem estratificada (subconjunto para tuning)\n",
        "best_name = resultados_df.index[0]\n",
        "best_estimator = models[best_name]\n",
        "\n",
        "# Reduz CV para acelerar e diminuir consumo\n",
        "tune_cv = StratifiedKFold(n_splits=3, shuffle=True, random_state=42)\n",
        "\n",
        "# Usa apenas ~30% do conjunto de treino para a busca (estratificado)\n",
        "X_tune, _, y_tune, _ = train_test_split(\n",
        "    X_train,\n",
        "    y_train,\n",
        "    test_size=0.7,\n",
        "    random_state=42,\n",
        "    stratify=y_train,\n",
        ")\n",
        "\n",
        "print(f\"Modelo base: {best_name}\")\n",
        "print(f\"Tamanho para tuning: {X_tune.shape} | CV folds: {tune_cv.get_n_splits()}\")\n",
        "\n",
        "# Baseline: pipeline simples com o melhor modelo ANTES do tuning\n",
        "baseline_pipeline = Pipeline(steps=[('preprocessor', preprocessor), ('classifier', best_estimator)])\n",
        "baseline_pipeline.fit(X_train, y_train)\n",
        "\n",
        "# Métricas baseline no teste\n",
        "y_pred_base = baseline_pipeline.predict(X_test)\n",
        "baseline_acc_test = float(accuracy_score(y_test, y_pred_base))\n",
        "\n",
        "# ROC-AUC baseline (binário: único; multiclasse: macro)\n",
        "if hasattr(baseline_pipeline.named_steps['classifier'], 'predict_proba'):\n",
        "    y_proba_base = baseline_pipeline.predict_proba(X_test)\n",
        "    if y_proba_base.shape[1] == 2:\n",
        "        baseline_auc_test = float(roc_auc_score(y_test, y_proba_base[:, 1]))\n",
        "    else:\n",
        "        baseline_auc_test = float(roc_auc_score(y_test, y_proba_base, multi_class='ovr', average='macro'))\n",
        "else:\n",
        "    baseline_auc_test = None\n",
        "\n",
        "print(f\"Baseline -> Acc teste: {baseline_acc_test:.4f} | ROC-AUC: {baseline_auc_test:.4f}\" if baseline_auc_test is not None else f\"Baseline -> Acc teste: {baseline_acc_test:.4f} | ROC-AUC: N/A\")"
      ]
    },
    {
      "cell_type": "code",
      "execution_count": null,
      "id": "8ede768f",
      "metadata": {
        "id": "8ede768f",
        "outputId": "fdf6eda2-2dfb-477c-c953-6bb76eba60f7"
      },
      "outputs": [
        {
          "name": "stdout",
          "output_type": "stream",
          "text": [
            "Tipo de busca: random | Espaço: ['classifier__C', 'classifier__class_weight']\n"
          ]
        }
      ],
      "source": [
        "# 2.2 — Espaços de busca mínimos por modelo\n",
        "\n",
        "\n",
        "scoring = 'accuracy'\n",
        "\n",
        "if best_name.lower().startswith('regressão logística'):\n",
        "    search_kind = 'random'\n",
        "    estimator = Pipeline(steps=[('preprocessor', preprocessor), ('classifier', best_estimator)])\n",
        "    search_space = {\n",
        "        'classifier__C': loguniform(1e-2, 1e1),\n",
        "        'classifier__class_weight': [None, 'balanced']\n",
        "    }\n",
        "elif best_name.lower().startswith('árvore de decisão'):\n",
        "    search_kind = 'grid'\n",
        "    estimator = Pipeline(steps=[('preprocessor', preprocessor), ('classifier', best_estimator)])\n",
        "    search_space = {\n",
        "        'classifier__max_depth': [None, 10],\n",
        "        'classifier__min_samples_leaf': [1, 5]\n",
        "    }\n",
        "elif best_name.lower().startswith('knn'):\n",
        "    search_kind = 'random'\n",
        "    estimator = Pipeline(steps=[('preprocessor', preprocessor), ('classifier', best_estimator)])\n",
        "    search_space = {\n",
        "        'classifier__n_neighbors': randint(3, 35),\n",
        "        'classifier__weights': ['uniform', 'distance']\n",
        "    }\n",
        "else:\n",
        "    search_kind = 'grid'\n",
        "    estimator = Pipeline(steps=[('preprocessor', preprocessor), ('classifier', best_estimator)])\n",
        "    search_space = {}\n",
        "\n",
        "print(f\"Tipo de busca: {search_kind} | Espaço: {list(search_space.keys())}\")"
      ]
    },
    {
      "cell_type": "code",
      "execution_count": null,
      "id": "468e416a",
      "metadata": {
        "id": "468e416a",
        "outputId": "54b5dba0-c174-40e6-fcab-56e6049e2d8a"
      },
      "outputs": [
        {
          "name": "stdout",
          "output_type": "stream",
          "text": [
            "Fitting 3 folds for each of 8 candidates, totalling 24 fits\n",
            "Melhor (CV) 0.7228\n",
            "Parâmetros: {'classifier__C': np.float64(0.21751953118777648), 'classifier__class_weight': None}\n",
            "Acurácia teste: 0.7232 | ROC-AUC: 0.7909\n"
          ]
        }
      ],
      "source": [
        "# 2.3 — Rodar busca leve e atualizar o pipeline final\n",
        "if search_kind == 'random':\n",
        "    search = RandomizedSearchCV(\n",
        "        estimator,\n",
        "        param_distributions=search_space,\n",
        "        n_iter=8,\n",
        "        scoring=scoring,\n",
        "        cv=tune_cv,\n",
        "        n_jobs=-1,\n",
        "        random_state=42,\n",
        "        refit=True,\n",
        "        verbose=1\n",
        "    )\n",
        "elif search_kind == 'grid':\n",
        "    search = GridSearchCV(\n",
        "        estimator,\n",
        "        param_grid=search_space,\n",
        "        scoring=scoring,\n",
        "        cv=tune_cv,\n",
        "        n_jobs=-1,\n",
        "        refit=True,\n",
        "        verbose=1\n",
        "    )\n",
        "else:\n",
        "    search = None\n",
        "\n",
        "if search is not None:\n",
        "    search.fit(X_tune, y_tune)\n",
        "    final_pipeline = search.best_estimator_\n",
        "    print(\"Melhor (CV)\", f\"{search.best_score_:.4f}\")\n",
        "    print(\"Parâmetros:\", search.best_params_)\n",
        "\n",
        "    # Avaliar no teste completo\n",
        "    tuned_pred = final_pipeline.predict(X_test)\n",
        "    tuned_acc_test = float(accuracy_score(y_test, tuned_pred))\n",
        "\n",
        "    if hasattr(final_pipeline.named_steps['classifier'], 'predict_proba'):\n",
        "        tuned_proba = final_pipeline.predict_proba(X_test)\n",
        "        if tuned_proba.shape[1] == 2:\n",
        "            tuned_auc_test = float(roc_auc_score(y_test, tuned_proba[:, 1]))\n",
        "        else:\n",
        "            tuned_auc_test = float(roc_auc_score(y_test, tuned_proba, multi_class='ovr', average='macro'))\n",
        "    else:\n",
        "        tuned_auc_test = None\n",
        "\n",
        "    print(f\"Acurácia teste: {tuned_acc_test:.4f} | ROC-AUC: {tuned_auc_test:.4f}\" if tuned_auc_test is not None else f\"Acurácia teste: {tuned_acc_test:.4f} | ROC-AUC: N/A\")\n",
        "\n",
        "    # Atualiza referências globais\n",
        "    accuracy_final = tuned_acc_test\n",
        "    best_params = search.best_params_\n",
        "else:\n",
        "    print(\"Sem busca configurada para este modelo.\")"
      ]
    },
    {
      "cell_type": "markdown",
      "id": "33aa3db1",
      "metadata": {
        "id": "33aa3db1"
      },
      "source": [
        "## 5.3. Análise de erros e refinamento do pipeline"
      ]
    },
    {
      "cell_type": "code",
      "execution_count": null,
      "id": "7b83037f",
      "metadata": {
        "id": "7b83037f",
        "outputId": "3e141e68-44ae-4ffe-f81a-d43dcd084961"
      },
      "outputs": [
        {
          "name": "stdout",
          "output_type": "stream",
          "text": [
            "Relatório de Classificação (pós-tuning):\n",
            "\n",
            "              precision    recall  f1-score   support\n",
            "\n",
            "         0.0       0.70      0.78      0.74    197167\n",
            "         1.0       0.75      0.67      0.71    194701\n",
            "\n",
            "    accuracy                           0.72    391868\n",
            "   macro avg       0.73      0.72      0.72    391868\n",
            "weighted avg       0.73      0.72      0.72    391868\n",
            "\n",
            "\n",
            "Erros (primeiros até 10): índice | y_true -> y_pred\n",
            "0: 0.0 -> 1.0\n",
            "4: 1.0 -> 0.0\n",
            "8: 0.0 -> 1.0\n",
            "13: 1.0 -> 0.0\n",
            "18: 0.0 -> 1.0\n",
            "19: 0.0 -> 1.0\n",
            "20: 0.0 -> 1.0\n",
            "22: 1.0 -> 0.0\n",
            "23: 1.0 -> 0.0\n",
            "25: 0.0 -> 1.0\n"
          ]
        }
      ],
      "source": [
        "# Item 3 — Análise de erros\n",
        "\n",
        "\n",
        "# Relatório de classificação resumido\n",
        "print(\"Relatório de Classificação (pós-tuning):\\n\")\n",
        "print(classification_report(y_test, final_pipeline.predict(X_test)))\n",
        "\n",
        "# Amostras de erros (até 10)\n",
        "y_pred_now = final_pipeline.predict(X_test)\n",
        "err_idx = np.where(pd.Series(y_test).values != y_pred_now)[0][:10]\n",
        "if len(err_idx) > 0:\n",
        "    print(\"\\nErros (primeiros até 10): índice | y_true -> y_pred\")\n",
        "    for i in err_idx:\n",
        "        print(f\"{i}: {y_test.iloc[i]} -> {y_pred_now[i]}\")\n",
        "else:\n",
        "    print(\"\\nSem erros no teste.\")"
      ]
    },
    {
      "cell_type": "markdown",
      "id": "24fd466e",
      "metadata": {
        "id": "24fd466e"
      },
      "source": [
        "## 5.4. Preparação para exportação e reuso do modelo\n",
        "\n",
        "Nesta etapa vamos:\n",
        "- Persistir o `final_pipeline` (pré-processamento + classificador) com `joblib`.\n",
        "- Salvar metadados (modelo, data/hora, métricas principais, classes, versão do sklearn).\n",
        "- Mostrar um exemplo de como carregar e usar o modelo salvo para previsões.\n",
        "\n",
        "Em produção, garanta que o schema de entrada (colunas e tipos) seja compatível com o usado no treino. Opcionalmente, inclua validações de schema antes de prever."
      ]
    },
    {
      "cell_type": "code",
      "execution_count": null,
      "id": "8a076924",
      "metadata": {
        "id": "8a076924",
        "outputId": "6b1a8096-5eec-4242-f000-0875145223ed"
      },
      "outputs": [
        {
          "name": "stdout",
          "output_type": "stream",
          "text": [
            "Modelo salvo em: exported_model\\modelo_final.joblib\n",
            "Metadados salvos em: exported_model\\modelo_final_meta.json\n",
            "Pipeline carregado. Exemplo de uso (primeiras 3 linhas do X_test):\n",
            "Predições: [1. 1. 0.]\n",
            "Probabilidades: [[0.30817634 0.69182366]\n",
            " [0.03973532 0.96026468]\n",
            " [0.69506426 0.30493574]]\n"
          ]
        },
        {
          "name": "stderr",
          "output_type": "stream",
          "text": [
            "C:\\Users\\matheus\\AppData\\Local\\Temp\\ipykernel_17800\\3031174271.py:24: DeprecationWarning: datetime.datetime.utcnow() is deprecated and scheduled for removal in a future version. Use timezone-aware objects to represent datetimes in UTC: datetime.datetime.now(datetime.UTC).\n",
            "  'saved_at': datetime.utcnow().isoformat() + 'Z',\n"
          ]
        }
      ],
      "source": [
        "# Exportação do pipeline e metadados + exemplo de carga/uso\n",
        "\n",
        "\n",
        "export_dir = Path(r\"exported_model\")\n",
        "export_dir.mkdir(parents=True, exist_ok=True)\n",
        "\n",
        "model_path = export_dir / 'modelo_final.joblib'\n",
        "meta_path = export_dir / 'modelo_final_meta.json'\n",
        "\n",
        "# Coleta de métricas principais disponíveis\n",
        "metrics_export = {\n",
        "    'accuracy_test': float(accuracy_final) if 'accuracy_final' in globals() else None,\n",
        "    'roc_auc': roc_auc_info.get('roc_auc') if 'roc_auc_info' in globals() else None,\n",
        "    'roc_auc_macro': roc_auc_info.get('roc_auc_macro') if 'roc_auc_info' in globals() else None,\n",
        "    'roc_auc_weighted': roc_auc_info.get('roc_auc_weighted') if 'roc_auc_info' in globals() else None,\n",
        "    'rmse_prob': float(rmse_prob_final) if 'rmse_prob_final' in globals() else None\n",
        "}\n",
        "\n",
        "# Persistência do pipeline completo\n",
        "joblib.dump(final_pipeline, model_path)\n",
        "\n",
        "# Metadados\n",
        "metadata = {\n",
        "    'saved_at': datetime.utcnow().isoformat() + 'Z',\n",
        "    'best_model_name': resultados_df.index[0] if 'resultados_df' in globals() else None,\n",
        "    'best_params': best_params if 'best_params' in globals() else None,\n",
        "    'classes': final_pipeline.named_steps['classifier'].classes_.tolist(),\n",
        "    'sklearn_version': sklearn.__version__,\n",
        "    'metrics': metrics_export\n",
        "}\n",
        "meta_path.write_text(json.dumps(metadata, ensure_ascii=False, indent=2), encoding='utf-8')\n",
        "\n",
        "print(f\"Modelo salvo em: {model_path}\")\n",
        "print(f\"Metadados salvos em: {meta_path}\")\n",
        "\n",
        "# Exemplo de carga e uso\n",
        "loaded_pipeline = joblib.load(model_path)\n",
        "print(\"Pipeline carregado. Exemplo de uso (primeiras 3 linhas do X_test):\")\n",
        "if 'X_test' in globals():\n",
        "    X_small_example = X_test.iloc[:3].copy()\n",
        "    print(\"Predições:\", loaded_pipeline.predict(X_small_example))\n",
        "    if hasattr(loaded_pipeline.named_steps['classifier'], 'predict_proba'):\n",
        "        print(\"Probabilidades:\", loaded_pipeline.predict_proba(X_small_example))\n"
      ]
    }
  ],
  "metadata": {
    "colab": {
      "provenance": []
    },
    "kernelspec": {
      "display_name": "Python 3",
      "language": "python",
      "name": "python3"
    },
    "language_info": {
      "codemirror_mode": {
        "name": "ipython",
        "version": 3
      },
      "file_extension": ".py",
      "mimetype": "text/x-python",
      "name": "python",
      "nbconvert_exporter": "python",
      "pygments_lexer": "ipython3",
      "version": "3.13.6"
    }
  },
  "nbformat": 4,
  "nbformat_minor": 5
}